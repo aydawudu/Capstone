{
  "cells": [
    {
      "cell_type": "markdown",
      "source": [
        "# Automated ML\n",
        "\n",
        "TODO: Import Dependencies. In the cell below, import all the dependencies that you will need to complete the project."
      ],
      "metadata": {}
    },
    {
      "cell_type": "code",
      "source": [
        "import logging\r\n",
        "import os \r\n",
        "import csv\r\n",
        "\r\n",
        "from matplotlib import pyplot as plt \r\n",
        "import numpy as np\r\n",
        "import pandas as pd \r\n",
        "from sklearn import datasets \r\n",
        "import pkg_resources\r\n",
        "\r\n",
        "import azureml.core\r\n",
        "from azureml.core.experiment import Experiment\r\n",
        "from azureml.core.workspace import Workspace\r\n",
        "from azureml.train.automl import AutoMLConfig\r\n",
        "from azureml.core.dataset import Dataset \r\n",
        "\r\n",
        "\r\n",
        "from azureml.pipeline.steps import AutoMLStep\r\n",
        "\r\n",
        "print (\"SDK version:\", azureml.core.VERSION)\r\n"
      ],
      "outputs": [
        {
          "output_type": "stream",
          "name": "stdout",
          "text": "SDK version: 1.38.0\n"
        }
      ],
      "execution_count": 1,
      "metadata": {
        "gather": {
          "logged": 1645908158538
        },
        "jupyter": {
          "outputs_hidden": false,
          "source_hidden": false
        },
        "nteract": {
          "transient": {
            "deleting": false
          }
        }
      }
    },
    {
      "cell_type": "markdown",
      "source": [
        "## Dataset\n",
        "\n",
        "### Overview\n",
        "TODO: In this markdown cell, give an overview of the dataset you are using. Also mention the task you will be performing.\n",
        "\n",
        "\n",
        "TODO: Get data. In the cell below, write code to access the data you will be using in this project. Remember that the dataset needs to be external."
      ],
      "metadata": {}
    },
    {
      "cell_type": "code",
      "source": [
        "ws = Workspace.from_config()\n",
        "print(ws.name, ws.resource_group, ws.location, ws.subscription_id, sep='\\n')\n",
        "\n",
        "# choose a name for experiment\n",
        "experiment_name = 'heartcheck'\n",
        "project_folder='./project'\n",
        "\n",
        "experiment=Experiment(ws, experiment_name)\n",
        "experiment"
      ],
      "outputs": [
        {
          "output_type": "stream",
          "name": "stdout",
          "text": "quick-starts-ws-187591\naml-quickstarts-187591\nsouthcentralus\nd4ad7261-832d-46b2-b093-22156001df5b\n"
        },
        {
          "output_type": "execute_result",
          "execution_count": 2,
          "data": {
            "text/plain": "Experiment(Name: heartcheck,\nWorkspace: quick-starts-ws-187591)",
            "text/html": "<table style=\"width:100%\"><tr><th>Name</th><th>Workspace</th><th>Report Page</th><th>Docs Page</th></tr><tr><td>heartcheck</td><td>quick-starts-ws-187591</td><td><a href=\"https://ml.azure.com/experiments/id/f5587165-e85e-4d63-85f9-1a27592c05fd?wsid=/subscriptions/d4ad7261-832d-46b2-b093-22156001df5b/resourcegroups/aml-quickstarts-187591/workspaces/quick-starts-ws-187591&amp;tid=660b3398-b80e-49d2-bc5b-ac1dc93b5254\" target=\"_blank\" rel=\"noopener\">Link to Azure Machine Learning studio</a></td><td><a href=\"https://docs.microsoft.com/en-us/python/api/azureml-core/azureml.core.experiment.Experiment?view=azure-ml-py\" target=\"_blank\" rel=\"noopener\">Link to Documentation</a></td></tr></table>"
          },
          "metadata": {}
        }
      ],
      "execution_count": 2,
      "metadata": {
        "gather": {
          "logged": 1645908170366
        },
        "jupyter": {
          "outputs_hidden": false,
          "source_hidden": false
        },
        "nteract": {
          "transient": {
            "deleting": false
          }
        }
      }
    },
    {
      "cell_type": "code",
      "source": [
        "from azureml.core.compute import AmlCompute\r\n",
        "from azureml.core.compute import ComputeTarget\r\n",
        "from azureml.core.compute_target import ComputeTargetException\r\n",
        "\r\n",
        "amlcompute_cluster_name='automl'\r\n",
        "\r\n",
        "try: \r\n",
        "    aml_compute= ComputeTarget(workspace=ws, name=amlcompute_cluster_name)\r\n",
        "    print('Found existing cluster, use it.')\r\n",
        "except ComputeTargetException:\r\n",
        "    compute_config=AmlCompute.provisioning_configuration(vm_size='STANDARD_D2_V2',\r\n",
        "                                                          max_nodes=4)\r\n",
        "    aml_compute=ComputeTarget.create(ws, amlcompute_cluster_name, compute_config)\r\n",
        "\r\n",
        "aml_compute.wait_for_completion(show_output=True, min_node_count=1, timeout_in_minutes=10)"
      ],
      "outputs": [
        {
          "output_type": "stream",
          "name": "stdout",
          "text": "Found existing cluster, use it.\nSucceeded......................................................................................................................\nAmlCompute wait for completion finished\n\nWait timeout has been reached\nCurrent provisioning state of AmlCompute is \"Succeeded\" and current node count is \"0\"\n"
        }
      ],
      "execution_count": 3,
      "metadata": {
        "jupyter": {
          "source_hidden": false,
          "outputs_hidden": false
        },
        "nteract": {
          "transient": {
            "deleting": false
          }
        },
        "gather": {
          "logged": 1645908780826
        }
      }
    },
    {
      "cell_type": "code",
      "source": [
        "# azureml-core of version 1.0.72 or higher is required\r\n",
        "# azureml-dataprep[pandas] of version 1.1.34 or higher is required\r\n",
        "from azureml.core import Workspace, Dataset\r\n",
        "\r\n",
        "subscription_id = 'd4ad7261-832d-46b2-b093-22156001df5b'\r\n",
        "resource_group = 'aml-quickstarts-187591'\r\n",
        "workspace_name = 'quick-starts-ws-187591'\r\n",
        "\r\n",
        "workspace = Workspace(subscription_id, resource_group, workspace_name)\r\n",
        "\r\n",
        "dataset = Dataset.get_by_name(workspace, name='heart')\r\n",
        "dataset.to_pandas_dataframe()"
      ],
      "outputs": [
        {
          "output_type": "execute_result",
          "execution_count": 4,
          "data": {
            "text/plain": "      age  anaemia  creatinine_phosphokinase  diabetes  ejection_fraction  \\\n0    75.0        0                       582         0                 20   \n1    55.0        0                      7861         0                 38   \n2    65.0        0                       146         0                 20   \n3    50.0        1                       111         0                 20   \n4    65.0        1                       160         1                 20   \n..    ...      ...                       ...       ...                ...   \n294  62.0        0                        61         1                 38   \n295  55.0        0                      1820         0                 38   \n296  45.0        0                      2060         1                 60   \n297  45.0        0                      2413         0                 38   \n298  50.0        0                       196         0                 45   \n\n     high_blood_pressure  platelets  serum_creatinine  serum_sodium  sex  \\\n0                      1  265000.00               1.9           130    1   \n1                      0  263358.03               1.1           136    1   \n2                      0  162000.00               1.3           129    1   \n3                      0  210000.00               1.9           137    1   \n4                      0  327000.00               2.7           116    0   \n..                   ...        ...               ...           ...  ...   \n294                    1  155000.00               1.1           143    1   \n295                    0  270000.00               1.2           139    0   \n296                    0  742000.00               0.8           138    0   \n297                    0  140000.00               1.4           140    1   \n298                    0  395000.00               1.6           136    1   \n\n     smoking  time  DEATH_EVENT  \n0          0     4            1  \n1          0     6            1  \n2          1     7            1  \n3          0     7            1  \n4          0     8            1  \n..       ...   ...          ...  \n294        1   270            0  \n295        0   271            0  \n296        0   278            0  \n297        1   280            0  \n298        1   285            0  \n\n[299 rows x 13 columns]",
            "text/html": "<div>\n<style scoped>\n    .dataframe tbody tr th:only-of-type {\n        vertical-align: middle;\n    }\n\n    .dataframe tbody tr th {\n        vertical-align: top;\n    }\n\n    .dataframe thead th {\n        text-align: right;\n    }\n</style>\n<table border=\"1\" class=\"dataframe\">\n  <thead>\n    <tr style=\"text-align: right;\">\n      <th></th>\n      <th>age</th>\n      <th>anaemia</th>\n      <th>creatinine_phosphokinase</th>\n      <th>diabetes</th>\n      <th>ejection_fraction</th>\n      <th>high_blood_pressure</th>\n      <th>platelets</th>\n      <th>serum_creatinine</th>\n      <th>serum_sodium</th>\n      <th>sex</th>\n      <th>smoking</th>\n      <th>time</th>\n      <th>DEATH_EVENT</th>\n    </tr>\n  </thead>\n  <tbody>\n    <tr>\n      <th>0</th>\n      <td>75.0</td>\n      <td>0</td>\n      <td>582</td>\n      <td>0</td>\n      <td>20</td>\n      <td>1</td>\n      <td>265000.00</td>\n      <td>1.9</td>\n      <td>130</td>\n      <td>1</td>\n      <td>0</td>\n      <td>4</td>\n      <td>1</td>\n    </tr>\n    <tr>\n      <th>1</th>\n      <td>55.0</td>\n      <td>0</td>\n      <td>7861</td>\n      <td>0</td>\n      <td>38</td>\n      <td>0</td>\n      <td>263358.03</td>\n      <td>1.1</td>\n      <td>136</td>\n      <td>1</td>\n      <td>0</td>\n      <td>6</td>\n      <td>1</td>\n    </tr>\n    <tr>\n      <th>2</th>\n      <td>65.0</td>\n      <td>0</td>\n      <td>146</td>\n      <td>0</td>\n      <td>20</td>\n      <td>0</td>\n      <td>162000.00</td>\n      <td>1.3</td>\n      <td>129</td>\n      <td>1</td>\n      <td>1</td>\n      <td>7</td>\n      <td>1</td>\n    </tr>\n    <tr>\n      <th>3</th>\n      <td>50.0</td>\n      <td>1</td>\n      <td>111</td>\n      <td>0</td>\n      <td>20</td>\n      <td>0</td>\n      <td>210000.00</td>\n      <td>1.9</td>\n      <td>137</td>\n      <td>1</td>\n      <td>0</td>\n      <td>7</td>\n      <td>1</td>\n    </tr>\n    <tr>\n      <th>4</th>\n      <td>65.0</td>\n      <td>1</td>\n      <td>160</td>\n      <td>1</td>\n      <td>20</td>\n      <td>0</td>\n      <td>327000.00</td>\n      <td>2.7</td>\n      <td>116</td>\n      <td>0</td>\n      <td>0</td>\n      <td>8</td>\n      <td>1</td>\n    </tr>\n    <tr>\n      <th>...</th>\n      <td>...</td>\n      <td>...</td>\n      <td>...</td>\n      <td>...</td>\n      <td>...</td>\n      <td>...</td>\n      <td>...</td>\n      <td>...</td>\n      <td>...</td>\n      <td>...</td>\n      <td>...</td>\n      <td>...</td>\n      <td>...</td>\n    </tr>\n    <tr>\n      <th>294</th>\n      <td>62.0</td>\n      <td>0</td>\n      <td>61</td>\n      <td>1</td>\n      <td>38</td>\n      <td>1</td>\n      <td>155000.00</td>\n      <td>1.1</td>\n      <td>143</td>\n      <td>1</td>\n      <td>1</td>\n      <td>270</td>\n      <td>0</td>\n    </tr>\n    <tr>\n      <th>295</th>\n      <td>55.0</td>\n      <td>0</td>\n      <td>1820</td>\n      <td>0</td>\n      <td>38</td>\n      <td>0</td>\n      <td>270000.00</td>\n      <td>1.2</td>\n      <td>139</td>\n      <td>0</td>\n      <td>0</td>\n      <td>271</td>\n      <td>0</td>\n    </tr>\n    <tr>\n      <th>296</th>\n      <td>45.0</td>\n      <td>0</td>\n      <td>2060</td>\n      <td>1</td>\n      <td>60</td>\n      <td>0</td>\n      <td>742000.00</td>\n      <td>0.8</td>\n      <td>138</td>\n      <td>0</td>\n      <td>0</td>\n      <td>278</td>\n      <td>0</td>\n    </tr>\n    <tr>\n      <th>297</th>\n      <td>45.0</td>\n      <td>0</td>\n      <td>2413</td>\n      <td>0</td>\n      <td>38</td>\n      <td>0</td>\n      <td>140000.00</td>\n      <td>1.4</td>\n      <td>140</td>\n      <td>1</td>\n      <td>1</td>\n      <td>280</td>\n      <td>0</td>\n    </tr>\n    <tr>\n      <th>298</th>\n      <td>50.0</td>\n      <td>0</td>\n      <td>196</td>\n      <td>0</td>\n      <td>45</td>\n      <td>0</td>\n      <td>395000.00</td>\n      <td>1.6</td>\n      <td>136</td>\n      <td>1</td>\n      <td>1</td>\n      <td>285</td>\n      <td>0</td>\n    </tr>\n  </tbody>\n</table>\n<p>299 rows × 13 columns</p>\n</div>"
          },
          "metadata": {}
        }
      ],
      "execution_count": 4,
      "metadata": {
        "jupyter": {
          "source_hidden": false,
          "outputs_hidden": false
        },
        "nteract": {
          "transient": {
            "deleting": false
          }
        },
        "gather": {
          "logged": 1645908800862
        }
      }
    },
    {
      "cell_type": "markdown",
      "source": [
        "## AutoML Configuration\n",
        "\n",
        "TODO: Explain why you chose the automl settings and cofiguration you used below."
      ],
      "metadata": {}
    },
    {
      "cell_type": "code",
      "source": [
        "automl_settings = {\n",
        "    \"experiment_timeout_minutes\": 20,\n",
        "    \"max_concurrent_iterations\": 5,\n",
        "    \"primary_metric\" : 'AUC_weighted'\n",
        "}\n",
        "automl_config = AutoMLConfig(compute_target=aml_compute,\n",
        "                             task = \"classification\",\n",
        "                             training_data=dataset,\n",
        "                             label_column_name=\"DEATH_EVENT\",   \n",
        "                             path = project_folder,\n",
        "                             enable_early_stopping= True,\n",
        "                             featurization= 'auto',\n",
        "                             debug_log = \"automl_errors.log\",\n",
        "                             **automl_settings\n",
        "                            )"
      ],
      "outputs": [],
      "execution_count": 5,
      "metadata": {
        "gather": {
          "logged": 1645908812962
        },
        "jupyter": {
          "outputs_hidden": false,
          "source_hidden": false
        },
        "nteract": {
          "transient": {
            "deleting": false
          }
        }
      }
    },
    {
      "cell_type": "code",
      "source": [
        "# TODO: Submit your experiment\n",
        "remote_run = experiment.submit(automl_config)"
      ],
      "outputs": [
        {
          "output_type": "stream",
          "name": "stdout",
          "text": "Submitting remote run.\n"
        },
        {
          "output_type": "display_data",
          "data": {
            "text/plain": "<IPython.core.display.HTML object>",
            "text/html": "<table style=\"width:100%\"><tr><th>Experiment</th><th>Id</th><th>Type</th><th>Status</th><th>Details Page</th><th>Docs Page</th></tr><tr><td>heartcheck</td><td>AutoML_975a4537-b1ad-4faf-b244-1009a3757e03</td><td>automl</td><td>NotStarted</td><td><a href=\"https://ml.azure.com/runs/AutoML_975a4537-b1ad-4faf-b244-1009a3757e03?wsid=/subscriptions/d4ad7261-832d-46b2-b093-22156001df5b/resourcegroups/aml-quickstarts-187591/workspaces/quick-starts-ws-187591&amp;tid=660b3398-b80e-49d2-bc5b-ac1dc93b5254\" target=\"_blank\" rel=\"noopener\">Link to Azure Machine Learning studio</a></td><td><a href=\"https://docs.microsoft.com/en-us/python/api/overview/azure/ml/intro?view=azure-ml-py\" target=\"_blank\" rel=\"noopener\">Link to Documentation</a></td></tr></table>"
          },
          "metadata": {}
        }
      ],
      "execution_count": 6,
      "metadata": {
        "gather": {
          "logged": 1645908836970
        },
        "jupyter": {
          "outputs_hidden": false,
          "source_hidden": false
        },
        "nteract": {
          "transient": {
            "deleting": false
          }
        }
      }
    },
    {
      "cell_type": "code",
      "source": [
        "remote_run.wait_for_completion(show_output=True)"
      ],
      "outputs": [
        {
          "output_type": "display_data",
          "data": {
            "text/plain": "<IPython.core.display.HTML object>",
            "text/html": "<table style=\"width:100%\"><tr><th>Experiment</th><th>Id</th><th>Type</th><th>Status</th><th>Details Page</th><th>Docs Page</th></tr><tr><td>heartcheck</td><td>AutoML_975a4537-b1ad-4faf-b244-1009a3757e03</td><td>automl</td><td>NotStarted</td><td><a href=\"https://ml.azure.com/runs/AutoML_975a4537-b1ad-4faf-b244-1009a3757e03?wsid=/subscriptions/d4ad7261-832d-46b2-b093-22156001df5b/resourcegroups/aml-quickstarts-187591/workspaces/quick-starts-ws-187591&amp;tid=660b3398-b80e-49d2-bc5b-ac1dc93b5254\" target=\"_blank\" rel=\"noopener\">Link to Azure Machine Learning studio</a></td><td><a href=\"https://docs.microsoft.com/en-us/python/api/overview/azure/ml/intro?view=azure-ml-py\" target=\"_blank\" rel=\"noopener\">Link to Documentation</a></td></tr></table>"
          },
          "metadata": {}
        },
        {
          "output_type": "stream",
          "name": "stdout",
          "text": "\nCurrent status: FeaturesGeneration. Generating features for the dataset.\nCurrent status: DatasetCrossValidationSplit. Generating individually featurized CV splits.\nCurrent status: ModelSelection. Beginning model selection.\n\n********************************************************************************************\nDATA GUARDRAILS: \n\nTYPE:         Cross validation\nSTATUS:       DONE\nDESCRIPTION:  Each iteration of the trained model was validated through cross-validation.\n              \nDETAILS:      \n+------------------------------+\n|Number of folds               |\n+==============================+\n|10                            |\n+------------------------------+\n\n********************************************************************************************\n\nTYPE:         Class balancing detection\nSTATUS:       PASSED\nDESCRIPTION:  Your inputs were analyzed, and all classes are balanced in your training data.\n              Learn more about imbalanced data: https://aka.ms/AutomatedMLImbalancedData\n\n********************************************************************************************\n\nTYPE:         Missing feature values imputation\nSTATUS:       PASSED\nDESCRIPTION:  No feature missing values were detected in the training data.\n              Learn more about missing value imputation: https://aka.ms/AutomatedMLFeaturization\n\n********************************************************************************************\n\nTYPE:         High cardinality feature detection\nSTATUS:       PASSED\nDESCRIPTION:  Your inputs were analyzed, and no high cardinality features were detected.\n              Learn more about high cardinality feature handling: https://aka.ms/AutomatedMLFeaturization\n\n********************************************************************************************\n\n********************************************************************************************\nITER: The iteration being evaluated.\nPIPELINE: A summary description of the pipeline being evaluated.\nDURATION: Time taken for the current iteration.\nMETRIC: The result of computing score on the fitted pipeline.\nBEST: The best observed score thus far.\n********************************************************************************************\n\n ITER   PIPELINE                                       DURATION            METRIC      BEST\n    0   MaxAbsScaler LightGBM                          0:00:09             0.8831    0.8831\n    1   MaxAbsScaler XGBoostClassifier                 0:00:09             0.8847    0.8847\n    2   MaxAbsScaler ExtremeRandomTrees                0:00:08             0.8810    0.8847\n    3   MaxAbsScaler RandomForest                      0:00:09             0.8936    0.8936\n    4   StandardScalerWrapper LightGBM                 0:00:08             0.9029    0.9029\n    5   StandardScalerWrapper KNN                      0:00:08             0.5059    0.9029\n    6   SparseNormalizer XGBoostClassifier             0:00:08             0.8672    0.9029\n    7   SparseNormalizer RandomForest                  0:00:11             0.8973    0.9029\n    8   RobustScaler KNN                               0:00:08             0.8333    0.9029\n   10   StandardScalerWrapper LogisticRegression       0:00:10             0.8638    0.9029\n    9   MinMaxScaler RandomForest                      0:00:09             0.8987    0.9029\n   11   StandardScalerWrapper SVM                      0:00:08             0.7996    0.9029\n   12   StandardScalerWrapper XGBoostClassifier        0:00:08             0.8845    0.9029\n   13   SparseNormalizer KNN                           0:00:08             0.7464    0.9029\n   14   RobustScaler ExtremeRandomTrees                0:00:09             0.8880    0.9029\n   15   SparseNormalizer XGBoostClassifier             0:00:08             0.8623    0.9029\n   20   StandardScalerWrapper XGBoostClassifier        0:00:04             0.8961    0.9029\n   16   MinMaxScaler ExtremeRandomTrees                0:00:09             0.9076    0.9076\n   17   MinMaxScaler ExtremeRandomTrees                0:00:09             0.8983    0.9076\n   18   SparseNormalizer LightGBM                      0:00:08             0.8854    0.9076\n   19   MaxAbsScaler ExtremeRandomTrees                0:00:15             0.8698    0.9076\n   22   MaxAbsScaler LightGBM                          0:00:04             0.8982    0.9076\n   21   StandardScalerWrapper RandomForest             0:00:04             0.9020    0.9076\n   23   MaxAbsScaler LogisticRegression                0:00:04             0.8674    0.9076\n   24   StandardScalerWrapper ExtremeRandomTrees       0:00:04             0.9090    0.9090\n   25   RobustScaler ExtremeRandomTrees                0:00:04             0.7052    0.9090\n   26   StandardScalerWrapper LogisticRegression       0:00:04             0.8714    0.9090\n   27   MinMaxScaler RandomForest                      0:00:04             0.9124    0.9124\n   28   StandardScalerWrapper ExtremeRandomTrees       0:00:04             0.8813    0.9124\n   29   MaxAbsScaler ExtremeRandomTrees                0:00:04             0.8790    0.9124\n   30   StandardScalerWrapper ExtremeRandomTrees       0:00:04             0.7495    0.9124\n   31   StandardScalerWrapper SVM                      0:00:04             0.8464    0.9124\n   32   StandardScalerWrapper XGBoostClassifier        0:00:04             0.8982    0.9124\n   33   RobustScaler SVM                               0:00:04             0.8122    0.9124\n   34   RobustScaler SVM                               0:00:04             0.8590    0.9124\n   35   MaxAbsScaler RandomForest                      0:00:04             0.8890    0.9124\n   36   StandardScalerWrapper SVM                      0:00:04             0.8687    0.9124\n   37   StandardScalerWrapper XGBoostClassifier        0:00:04             0.9052    0.9124\n   38   StandardScalerWrapper XGBoostClassifier        0:00:04             0.9119    0.9124\n   39   MaxAbsScaler RandomForest                      0:00:04             0.9086    0.9124\n   40   MinMaxScaler RandomForest                      0:00:04             0.9028    0.9124\n   41   StandardScalerWrapper XGBoostClassifier        0:00:04             0.9021    0.9124\n   42                                                  0:00:00                nan    0.9124\n   43                                                  0:00:00                nan    0.9124\n   44                                                  0:00:00                nan    0.9124\n   45                                                  0:00:00                nan    0.9124\n   46    VotingEnsemble                                0:00:04             0.9229    0.9229\n   47    StackEnsemble                                 0:00:04             0.9172    0.9229\n"
        },
        {
          "output_type": "execute_result",
          "execution_count": 7,
          "data": {
            "text/plain": "{'runId': 'AutoML_975a4537-b1ad-4faf-b244-1009a3757e03',\n 'target': 'automl',\n 'status': 'Completed',\n 'startTimeUtc': '2022-02-26T20:54:10.617667Z',\n 'endTimeUtc': '2022-02-26T21:20:15.017966Z',\n 'services': {},\n 'properties': {'num_iterations': '1000',\n  'training_type': 'TrainFull',\n  'acquisition_function': 'EI',\n  'primary_metric': 'AUC_weighted',\n  'train_split': '0',\n  'acquisition_parameter': '0',\n  'num_cross_validation': None,\n  'target': 'automl',\n  'AMLSettingsJsonString': '{\"path\":null,\"name\":\"heartcheck\",\"subscription_id\":\"d4ad7261-832d-46b2-b093-22156001df5b\",\"resource_group\":\"aml-quickstarts-187591\",\"workspace_name\":\"quick-starts-ws-187591\",\"region\":\"southcentralus\",\"compute_target\":\"automl\",\"spark_service\":null,\"azure_service\":\"remote\",\"many_models\":false,\"pipeline_fetch_max_batch_size\":1,\"enable_batch_run\":true,\"enable_run_restructure\":false,\"start_auxiliary_runs_before_parent_complete\":false,\"enable_code_generation\":false,\"iterations\":1000,\"primary_metric\":\"AUC_weighted\",\"task_type\":\"classification\",\"positive_label\":null,\"data_script\":null,\"test_size\":0.0,\"test_include_predictions_only\":false,\"validation_size\":0.0,\"n_cross_validations\":null,\"y_min\":null,\"y_max\":null,\"num_classes\":null,\"featurization\":\"auto\",\"_ignore_package_version_incompatibilities\":false,\"is_timeseries\":false,\"max_cores_per_iteration\":1,\"max_concurrent_iterations\":5,\"iteration_timeout_minutes\":null,\"mem_in_mb\":null,\"enforce_time_on_windows\":false,\"experiment_timeout_minutes\":20,\"experiment_exit_score\":null,\"whitelist_models\":null,\"blacklist_algos\":[\"TensorFlowLinearClassifier\",\"TensorFlowDNN\"],\"supported_models\":[\"LinearSVM\",\"TabnetClassifier\",\"RandomForest\",\"DecisionTree\",\"KNN\",\"XGBoostClassifier\",\"SGD\",\"TensorFlowDNN\",\"AveragedPerceptronClassifier\",\"MultinomialNaiveBayes\",\"LogisticRegression\",\"TensorFlowLinearClassifier\",\"GradientBoosting\",\"BernoulliNaiveBayes\",\"ExtremeRandomTrees\",\"SVM\",\"LightGBM\"],\"private_models\":[],\"auto_blacklist\":true,\"blacklist_samples_reached\":false,\"exclude_nan_labels\":true,\"verbosity\":20,\"_debug_log\":\"azureml_automl.log\",\"show_warnings\":false,\"model_explainability\":true,\"service_url\":null,\"sdk_url\":null,\"sdk_packages\":null,\"enable_onnx_compatible_models\":false,\"enable_split_onnx_featurizer_estimator_models\":false,\"vm_type\":\"STANDARD_D2_V2\",\"telemetry_verbosity\":20,\"send_telemetry\":true,\"enable_dnn\":false,\"scenario\":\"SDK-1.13.0\",\"environment_label\":null,\"save_mlflow\":false,\"enable_categorical_indicators\":false,\"force_text_dnn\":false,\"enable_feature_sweeping\":true,\"enable_early_stopping\":true,\"early_stopping_n_iters\":10,\"arguments\":null,\"dataset_id\":null,\"hyperdrive_config\":null,\"validation_dataset_id\":null,\"run_source\":null,\"metrics\":null,\"enable_metric_confidence\":false,\"enable_ensembling\":true,\"enable_stack_ensembling\":true,\"ensemble_iterations\":15,\"enable_tf\":false,\"enable_subsampling\":null,\"subsample_seed\":null,\"enable_nimbusml\":false,\"enable_streaming\":false,\"force_streaming\":false,\"track_child_runs\":true,\"allowed_private_models\":[],\"label_column_name\":\"DEATH_EVENT\",\"weight_column_name\":null,\"cv_split_column_names\":null,\"enable_local_managed\":false,\"_local_managed_run_id\":null,\"cost_mode\":1,\"lag_length\":0,\"metric_operation\":\"maximize\",\"preprocess\":true}',\n  'DataPrepJsonString': '{\\\\\"training_data\\\\\": {\\\\\"datasetId\\\\\": \\\\\"eee4db27-8346-446e-8166-0fd9e714ae8d\\\\\"}, \\\\\"datasets\\\\\": 0}',\n  'EnableSubsampling': None,\n  'runTemplate': 'AutoML',\n  'azureml.runsource': 'automl',\n  'display_task_type': 'classification',\n  'dependencies_versions': '{\"azureml-widgets\": \"1.38.0\", \"azureml-train\": \"1.38.0\", \"azureml-train-restclients-hyperdrive\": \"1.38.0\", \"azureml-train-core\": \"1.38.0\", \"azureml-train-automl-client\": \"1.38.0\", \"azureml-tensorboard\": \"1.38.0\", \"azureml-telemetry\": \"1.38.0\", \"azureml-sdk\": \"1.38.0\", \"azureml-samples\": \"0+unknown\", \"azureml-responsibleai\": \"1.38.0\", \"azureml-pipeline\": \"1.38.0\", \"azureml-pipeline-steps\": \"1.38.0\", \"azureml-pipeline-core\": \"1.38.0\", \"azureml-opendatasets\": \"1.38.0\", \"azureml-mlflow\": \"1.38.0\", \"azureml-interpret\": \"1.38.0\", \"azureml-inference-server-http\": \"0.4.2\", \"azureml-explain-model\": \"1.38.0\", \"azureml-defaults\": \"1.38.0\", \"azureml-dataset-runtime\": \"1.38.0\", \"azureml-dataprep\": \"2.26.0\", \"azureml-dataprep-rslex\": \"2.2.0\", \"azureml-dataprep-native\": \"38.0.0\", \"azureml-datadrift\": \"1.38.0\", \"azureml-core\": \"1.38.0\", \"azureml-contrib-services\": \"1.38.0\", \"azureml-contrib-server\": \"1.38.0\", \"azureml-contrib-reinforcementlearning\": \"1.38.0\", \"azureml-contrib-pipeline-steps\": \"1.38.0\", \"azureml-contrib-notebook\": \"1.38.0\", \"azureml-contrib-fairness\": \"1.38.0\", \"azureml-contrib-dataset\": \"1.38.0\", \"azureml-cli-common\": \"1.38.0\", \"azureml-automl-core\": \"1.38.0\", \"azureml-accel-models\": \"1.38.0\"}',\n  '_aml_system_scenario_identification': 'Remote.Parent',\n  'ClientType': 'SDK',\n  'environment_cpu_name': 'AzureML-AutoML',\n  'environment_cpu_label': 'py36',\n  'environment_gpu_name': 'AzureML-AutoML-GPU',\n  'environment_gpu_label': 'py36',\n  'root_attribution': 'automl',\n  'attribution': 'AutoML',\n  'Orchestrator': 'AutoML',\n  'CancelUri': 'https://southcentralus.api.azureml.ms/jasmine/v1.0/subscriptions/d4ad7261-832d-46b2-b093-22156001df5b/resourceGroups/aml-quickstarts-187591/providers/Microsoft.MachineLearningServices/workspaces/quick-starts-ws-187591/experimentids/f5587165-e85e-4d63-85f9-1a27592c05fd/cancel/AutoML_975a4537-b1ad-4faf-b244-1009a3757e03',\n  'ClientSdkVersion': '1.38.0',\n  'snapshotId': '00000000-0000-0000-0000-000000000000',\n  'SetupRunId': 'AutoML_975a4537-b1ad-4faf-b244-1009a3757e03_setup',\n  'SetupRunContainerId': 'dcid.AutoML_975a4537-b1ad-4faf-b244-1009a3757e03_setup',\n  'FeaturizationRunJsonPath': 'featurizer_container.json',\n  'FeaturizationRunId': 'AutoML_975a4537-b1ad-4faf-b244-1009a3757e03_featurize',\n  'ProblemInfoJsonString': '{\"dataset_num_categorical\": 0, \"is_sparse\": false, \"subsampling\": false, \"has_extra_col\": true, \"dataset_classes\": 2, \"dataset_features\": 12, \"dataset_samples\": 299, \"single_frequency_class_detected\": false}',\n  'ModelExplainRunId': 'AutoML_975a4537-b1ad-4faf-b244-1009a3757e03_ModelExplain'},\n 'inputDatasets': [{'dataset': {'id': 'eee4db27-8346-446e-8166-0fd9e714ae8d'}, 'consumptionDetails': {'type': 'RunInput', 'inputName': 'training_data', 'mechanism': 'Direct'}}],\n 'outputDatasets': [],\n 'logFiles': {},\n 'submittedBy': 'ODL_User 187591'}"
          },
          "metadata": {}
        }
      ],
      "execution_count": 7,
      "metadata": {
        "jupyter": {
          "source_hidden": false,
          "outputs_hidden": false
        },
        "nteract": {
          "transient": {
            "deleting": false
          }
        },
        "gather": {
          "logged": 1645910426564
        }
      }
    },
    {
      "cell_type": "markdown",
      "source": [
        "## Run Details\n",
        "\n",
        "OPTIONAL: Write about the different models trained and their performance. Why do you think some models did better than others?\n",
        "\n",
        "TODO: In the cell below, use the `RunDetails` widget to show the different experiments."
      ],
      "metadata": {}
    },
    {
      "cell_type": "code",
      "source": [
        "from azureml.widgets import RunDetails\r\n",
        "RunDetails(remote_run).show()\r\n",
        "remote_run.wait_for_completion()"
      ],
      "outputs": [
        {
          "output_type": "display_data",
          "data": {
            "text/plain": "_AutoMLWidget(widget_settings={'childWidgetDisplay': 'popup', 'send_telemetry': False, 'log_level': 'INFO', 's…",
            "application/vnd.jupyter.widget-view+json": {
              "version_major": 2,
              "version_minor": 0,
              "model_id": "487f09d07e9548168d3de2f01da92dd8"
            }
          },
          "metadata": {}
        },
        {
          "output_type": "display_data",
          "data": {
            "application/aml.mini.widget.v1": "{\"status\": \"Completed\", \"workbench_run_details_uri\": \"https://ml.azure.com/runs/AutoML_975a4537-b1ad-4faf-b244-1009a3757e03?wsid=/subscriptions/d4ad7261-832d-46b2-b093-22156001df5b/resourcegroups/aml-quickstarts-187591/workspaces/quick-starts-ws-187591&tid=660b3398-b80e-49d2-bc5b-ac1dc93b5254\", \"run_id\": \"AutoML_975a4537-b1ad-4faf-b244-1009a3757e03\", \"run_properties\": {\"run_id\": \"AutoML_975a4537-b1ad-4faf-b244-1009a3757e03\", \"created_utc\": \"2022-02-26T20:53:55.804835Z\", \"properties\": {\"num_iterations\": \"1000\", \"training_type\": \"TrainFull\", \"acquisition_function\": \"EI\", \"primary_metric\": \"AUC_weighted\", \"train_split\": \"0\", \"acquisition_parameter\": \"0\", \"num_cross_validation\": null, \"target\": \"automl\", \"AMLSettingsJsonString\": \"{\\\"path\\\":null,\\\"name\\\":\\\"heartcheck\\\",\\\"subscription_id\\\":\\\"d4ad7261-832d-46b2-b093-22156001df5b\\\",\\\"resource_group\\\":\\\"aml-quickstarts-187591\\\",\\\"workspace_name\\\":\\\"quick-starts-ws-187591\\\",\\\"region\\\":\\\"southcentralus\\\",\\\"compute_target\\\":\\\"automl\\\",\\\"spark_service\\\":null,\\\"azure_service\\\":\\\"remote\\\",\\\"many_models\\\":false,\\\"pipeline_fetch_max_batch_size\\\":1,\\\"enable_batch_run\\\":true,\\\"enable_run_restructure\\\":false,\\\"start_auxiliary_runs_before_parent_complete\\\":false,\\\"enable_code_generation\\\":false,\\\"iterations\\\":1000,\\\"primary_metric\\\":\\\"AUC_weighted\\\",\\\"task_type\\\":\\\"classification\\\",\\\"positive_label\\\":null,\\\"data_script\\\":null,\\\"test_size\\\":0.0,\\\"test_include_predictions_only\\\":false,\\\"validation_size\\\":0.0,\\\"n_cross_validations\\\":null,\\\"y_min\\\":null,\\\"y_max\\\":null,\\\"num_classes\\\":null,\\\"featurization\\\":\\\"auto\\\",\\\"_ignore_package_version_incompatibilities\\\":false,\\\"is_timeseries\\\":false,\\\"max_cores_per_iteration\\\":1,\\\"max_concurrent_iterations\\\":5,\\\"iteration_timeout_minutes\\\":null,\\\"mem_in_mb\\\":null,\\\"enforce_time_on_windows\\\":false,\\\"experiment_timeout_minutes\\\":20,\\\"experiment_exit_score\\\":null,\\\"whitelist_models\\\":null,\\\"blacklist_algos\\\":[\\\"TensorFlowLinearClassifier\\\",\\\"TensorFlowDNN\\\"],\\\"supported_models\\\":[\\\"LinearSVM\\\",\\\"TabnetClassifier\\\",\\\"RandomForest\\\",\\\"DecisionTree\\\",\\\"KNN\\\",\\\"XGBoostClassifier\\\",\\\"SGD\\\",\\\"TensorFlowDNN\\\",\\\"AveragedPerceptronClassifier\\\",\\\"MultinomialNaiveBayes\\\",\\\"LogisticRegression\\\",\\\"TensorFlowLinearClassifier\\\",\\\"GradientBoosting\\\",\\\"BernoulliNaiveBayes\\\",\\\"ExtremeRandomTrees\\\",\\\"SVM\\\",\\\"LightGBM\\\"],\\\"private_models\\\":[],\\\"auto_blacklist\\\":true,\\\"blacklist_samples_reached\\\":false,\\\"exclude_nan_labels\\\":true,\\\"verbosity\\\":20,\\\"_debug_log\\\":\\\"azureml_automl.log\\\",\\\"show_warnings\\\":false,\\\"model_explainability\\\":true,\\\"service_url\\\":null,\\\"sdk_url\\\":null,\\\"sdk_packages\\\":null,\\\"enable_onnx_compatible_models\\\":false,\\\"enable_split_onnx_featurizer_estimator_models\\\":false,\\\"vm_type\\\":\\\"STANDARD_D2_V2\\\",\\\"telemetry_verbosity\\\":20,\\\"send_telemetry\\\":true,\\\"enable_dnn\\\":false,\\\"scenario\\\":\\\"SDK-1.13.0\\\",\\\"environment_label\\\":null,\\\"save_mlflow\\\":false,\\\"enable_categorical_indicators\\\":false,\\\"force_text_dnn\\\":false,\\\"enable_feature_sweeping\\\":true,\\\"enable_early_stopping\\\":true,\\\"early_stopping_n_iters\\\":10,\\\"arguments\\\":null,\\\"dataset_id\\\":null,\\\"hyperdrive_config\\\":null,\\\"validation_dataset_id\\\":null,\\\"run_source\\\":null,\\\"metrics\\\":null,\\\"enable_metric_confidence\\\":false,\\\"enable_ensembling\\\":true,\\\"enable_stack_ensembling\\\":true,\\\"ensemble_iterations\\\":15,\\\"enable_tf\\\":false,\\\"enable_subsampling\\\":null,\\\"subsample_seed\\\":null,\\\"enable_nimbusml\\\":false,\\\"enable_streaming\\\":false,\\\"force_streaming\\\":false,\\\"track_child_runs\\\":true,\\\"allowed_private_models\\\":[],\\\"label_column_name\\\":\\\"DEATH_EVENT\\\",\\\"weight_column_name\\\":null,\\\"cv_split_column_names\\\":null,\\\"enable_local_managed\\\":false,\\\"_local_managed_run_id\\\":null,\\\"cost_mode\\\":1,\\\"lag_length\\\":0,\\\"metric_operation\\\":\\\"maximize\\\",\\\"preprocess\\\":true}\", \"DataPrepJsonString\": \"{\\\\\\\"training_data\\\\\\\": {\\\\\\\"datasetId\\\\\\\": \\\\\\\"eee4db27-8346-446e-8166-0fd9e714ae8d\\\\\\\"}, \\\\\\\"datasets\\\\\\\": 0}\", \"EnableSubsampling\": null, \"runTemplate\": \"AutoML\", \"azureml.runsource\": \"automl\", \"display_task_type\": \"classification\", \"dependencies_versions\": \"{\\\"azureml-widgets\\\": \\\"1.38.0\\\", \\\"azureml-train\\\": \\\"1.38.0\\\", \\\"azureml-train-restclients-hyperdrive\\\": \\\"1.38.0\\\", \\\"azureml-train-core\\\": \\\"1.38.0\\\", \\\"azureml-train-automl-client\\\": \\\"1.38.0\\\", \\\"azureml-tensorboard\\\": \\\"1.38.0\\\", \\\"azureml-telemetry\\\": \\\"1.38.0\\\", \\\"azureml-sdk\\\": \\\"1.38.0\\\", \\\"azureml-samples\\\": \\\"0+unknown\\\", \\\"azureml-responsibleai\\\": \\\"1.38.0\\\", \\\"azureml-pipeline\\\": \\\"1.38.0\\\", \\\"azureml-pipeline-steps\\\": \\\"1.38.0\\\", \\\"azureml-pipeline-core\\\": \\\"1.38.0\\\", \\\"azureml-opendatasets\\\": \\\"1.38.0\\\", \\\"azureml-mlflow\\\": \\\"1.38.0\\\", \\\"azureml-interpret\\\": \\\"1.38.0\\\", \\\"azureml-inference-server-http\\\": \\\"0.4.2\\\", \\\"azureml-explain-model\\\": \\\"1.38.0\\\", \\\"azureml-defaults\\\": \\\"1.38.0\\\", \\\"azureml-dataset-runtime\\\": \\\"1.38.0\\\", \\\"azureml-dataprep\\\": \\\"2.26.0\\\", \\\"azureml-dataprep-rslex\\\": \\\"2.2.0\\\", \\\"azureml-dataprep-native\\\": \\\"38.0.0\\\", \\\"azureml-datadrift\\\": \\\"1.38.0\\\", \\\"azureml-core\\\": \\\"1.38.0\\\", \\\"azureml-contrib-services\\\": \\\"1.38.0\\\", \\\"azureml-contrib-server\\\": \\\"1.38.0\\\", \\\"azureml-contrib-reinforcementlearning\\\": \\\"1.38.0\\\", \\\"azureml-contrib-pipeline-steps\\\": \\\"1.38.0\\\", \\\"azureml-contrib-notebook\\\": \\\"1.38.0\\\", \\\"azureml-contrib-fairness\\\": \\\"1.38.0\\\", \\\"azureml-contrib-dataset\\\": \\\"1.38.0\\\", \\\"azureml-cli-common\\\": \\\"1.38.0\\\", \\\"azureml-automl-core\\\": \\\"1.38.0\\\", \\\"azureml-accel-models\\\": \\\"1.38.0\\\"}\", \"_aml_system_scenario_identification\": \"Remote.Parent\", \"ClientType\": \"SDK\", \"environment_cpu_name\": \"AzureML-AutoML\", \"environment_cpu_label\": \"py36\", \"environment_gpu_name\": \"AzureML-AutoML-GPU\", \"environment_gpu_label\": \"py36\", \"root_attribution\": \"automl\", \"attribution\": \"AutoML\", \"Orchestrator\": \"AutoML\", \"CancelUri\": \"https://southcentralus.api.azureml.ms/jasmine/v1.0/subscriptions/d4ad7261-832d-46b2-b093-22156001df5b/resourceGroups/aml-quickstarts-187591/providers/Microsoft.MachineLearningServices/workspaces/quick-starts-ws-187591/experimentids/f5587165-e85e-4d63-85f9-1a27592c05fd/cancel/AutoML_975a4537-b1ad-4faf-b244-1009a3757e03\", \"ClientSdkVersion\": \"1.38.0\", \"snapshotId\": \"00000000-0000-0000-0000-000000000000\", \"SetupRunId\": \"AutoML_975a4537-b1ad-4faf-b244-1009a3757e03_setup\", \"SetupRunContainerId\": \"dcid.AutoML_975a4537-b1ad-4faf-b244-1009a3757e03_setup\", \"FeaturizationRunJsonPath\": \"featurizer_container.json\", \"FeaturizationRunId\": \"AutoML_975a4537-b1ad-4faf-b244-1009a3757e03_featurize\", \"ProblemInfoJsonString\": \"{\\\"dataset_num_categorical\\\": 0, \\\"is_sparse\\\": false, \\\"subsampling\\\": false, \\\"has_extra_col\\\": true, \\\"dataset_classes\\\": 2, \\\"dataset_features\\\": 12, \\\"dataset_samples\\\": 299, \\\"single_frequency_class_detected\\\": false}\", \"ModelExplainRunId\": \"AutoML_975a4537-b1ad-4faf-b244-1009a3757e03_ModelExplain\"}, \"tags\": {\"model_explain_run\": \"best_run\", \"_aml_system_azureml.automlComponent\": \"AutoML\", \"pipeline_id\": \"\", \"score\": \"\", \"predicted_cost\": \"\", \"fit_time\": \"\", \"training_percent\": \"\", \"iteration\": \"\", \"run_preprocessor\": \"\", \"run_algorithm\": \"\", \"dynamic_whitelisting_iterations\": \"<25>;<30>;<35>;<40>;<45>;\", \"_aml_system_azureml.automl_early_exit_message\": \"No scores improved over last 20 iterations, so experiment stopped early. This early stopping behavior can be disabled by setting enable_early_stopping = False in AutoMLConfig for notebook/python SDK runs.\", \"automl_best_child_run_id\": \"AutoML_975a4537-b1ad-4faf-b244-1009a3757e03_46\", \"model_explain_best_run_child_id\": \"AutoML_975a4537-b1ad-4faf-b244-1009a3757e03_46\"}, \"end_time_utc\": \"2022-02-26T21:20:15.017966Z\", \"status\": \"Completed\", \"log_files\": {}, \"log_groups\": [], \"run_duration\": \"0:26:19\", \"run_number\": \"1645908835\", \"run_queued_details\": {\"status\": \"Completed\", \"details\": null}}, \"child_runs\": [{\"run_id\": \"AutoML_975a4537-b1ad-4faf-b244-1009a3757e03_setup\", \"run_number\": 1645908849, \"metric\": null, \"status\": \"Completed\", \"run_type\": \"azureml.scriptrun\", \"training_percent\": null, \"start_time\": \"2022-02-26T21:02:14.246169Z\", \"end_time\": \"2022-02-26T21:02:29.832937Z\", \"created_time\": \"2022-02-26T20:54:09.242664Z\", \"created_time_dt\": \"2022-02-26T20:54:09.242664Z\", \"duration\": \"0:08:20\", \"iteration\": null, \"goal\": null, \"run_name\": \"Completed\", \"run_properties\": null}, {\"run_id\": \"AutoML_975a4537-b1ad-4faf-b244-1009a3757e03_featurize\", \"run_number\": 1645909350, \"metric\": null, \"status\": \"Completed\", \"run_type\": \"automl.featurization\", \"training_percent\": null, \"start_time\": \"2022-02-26T21:02:30.587151Z\", \"end_time\": \"2022-02-26T21:03:15.913332Z\", \"created_time\": \"2022-02-26T21:02:30.258764Z\", \"created_time_dt\": \"2022-02-26T21:02:30.258764Z\", \"duration\": \"0:00:45\", \"iteration\": null, \"goal\": null, \"run_name\": \"Completed\", \"run_properties\": null}, {\"run_id\": \"AutoML_975a4537-b1ad-4faf-b244-1009a3757e03_0\", \"run_number\": 1645909397, \"metric\": null, \"status\": \"Completed\", \"run_type\": null, \"training_percent\": \"100\", \"start_time\": \"2022-02-26T21:03:35.663824Z\", \"end_time\": \"2022-02-26T21:03:44.57826Z\", \"created_time\": \"2022-02-26T21:03:17.314226Z\", \"created_time_dt\": \"2022-02-26T21:03:17.314226Z\", \"duration\": \"0:00:27\", \"iteration\": \"0\", \"goal\": \"AUC_weighted_max\", \"run_name\": \"MaxAbsScaler, LightGBM\", \"run_properties\": \"copy=True\", \"primary_metric\": 0.88310347, \"best_metric\": 0.88310347}, {\"run_id\": \"AutoML_975a4537-b1ad-4faf-b244-1009a3757e03_2\", \"run_number\": 1645909398, \"metric\": null, \"status\": \"Completed\", \"run_type\": null, \"training_percent\": \"100\", \"start_time\": \"2022-02-26T21:03:53.691837Z\", \"end_time\": \"2022-02-26T21:04:02.0297Z\", \"created_time\": \"2022-02-26T21:03:18.337175Z\", \"created_time_dt\": \"2022-02-26T21:03:18.337175Z\", \"duration\": \"0:00:43\", \"iteration\": \"2\", \"goal\": \"AUC_weighted_max\", \"run_name\": \"MaxAbsScaler, ExtremeRandomTrees\", \"run_properties\": \"copy=True\", \"primary_metric\": 0.88097461, \"best_metric\": 0.88310347}, {\"run_id\": \"AutoML_975a4537-b1ad-4faf-b244-1009a3757e03_worker_0\", \"run_number\": 1645909399, \"metric\": null, \"status\": \"Completed\", \"run_type\": \"azureml.scriptrun\", \"training_percent\": null, \"start_time\": \"2022-02-26T21:04:12.240757Z\", \"end_time\": \"2022-02-26T21:04:15.910477Z\", \"created_time\": \"2022-02-26T21:03:18.998194Z\", \"created_time_dt\": \"2022-02-26T21:03:18.998194Z\", \"duration\": \"0:00:56\", \"iteration\": null, \"goal\": null, \"run_name\": \"Completed\", \"run_properties\": null}, {\"run_id\": \"AutoML_975a4537-b1ad-4faf-b244-1009a3757e03_6\", \"run_number\": 1645909400, \"metric\": null, \"status\": \"Completed\", \"run_type\": null, \"training_percent\": \"100\", \"start_time\": \"2022-02-26T21:04:47.017254Z\", \"end_time\": \"2022-02-26T21:04:55.467594Z\", \"created_time\": \"2022-02-26T21:03:20.113241Z\", \"created_time_dt\": \"2022-02-26T21:03:20.113241Z\", \"duration\": \"0:01:35\", \"iteration\": \"6\", \"goal\": \"AUC_weighted_max\", \"run_name\": \"SparseNormalizer, XGBoostClassifier\", \"run_properties\": \"copy=True, norm='max'\", \"primary_metric\": 0.86723315, \"best_metric\": 0.88310347}, {\"run_id\": \"AutoML_975a4537-b1ad-4faf-b244-1009a3757e03_9\", \"run_number\": 1645909401, \"metric\": null, \"status\": \"Completed\", \"run_type\": null, \"training_percent\": \"100\", \"start_time\": \"2022-02-26T21:05:33.146133Z\", \"end_time\": \"2022-02-26T21:05:42.220877Z\", \"created_time\": \"2022-02-26T21:03:21.381515Z\", \"created_time_dt\": \"2022-02-26T21:03:21.381515Z\", \"duration\": \"0:02:20\", \"iteration\": \"9\", \"goal\": \"AUC_weighted_max\", \"run_name\": \"MinMaxScaler, RandomForest\", \"run_properties\": \"copy=True, feature_range=(0, 1\", \"primary_metric\": 0.89873807, \"best_metric\": 0.89873807}, {\"run_id\": \"AutoML_975a4537-b1ad-4faf-b244-1009a3757e03_11\", \"run_number\": 1645909402, \"metric\": null, \"status\": \"Completed\", \"run_type\": null, \"training_percent\": \"100\", \"start_time\": \"2022-02-26T21:05:52.13403Z\", \"end_time\": \"2022-02-26T21:06:00.627165Z\", \"created_time\": \"2022-02-26T21:03:22.44224Z\", \"created_time_dt\": \"2022-02-26T21:03:22.44224Z\", \"duration\": \"0:02:38\", \"iteration\": \"11\", \"goal\": \"AUC_weighted_max\", \"run_name\": \"StandardScalerWrapper, SVM\", \"run_properties\": \"\\n    copy=True,\\n    with_mean=True,\\n    with_std=True\\n\", \"primary_metric\": 0.79962588, \"best_metric\": 0.89873807}, {\"run_id\": \"AutoML_975a4537-b1ad-4faf-b244-1009a3757e03_13\", \"run_number\": 1645909403, \"metric\": null, \"status\": \"Completed\", \"run_type\": null, \"training_percent\": \"100\", \"start_time\": \"2022-02-26T21:06:30.68785Z\", \"end_time\": \"2022-02-26T21:06:39.095242Z\", \"created_time\": \"2022-02-26T21:03:23.35879Z\", \"created_time_dt\": \"2022-02-26T21:03:23.35879Z\", \"duration\": \"0:03:15\", \"iteration\": \"13\", \"goal\": \"AUC_weighted_max\", \"run_name\": \"SparseNormalizer, KNN\", \"run_properties\": \"copy=True, norm='max'\", \"primary_metric\": 0.74640116, \"best_metric\": 0.89873807}, {\"run_id\": \"AutoML_975a4537-b1ad-4faf-b244-1009a3757e03_worker_3\", \"run_number\": 1645909404, \"metric\": null, \"status\": \"Completed\", \"run_type\": \"azureml.scriptrun\", \"training_percent\": null, \"start_time\": \"2022-02-26T21:06:35.336897Z\", \"end_time\": \"2022-02-26T21:07:01.449772Z\", \"created_time\": \"2022-02-26T21:03:24.485879Z\", \"created_time_dt\": \"2022-02-26T21:03:24.485879Z\", \"duration\": \"0:03:36\", \"iteration\": null, \"goal\": null, \"run_name\": \"Completed\", \"run_properties\": null}, {\"run_id\": \"AutoML_975a4537-b1ad-4faf-b244-1009a3757e03_17\", \"run_number\": 1645909405, \"metric\": null, \"status\": \"Completed\", \"run_type\": null, \"training_percent\": \"100\", \"start_time\": \"2022-02-26T21:08:03.070383Z\", \"end_time\": \"2022-02-26T21:08:11.783741Z\", \"created_time\": \"2022-02-26T21:03:25.088468Z\", \"created_time_dt\": \"2022-02-26T21:03:25.088468Z\", \"duration\": \"0:04:46\", \"iteration\": \"17\", \"goal\": \"AUC_weighted_max\", \"run_name\": \"MinMaxScaler, ExtremeRandomTrees\", \"run_properties\": \"copy=True, feature_range=(0, 1\", \"primary_metric\": 0.89833098, \"best_metric\": 0.89873807}, {\"run_id\": \"AutoML_975a4537-b1ad-4faf-b244-1009a3757e03_worker_4\", \"run_number\": 1645909406, \"metric\": null, \"status\": \"Completed\", \"run_type\": \"azureml.scriptrun\", \"training_percent\": null, \"start_time\": \"2022-02-26T21:07:25.297431Z\", \"end_time\": \"2022-02-26T21:08:40.340551Z\", \"created_time\": \"2022-02-26T21:03:26.275222Z\", \"created_time_dt\": \"2022-02-26T21:03:26.275222Z\", \"duration\": \"0:05:14\", \"iteration\": null, \"goal\": null, \"run_name\": \"Completed\", \"run_properties\": null}, {\"run_id\": \"AutoML_975a4537-b1ad-4faf-b244-1009a3757e03_20\", \"run_number\": 1645909619, \"metric\": null, \"status\": \"Completed\", \"run_type\": \"azureml.scriptrun\", \"training_percent\": \"100\", \"start_time\": \"2022-02-26T21:07:23.78891Z\", \"end_time\": \"2022-02-26T21:07:27.448537Z\", \"created_time\": \"2022-02-26T21:06:59.704649Z\", \"created_time_dt\": \"2022-02-26T21:06:59.704649Z\", \"duration\": \"0:00:27\", \"iteration\": \"20\", \"goal\": \"AUC_weighted_max\", \"run_name\": \"StandardScalerWrapper, XGBoostClassifier\", \"run_properties\": \"\\n    copy=True,\\n    with_mean=False,\\n    with_std=False\\n\", \"primary_metric\": 0.89609125, \"best_metric\": 0.89873807}, {\"run_id\": \"AutoML_975a4537-b1ad-4faf-b244-1009a3757e03_23\", \"run_number\": 1645909694, \"metric\": null, \"status\": \"Completed\", \"run_type\": \"azureml.scriptrun\", \"training_percent\": \"100\", \"start_time\": \"2022-02-26T21:09:25.312907Z\", \"end_time\": \"2022-02-26T21:09:28.949241Z\", \"created_time\": \"2022-02-26T21:08:14.741529Z\", \"created_time_dt\": \"2022-02-26T21:08:14.741529Z\", \"duration\": \"0:01:14\", \"iteration\": \"23\", \"goal\": \"AUC_weighted_max\", \"run_name\": \"MaxAbsScaler, LogisticRegression\", \"run_properties\": \"copy=True\", \"primary_metric\": 0.86742265, \"best_metric\": 0.89873807}, {\"run_id\": \"AutoML_975a4537-b1ad-4faf-b244-1009a3757e03_25\", \"run_number\": 1645909735, \"metric\": null, \"status\": \"Completed\", \"run_type\": \"azureml.scriptrun\", \"training_percent\": \"100\", \"start_time\": \"2022-02-26T21:09:45.602401Z\", \"end_time\": \"2022-02-26T21:09:49.274398Z\", \"created_time\": \"2022-02-26T21:08:55.096696Z\", \"created_time_dt\": \"2022-02-26T21:08:55.096696Z\", \"duration\": \"0:00:54\", \"iteration\": \"25\", \"goal\": \"AUC_weighted_max\", \"run_name\": \"RobustScaler, ExtremeRandomTrees\", \"run_properties\": \"copy=True, quantile_range=[10, 90], with_centering=False,\\n             with_scaling=True\", \"primary_metric\": 0.70522932, \"best_metric\": 0.89873807}, {\"run_id\": \"AutoML_975a4537-b1ad-4faf-b244-1009a3757e03_27\", \"run_number\": 1645909752, \"metric\": null, \"status\": \"Completed\", \"run_type\": \"azureml.scriptrun\", \"training_percent\": \"100\", \"start_time\": \"2022-02-26T21:11:25.385197Z\", \"end_time\": \"2022-02-26T21:11:29.051998Z\", \"created_time\": \"2022-02-26T21:09:12.319784Z\", \"created_time_dt\": \"2022-02-26T21:09:12.319784Z\", \"duration\": \"0:02:16\", \"iteration\": \"27\", \"goal\": \"AUC_weighted_max\", \"run_name\": \"MinMaxScaler, RandomForest\", \"run_properties\": \"copy=True, feature_range=(0, 1\", \"primary_metric\": 0.91237351, \"best_metric\": 0.91237351}, {\"run_id\": \"AutoML_975a4537-b1ad-4faf-b244-1009a3757e03_28\", \"run_number\": 1645909770, \"metric\": null, \"status\": \"Completed\", \"run_type\": \"azureml.scriptrun\", \"training_percent\": \"100\", \"start_time\": \"2022-02-26T21:11:29.475291Z\", \"end_time\": \"2022-02-26T21:11:33.163274Z\", \"created_time\": \"2022-02-26T21:09:30.847055Z\", \"created_time_dt\": \"2022-02-26T21:09:30.847055Z\", \"duration\": \"0:02:02\", \"iteration\": \"28\", \"goal\": \"AUC_weighted_max\", \"run_name\": \"StandardScalerWrapper, ExtremeRandomTrees\", \"run_properties\": \"\\n    copy=True,\\n    with_mean=True,\\n    with_std=True\\n\", \"primary_metric\": 0.88130367, \"best_metric\": 0.91237351}, {\"run_id\": \"AutoML_975a4537-b1ad-4faf-b244-1009a3757e03_29\", \"run_number\": 1645909774, \"metric\": null, \"status\": \"Completed\", \"run_type\": \"azureml.scriptrun\", \"training_percent\": \"100\", \"start_time\": \"2022-02-26T21:11:59.979078Z\", \"end_time\": \"2022-02-26T21:12:03.695405Z\", \"created_time\": \"2022-02-26T21:09:34.712547Z\", \"created_time_dt\": \"2022-02-26T21:09:34.712547Z\", \"duration\": \"0:02:28\", \"iteration\": \"29\", \"goal\": \"AUC_weighted_max\", \"run_name\": \"MaxAbsScaler, ExtremeRandomTrees\", \"run_properties\": \"copy=True\", \"primary_metric\": 0.87896415, \"best_metric\": 0.91237351}, {\"run_id\": \"AutoML_975a4537-b1ad-4faf-b244-1009a3757e03_30\", \"run_number\": 1645909792, \"metric\": null, \"status\": \"Completed\", \"run_type\": \"azureml.scriptrun\", \"training_percent\": \"100\", \"start_time\": \"2022-02-26T21:13:03.801055Z\", \"end_time\": \"2022-02-26T21:13:07.494746Z\", \"created_time\": \"2022-02-26T21:09:52.023186Z\", \"created_time_dt\": \"2022-02-26T21:09:52.023186Z\", \"duration\": \"0:03:15\", \"iteration\": \"30\", \"goal\": \"AUC_weighted_max\", \"run_name\": \"StandardScalerWrapper, ExtremeRandomTrees\", \"run_properties\": \"\\n    copy=True,\\n    with_mean=False,\\n    with_std=True\\n\", \"primary_metric\": 0.74945038, \"best_metric\": 0.91237351}, {\"run_id\": \"AutoML_975a4537-b1ad-4faf-b244-1009a3757e03_31\", \"run_number\": 1645909866, \"metric\": null, \"status\": \"Completed\", \"run_type\": \"azureml.scriptrun\", \"training_percent\": \"100\", \"start_time\": \"2022-02-26T21:13:28.129261Z\", \"end_time\": \"2022-02-26T21:13:31.779927Z\", \"created_time\": \"2022-02-26T21:11:06.534086Z\", \"created_time_dt\": \"2022-02-26T21:11:06.534086Z\", \"duration\": \"0:02:25\", \"iteration\": \"31\", \"goal\": \"AUC_weighted_max\", \"run_name\": \"StandardScalerWrapper, SVM\", \"run_properties\": \"\\n    copy=True,\\n    with_mean=False,\\n    with_std=True\\n\", \"primary_metric\": 0.84644804, \"best_metric\": 0.91237351}, {\"run_id\": \"AutoML_975a4537-b1ad-4faf-b244-1009a3757e03_32\", \"run_number\": 1645909890, \"metric\": null, \"status\": \"Completed\", \"run_type\": \"azureml.scriptrun\", \"training_percent\": \"100\", \"start_time\": \"2022-02-26T21:13:27.617957Z\", \"end_time\": \"2022-02-26T21:13:31.209224Z\", \"created_time\": \"2022-02-26T21:11:30.735206Z\", \"created_time_dt\": \"2022-02-26T21:11:30.735206Z\", \"duration\": \"0:02:00\", \"iteration\": \"32\", \"goal\": \"AUC_weighted_max\", \"run_name\": \"StandardScalerWrapper, XGBoostClassifier\", \"run_properties\": \"\\n    copy=True,\\n    with_mean=False,\\n    with_std=False\\n\", \"primary_metric\": 0.89823519, \"best_metric\": 0.91237351}, {\"run_id\": \"AutoML_975a4537-b1ad-4faf-b244-1009a3757e03_33\", \"run_number\": 1645909894, \"metric\": null, \"status\": \"Completed\", \"run_type\": \"azureml.scriptrun\", \"training_percent\": \"100\", \"start_time\": \"2022-02-26T21:13:48.46123Z\", \"end_time\": \"2022-02-26T21:13:52.12136Z\", \"created_time\": \"2022-02-26T21:11:34.891411Z\", \"created_time_dt\": \"2022-02-26T21:11:34.891411Z\", \"duration\": \"0:02:17\", \"iteration\": \"33\", \"goal\": \"AUC_weighted_max\", \"run_name\": \"RobustScaler, SVM\", \"run_properties\": \"copy=True, quantile_range=[10, 90], with_centering=False,\\n             with_scaling=True\", \"primary_metric\": 0.81221618, \"best_metric\": 0.91237351}, {\"run_id\": \"AutoML_975a4537-b1ad-4faf-b244-1009a3757e03_34\", \"run_number\": 1645909925, \"metric\": null, \"status\": \"Completed\", \"run_type\": \"azureml.scriptrun\", \"training_percent\": \"100\", \"start_time\": \"2022-02-26T21:15:06.845505Z\", \"end_time\": \"2022-02-26T21:15:10.48683Z\", \"created_time\": \"2022-02-26T21:12:05.625035Z\", \"created_time_dt\": \"2022-02-26T21:12:05.625035Z\", \"duration\": \"0:03:04\", \"iteration\": \"34\", \"goal\": \"AUC_weighted_max\", \"run_name\": \"RobustScaler, SVM\", \"run_properties\": \"copy=True, quantile_range=[10, 90], with_centering=False,\\n             with_scaling=True\", \"primary_metric\": 0.85900769, \"best_metric\": 0.91237351}, {\"run_id\": \"AutoML_975a4537-b1ad-4faf-b244-1009a3757e03_35\", \"run_number\": 1645909990, \"metric\": null, \"status\": \"Completed\", \"run_type\": \"azureml.scriptrun\", \"training_percent\": \"100\", \"start_time\": \"2022-02-26T21:15:25.498548Z\", \"end_time\": \"2022-02-26T21:15:29.2087Z\", \"created_time\": \"2022-02-26T21:13:10.467752Z\", \"created_time_dt\": \"2022-02-26T21:13:10.467752Z\", \"duration\": \"0:02:18\", \"iteration\": \"35\", \"goal\": \"AUC_weighted_max\", \"run_name\": \"MaxAbsScaler, RandomForest\", \"run_properties\": \"copy=True\", \"primary_metric\": 0.88899893, \"best_metric\": 0.91237351}, {\"run_id\": \"AutoML_975a4537-b1ad-4faf-b244-1009a3757e03_36\", \"run_number\": 1645910013, \"metric\": null, \"status\": \"Completed\", \"run_type\": \"azureml.scriptrun\", \"training_percent\": \"100\", \"start_time\": \"2022-02-26T21:15:26.407698Z\", \"end_time\": \"2022-02-26T21:15:30.043137Z\", \"created_time\": \"2022-02-26T21:13:33.013941Z\", \"created_time_dt\": \"2022-02-26T21:13:33.013941Z\", \"duration\": \"0:01:57\", \"iteration\": \"36\", \"goal\": \"AUC_weighted_max\", \"run_name\": \"StandardScalerWrapper, SVM\", \"run_properties\": \"\\n    copy=True,\\n    with_mean=False,\\n    with_std=True\\n\", \"primary_metric\": 0.86873031, \"best_metric\": 0.91237351}, {\"run_id\": \"AutoML_975a4537-b1ad-4faf-b244-1009a3757e03_37\", \"run_number\": 1645910016, \"metric\": null, \"status\": \"Completed\", \"run_type\": \"azureml.scriptrun\", \"training_percent\": \"100\", \"start_time\": \"2022-02-26T21:15:50.817948Z\", \"end_time\": \"2022-02-26T21:15:54.469585Z\", \"created_time\": \"2022-02-26T21:13:36.13567Z\", \"created_time_dt\": \"2022-02-26T21:13:36.13567Z\", \"duration\": \"0:02:18\", \"iteration\": \"37\", \"goal\": \"AUC_weighted_max\", \"run_name\": \"StandardScalerWrapper, XGBoostClassifier\", \"run_properties\": \"\\n    copy=True,\\n    with_mean=False,\\n    with_std=False\\n\", \"primary_metric\": 0.90522384, \"best_metric\": 0.91237351}, {\"run_id\": \"AutoML_975a4537-b1ad-4faf-b244-1009a3757e03_38\", \"run_number\": 1645910034, \"metric\": null, \"status\": \"Completed\", \"run_type\": \"azureml.scriptrun\", \"training_percent\": \"100\", \"start_time\": \"2022-02-26T21:17:01.308807Z\", \"end_time\": \"2022-02-26T21:17:04.97653Z\", \"created_time\": \"2022-02-26T21:13:54.542028Z\", \"created_time_dt\": \"2022-02-26T21:13:54.542028Z\", \"duration\": \"0:03:10\", \"iteration\": \"38\", \"goal\": \"AUC_weighted_max\", \"run_name\": \"StandardScalerWrapper, XGBoostClassifier\", \"run_properties\": \"\\n    copy=True,\\n    with_mean=False,\\n    with_std=False\\n\", \"primary_metric\": 0.91188309, \"best_metric\": 0.91237351}, {\"run_id\": \"AutoML_975a4537-b1ad-4faf-b244-1009a3757e03_39\", \"run_number\": 1645910112, \"metric\": null, \"status\": \"Completed\", \"run_type\": \"azureml.scriptrun\", \"training_percent\": \"100\", \"start_time\": \"2022-02-26T21:17:37.311287Z\", \"end_time\": \"2022-02-26T21:17:40.989267Z\", \"created_time\": \"2022-02-26T21:15:12.162036Z\", \"created_time_dt\": \"2022-02-26T21:15:12.162036Z\", \"duration\": \"0:02:28\", \"iteration\": \"39\", \"goal\": \"AUC_weighted_max\", \"run_name\": \"MaxAbsScaler, RandomForest\", \"run_properties\": \"copy=True\", \"primary_metric\": 0.90860288, \"best_metric\": 0.91237351}, {\"run_id\": \"AutoML_975a4537-b1ad-4faf-b244-1009a3757e03_40\", \"run_number\": 1645910132, \"metric\": null, \"status\": \"Completed\", \"run_type\": \"azureml.scriptrun\", \"training_percent\": \"100\", \"start_time\": \"2022-02-26T21:17:31.82911Z\", \"end_time\": \"2022-02-26T21:17:35.437725Z\", \"created_time\": \"2022-02-26T21:15:32.912684Z\", \"created_time_dt\": \"2022-02-26T21:15:32.912684Z\", \"duration\": \"0:02:02\", \"iteration\": \"40\", \"goal\": \"AUC_weighted_max\", \"run_name\": \"MinMaxScaler, RandomForest\", \"run_properties\": \"copy=True, feature_range=(0, 1\", \"primary_metric\": 0.90275703, \"best_metric\": 0.91237351}, {\"run_id\": \"AutoML_975a4537-b1ad-4faf-b244-1009a3757e03_41\", \"run_number\": 1645910136, \"metric\": null, \"status\": \"Completed\", \"run_type\": \"azureml.scriptrun\", \"training_percent\": \"100\", \"start_time\": \"2022-02-26T21:17:53.413693Z\", \"end_time\": \"2022-02-26T21:17:57.159567Z\", \"created_time\": \"2022-02-26T21:15:36.213664Z\", \"created_time_dt\": \"2022-02-26T21:15:36.213664Z\", \"duration\": \"0:02:20\", \"iteration\": \"41\", \"goal\": \"AUC_weighted_max\", \"run_name\": \"StandardScalerWrapper, XGBoostClassifier\", \"run_properties\": \"\\n    copy=True,\\n    with_mean=False,\\n    with_std=False\\n\", \"primary_metric\": 0.9020935, \"best_metric\": 0.91237351}, {\"run_id\": \"AutoML_975a4537-b1ad-4faf-b244-1009a3757e03_42\", \"run_number\": 1645910156, \"metric\": null, \"status\": \"Canceled\", \"run_type\": \"azureml.scriptrun\", \"training_percent\": \"100\", \"start_time\": \"2022-02-26T21:17:57.958199Z\", \"end_time\": \"2022-02-26T21:17:58.330977Z\", \"created_time\": \"2022-02-26T21:15:56.135246Z\", \"created_time_dt\": \"2022-02-26T21:15:56.135246Z\", \"duration\": \"0:02:02\", \"iteration\": \"42\", \"goal\": null, \"run_name\": \"Canceled\", \"run_properties\": null}, {\"run_id\": \"AutoML_975a4537-b1ad-4faf-b244-1009a3757e03_43\", \"run_number\": 1645910227, \"metric\": null, \"status\": \"Canceled\", \"run_type\": \"azureml.scriptrun\", \"training_percent\": \"100\", \"start_time\": \"2022-02-26T21:17:57.970843Z\", \"end_time\": \"2022-02-26T21:17:58.233861Z\", \"created_time\": \"2022-02-26T21:17:07.443387Z\", \"created_time_dt\": \"2022-02-26T21:17:07.443387Z\", \"duration\": \"0:00:50\", \"iteration\": \"43\", \"goal\": null, \"run_name\": \"Canceled\", \"run_properties\": null}, {\"run_id\": \"AutoML_975a4537-b1ad-4faf-b244-1009a3757e03_44\", \"run_number\": 1645910257, \"metric\": null, \"status\": \"Canceled\", \"run_type\": \"azureml.scriptrun\", \"training_percent\": \"100\", \"start_time\": \"2022-02-26T21:17:57.950289Z\", \"end_time\": \"2022-02-26T21:17:58.254327Z\", \"created_time\": \"2022-02-26T21:17:37.226375Z\", \"created_time_dt\": \"2022-02-26T21:17:37.226375Z\", \"duration\": \"0:00:21\", \"iteration\": \"44\", \"goal\": null, \"run_name\": \"Canceled\", \"run_properties\": null}, {\"run_id\": \"AutoML_975a4537-b1ad-4faf-b244-1009a3757e03_45\", \"run_number\": 1645910263, \"metric\": null, \"status\": \"Canceled\", \"run_type\": \"azureml.scriptrun\", \"training_percent\": \"100\", \"start_time\": \"2022-02-26T21:17:57.914225Z\", \"end_time\": \"2022-02-26T21:17:58.179891Z\", \"created_time\": \"2022-02-26T21:17:43.725336Z\", \"created_time_dt\": \"2022-02-26T21:17:43.725336Z\", \"duration\": \"0:00:14\", \"iteration\": \"45\", \"goal\": null, \"run_name\": \"Canceled\", \"run_properties\": null}, {\"run_id\": \"AutoML_975a4537-b1ad-4faf-b244-1009a3757e03_46\", \"run_number\": 1645910279, \"metric\": null, \"status\": \"Completed\", \"run_type\": \"azureml.scriptrun\", \"training_percent\": \"100\", \"start_time\": \"2022-02-26T21:19:40.003985Z\", \"end_time\": \"2022-02-26T21:19:43.762988Z\", \"created_time\": \"2022-02-26T21:17:59.308265Z\", \"created_time_dt\": \"2022-02-26T21:17:59.308265Z\", \"duration\": \"0:01:44\", \"iteration\": \"46\", \"goal\": \"AUC_weighted_max\", \"run_name\": \"VotingEnsemble\", \"run_properties\": \"\\n    estimators=[('27', Pipeline(\\n        memory=None,\\n        steps=[('minmaxscaler', MinMaxScaler(\\n            copy=True,\\n            feature_range=(0, 1\", \"primary_metric\": 0.92292204, \"best_metric\": 0.92292204}], \"children_metrics\": {\"categories\": [0], \"series\": {\"accuracy\": [{\"categories\": [\"0\", \"2\", \"6\", \"9\", \"11\", \"13\", \"17\", \"20\", \"23\", \"25\", \"27\", \"28\", \"29\", \"30\", \"31\", \"32\", \"33\", \"34\", \"35\", \"36\", \"37\", \"38\", \"39\", \"40\", \"41\", \"46\"], \"mode\": \"markers\", \"name\": \"accuracy\", \"stepped\": false, \"type\": \"scatter\", \"data\": [0.8359770114942527, 0.8324137931034483, 0.8225287356321838, 0.8394252873563219, 0.7624137931034483, 0.7658620689655172, 0.8324137931034483, 0.8560919540229885, 0.792528735632184, 0.6385057471264368, 0.8491954022988505, 0.8325287356321839, 0.8228735632183908, 0.6791954022988507, 0.7959770114942529, 0.8191954022988506, 0.7959770114942528, 0.8058620689655172, 0.8188505747126437, 0.8391954022988506, 0.8458620689655174, 0.8426436781609195, 0.8459770114942529, 0.8357471264367815, 0.8358620689655172, 0.8491954022988505]}, {\"categories\": [\"0\", \"2\", \"6\", \"9\", \"11\", \"13\", \"17\", \"20\", \"23\", \"25\", \"27\", \"28\", \"29\", \"30\", \"31\", \"32\", \"33\", \"34\", \"35\", \"36\", \"37\", \"38\", \"39\", \"40\", \"41\", \"46\"], \"mode\": \"lines\", \"name\": \"accuracy_max\", \"stepped\": true, \"type\": \"scatter\", \"data\": [0.8359770114942527, 0.8359770114942527, 0.8359770114942527, 0.8394252873563219, 0.8394252873563219, 0.8394252873563219, 0.8394252873563219, 0.8560919540229885, 0.8560919540229885, 0.8560919540229885, 0.8560919540229885, 0.8560919540229885, 0.8560919540229885, 0.8560919540229885, 0.8560919540229885, 0.8560919540229885, 0.8560919540229885, 0.8560919540229885, 0.8560919540229885, 0.8560919540229885, 0.8560919540229885, 0.8560919540229885, 0.8560919540229885, 0.8560919540229885, 0.8560919540229885, 0.8560919540229885]}], \"recall_score_macro\": [{\"categories\": [\"0\", \"2\", \"6\", \"9\", \"11\", \"13\", \"17\", \"20\", \"23\", \"25\", \"27\", \"28\", \"29\", \"30\", \"31\", \"32\", \"33\", \"34\", \"35\", \"36\", \"37\", \"38\", \"39\", \"40\", \"41\", \"46\"], \"mode\": \"markers\", \"name\": \"recall_score_macro\", \"stepped\": false, \"type\": \"scatter\", \"data\": [0.8077082895810014, 0.7885393634778647, 0.7764642419619536, 0.8123167491356851, 0.6882176063511876, 0.6741668441525421, 0.8070022697554162, 0.8224065759755119, 0.7890289850944885, 0.6282279843218058, 0.8444566034651846, 0.822018725585373, 0.7504986300566964, 0.5, 0.7507352926122949, 0.7948042178073642, 0.7463519099131227, 0.7714638060896643, 0.8074106267810501, 0.8102730223945898, 0.8238293753983112, 0.8176104948636412, 0.8152731297116308, 0.8108106163795522, 0.8099874789906254, 0.8285010925700285]}, {\"categories\": [\"0\", \"2\", \"6\", \"9\", \"11\", \"13\", \"17\", \"20\", \"23\", \"25\", \"27\", \"28\", \"29\", \"30\", \"31\", \"32\", \"33\", \"34\", \"35\", \"36\", \"37\", \"38\", \"39\", \"40\", \"41\", \"46\"], \"mode\": \"lines\", \"name\": \"recall_score_macro_max\", \"stepped\": true, \"type\": \"scatter\", \"data\": [0.8077082895810014, 0.8077082895810014, 0.8077082895810014, 0.8123167491356851, 0.8123167491356851, 0.8123167491356851, 0.8123167491356851, 0.8224065759755119, 0.8224065759755119, 0.8224065759755119, 0.8444566034651846, 0.8444566034651846, 0.8444566034651846, 0.8444566034651846, 0.8444566034651846, 0.8444566034651846, 0.8444566034651846, 0.8444566034651846, 0.8444566034651846, 0.8444566034651846, 0.8444566034651846, 0.8444566034651846, 0.8444566034651846, 0.8444566034651846, 0.8444566034651846, 0.8444566034651846]}], \"norm_macro_recall\": [{\"categories\": [\"0\", \"2\", \"6\", \"9\", \"11\", \"13\", \"17\", \"20\", \"23\", \"25\", \"27\", \"28\", \"29\", \"30\", \"31\", \"32\", \"33\", \"34\", \"35\", \"36\", \"37\", \"38\", \"39\", \"40\", \"41\", \"46\"], \"mode\": \"markers\", \"name\": \"norm_macro_recall\", \"stepped\": false, \"type\": \"scatter\", \"data\": [0.6154165791620023, 0.5770787269557293, 0.5529284839239071, 0.62463349827137, 0.37930602609950437, 0.34833368830508415, 0.6140045395108323, 0.6448131519510237, 0.5780579701889771, 0.26121787340551644, 0.6889132069303694, 0.6440374511707464, 0.5009972601133929, 0.0, 0.5014705852245898, 0.5896084356147284, 0.4927038198262455, 0.5429276121793284, 0.6148212535621003, 0.6205460447891797, 0.6476587507966226, 0.6352209897272825, 0.6305462594232617, 0.6216212327591046, 0.6199749579812508, 0.657002185140057]}, {\"categories\": [\"0\", \"2\", \"6\", \"9\", \"11\", \"13\", \"17\", \"20\", \"23\", \"25\", \"27\", \"28\", \"29\", \"30\", \"31\", \"32\", \"33\", \"34\", \"35\", \"36\", \"37\", \"38\", \"39\", \"40\", \"41\", \"46\"], \"mode\": \"lines\", \"name\": \"norm_macro_recall_max\", \"stepped\": true, \"type\": \"scatter\", \"data\": [0.6154165791620023, 0.6154165791620023, 0.6154165791620023, 0.62463349827137, 0.62463349827137, 0.62463349827137, 0.62463349827137, 0.6448131519510237, 0.6448131519510237, 0.6448131519510237, 0.6889132069303694, 0.6889132069303694, 0.6889132069303694, 0.6889132069303694, 0.6889132069303694, 0.6889132069303694, 0.6889132069303694, 0.6889132069303694, 0.6889132069303694, 0.6889132069303694, 0.6889132069303694, 0.6889132069303694, 0.6889132069303694, 0.6889132069303694, 0.6889132069303694, 0.6889132069303694]}], \"f1_score_weighted\": [{\"categories\": [\"0\", \"2\", \"6\", \"9\", \"11\", \"13\", \"17\", \"20\", \"23\", \"25\", \"27\", \"28\", \"29\", \"30\", \"31\", \"32\", \"33\", \"34\", \"35\", \"36\", \"37\", \"38\", \"39\", \"40\", \"41\", \"46\"], \"mode\": \"markers\", \"name\": \"f1_score_weighted\", \"stepped\": false, \"type\": \"scatter\", \"data\": [0.8333388901455894, 0.8255014537462049, 0.8172522868333717, 0.8374721450098518, 0.7422369662298149, 0.7414592889700058, 0.8319718830706873, 0.8528962935432418, 0.7966623210665318, 0.6479285887375592, 0.8526408507336536, 0.8348137945299866, 0.8074126855374967, 0.5534120288954022, 0.7882714387085354, 0.8164372874011155, 0.788535229424776, 0.8025364037999887, 0.8224619143176213, 0.8379613715061465, 0.8444957733278752, 0.8397902617501556, 0.8432378992044608, 0.8345791305861969, 0.8340671840025283, 0.8481621431489179]}, {\"categories\": [\"0\", \"2\", \"6\", \"9\", \"11\", \"13\", \"17\", \"20\", \"23\", \"25\", \"27\", \"28\", \"29\", \"30\", \"31\", \"32\", \"33\", \"34\", \"35\", \"36\", \"37\", \"38\", \"39\", \"40\", \"41\", \"46\"], \"mode\": \"lines\", \"name\": \"f1_score_weighted_max\", \"stepped\": true, \"type\": \"scatter\", \"data\": [0.8333388901455894, 0.8333388901455894, 0.8333388901455894, 0.8374721450098518, 0.8374721450098518, 0.8374721450098518, 0.8374721450098518, 0.8528962935432418, 0.8528962935432418, 0.8528962935432418, 0.8528962935432418, 0.8528962935432418, 0.8528962935432418, 0.8528962935432418, 0.8528962935432418, 0.8528962935432418, 0.8528962935432418, 0.8528962935432418, 0.8528962935432418, 0.8528962935432418, 0.8528962935432418, 0.8528962935432418, 0.8528962935432418, 0.8528962935432418, 0.8528962935432418, 0.8528962935432418]}], \"balanced_accuracy\": [{\"categories\": [\"0\", \"2\", \"6\", \"9\", \"11\", \"13\", \"17\", \"20\", \"23\", \"25\", \"27\", \"28\", \"29\", \"30\", \"31\", \"32\", \"33\", \"34\", \"35\", \"36\", \"37\", \"38\", \"39\", \"40\", \"41\", \"46\"], \"mode\": \"markers\", \"name\": \"balanced_accuracy\", \"stepped\": false, \"type\": \"scatter\", \"data\": [0.8077082895810014, 0.7885393634778647, 0.7764642419619536, 0.8123167491356851, 0.6882176063511876, 0.6741668441525421, 0.8070022697554162, 0.8224065759755119, 0.7890289850944885, 0.6282279843218058, 0.8444566034651846, 0.822018725585373, 0.7504986300566964, 0.5, 0.7507352926122949, 0.7948042178073642, 0.7463519099131227, 0.7714638060896643, 0.8074106267810501, 0.8102730223945898, 0.8238293753983112, 0.8176104948636412, 0.8152731297116308, 0.8108106163795522, 0.8099874789906254, 0.8285010925700285]}, {\"categories\": [\"0\", \"2\", \"6\", \"9\", \"11\", \"13\", \"17\", \"20\", \"23\", \"25\", \"27\", \"28\", \"29\", \"30\", \"31\", \"32\", \"33\", \"34\", \"35\", \"36\", \"37\", \"38\", \"39\", \"40\", \"41\", \"46\"], \"mode\": \"lines\", \"name\": \"balanced_accuracy_max\", \"stepped\": true, \"type\": \"scatter\", \"data\": [0.8077082895810014, 0.8077082895810014, 0.8077082895810014, 0.8123167491356851, 0.8123167491356851, 0.8123167491356851, 0.8123167491356851, 0.8224065759755119, 0.8224065759755119, 0.8224065759755119, 0.8444566034651846, 0.8444566034651846, 0.8444566034651846, 0.8444566034651846, 0.8444566034651846, 0.8444566034651846, 0.8444566034651846, 0.8444566034651846, 0.8444566034651846, 0.8444566034651846, 0.8444566034651846, 0.8444566034651846, 0.8444566034651846, 0.8444566034651846, 0.8444566034651846, 0.8444566034651846]}], \"f1_score_micro\": [{\"categories\": [\"0\", \"2\", \"6\", \"9\", \"11\", \"13\", \"17\", \"20\", \"23\", \"25\", \"27\", \"28\", \"29\", \"30\", \"31\", \"32\", \"33\", \"34\", \"35\", \"36\", \"37\", \"38\", \"39\", \"40\", \"41\", \"46\"], \"mode\": \"markers\", \"name\": \"f1_score_micro\", \"stepped\": false, \"type\": \"scatter\", \"data\": [0.8359770114942527, 0.8324137931034483, 0.8225287356321838, 0.8394252873563219, 0.7624137931034483, 0.7658620689655172, 0.8324137931034483, 0.8560919540229885, 0.792528735632184, 0.6385057471264368, 0.8491954022988505, 0.8325287356321839, 0.8228735632183908, 0.6791954022988507, 0.7959770114942529, 0.8191954022988506, 0.7959770114942529, 0.8058620689655172, 0.8188505747126437, 0.8391954022988506, 0.8458620689655174, 0.8426436781609196, 0.8459770114942529, 0.8357471264367815, 0.8358620689655174, 0.8491954022988505]}, {\"categories\": [\"0\", \"2\", \"6\", \"9\", \"11\", \"13\", \"17\", \"20\", \"23\", \"25\", \"27\", \"28\", \"29\", \"30\", \"31\", \"32\", \"33\", \"34\", \"35\", \"36\", \"37\", \"38\", \"39\", \"40\", \"41\", \"46\"], \"mode\": \"lines\", \"name\": \"f1_score_micro_max\", \"stepped\": true, \"type\": \"scatter\", \"data\": [0.8359770114942527, 0.8359770114942527, 0.8359770114942527, 0.8394252873563219, 0.8394252873563219, 0.8394252873563219, 0.8394252873563219, 0.8560919540229885, 0.8560919540229885, 0.8560919540229885, 0.8560919540229885, 0.8560919540229885, 0.8560919540229885, 0.8560919540229885, 0.8560919540229885, 0.8560919540229885, 0.8560919540229885, 0.8560919540229885, 0.8560919540229885, 0.8560919540229885, 0.8560919540229885, 0.8560919540229885, 0.8560919540229885, 0.8560919540229885, 0.8560919540229885, 0.8560919540229885]}], \"log_loss\": [{\"categories\": [\"0\", \"2\", \"6\", \"9\", \"11\", \"13\", \"17\", \"20\", \"23\", \"25\", \"27\", \"28\", \"29\", \"30\", \"31\", \"32\", \"33\", \"34\", \"35\", \"36\", \"37\", \"38\", \"39\", \"40\", \"41\", \"46\"], \"mode\": \"markers\", \"name\": \"log_loss\", \"stepped\": false, \"type\": \"scatter\", \"data\": [0.48178524669308065, 0.4131594566849716, 0.4754448220270021, 0.3730034495292881, 0.5272870443321099, 1.2827620632333787, 0.3765204339824083, 0.37203366403086247, 0.4626758255767503, 0.6542040069449747, 0.4765644231823634, 0.5746933842922576, 0.4589501193790074, 0.6204123194840878, 0.4471854121914876, 0.42184559049273507, 0.5227245883443155, 0.4267106544842035, 0.41136010177476995, 0.41447923140221643, 0.38229634870369533, 0.3592859108257578, 0.366821025999443, 0.35625834911236415, 0.3933472069874128, 0.40340105280408933]}, {\"categories\": [\"0\", \"2\", \"6\", \"9\", \"11\", \"13\", \"17\", \"20\", \"23\", \"25\", \"27\", \"28\", \"29\", \"30\", \"31\", \"32\", \"33\", \"34\", \"35\", \"36\", \"37\", \"38\", \"39\", \"40\", \"41\", \"46\"], \"mode\": \"lines\", \"name\": \"log_loss_min\", \"stepped\": true, \"type\": \"scatter\", \"data\": [0.48178524669308065, 0.4131594566849716, 0.4131594566849716, 0.3730034495292881, 0.3730034495292881, 0.3730034495292881, 0.3730034495292881, 0.37203366403086247, 0.37203366403086247, 0.37203366403086247, 0.37203366403086247, 0.37203366403086247, 0.37203366403086247, 0.37203366403086247, 0.37203366403086247, 0.37203366403086247, 0.37203366403086247, 0.37203366403086247, 0.37203366403086247, 0.37203366403086247, 0.37203366403086247, 0.3592859108257578, 0.3592859108257578, 0.35625834911236415, 0.35625834911236415, 0.35625834911236415]}], \"average_precision_score_macro\": [{\"categories\": [\"0\", \"2\", \"6\", \"9\", \"11\", \"13\", \"17\", \"20\", \"23\", \"25\", \"27\", \"28\", \"29\", \"30\", \"31\", \"32\", \"33\", \"34\", \"35\", \"36\", \"37\", \"38\", \"39\", \"40\", \"41\", \"46\"], \"mode\": \"markers\", \"name\": \"average_precision_score_macro\", \"stepped\": false, \"type\": \"scatter\", \"data\": [0.8794329614904072, 0.8720593718919988, 0.8549011972784539, 0.8860906477221151, 0.7828607569198942, 0.7597412180878824, 0.8946561251315908, 0.8874550291522019, 0.8522056473141492, 0.6997059334609408, 0.9060807321926057, 0.8813854560677795, 0.8768619171957142, 0.726708182196327, 0.8364302656605391, 0.8862760746082822, 0.8139518511276659, 0.8466041444696979, 0.8836490499743404, 0.8570182851089229, 0.8935971332163083, 0.897484316030036, 0.9010953872564125, 0.9006640718363347, 0.8910056656639769, 0.9139276543886137]}, {\"categories\": [\"0\", \"2\", \"6\", \"9\", \"11\", \"13\", \"17\", \"20\", \"23\", \"25\", \"27\", \"28\", \"29\", \"30\", \"31\", \"32\", \"33\", \"34\", \"35\", \"36\", \"37\", \"38\", \"39\", \"40\", \"41\", \"46\"], \"mode\": \"lines\", \"name\": \"average_precision_score_macro_max\", \"stepped\": true, \"type\": \"scatter\", \"data\": [0.8794329614904072, 0.8794329614904072, 0.8794329614904072, 0.8860906477221151, 0.8860906477221151, 0.8860906477221151, 0.8946561251315908, 0.8946561251315908, 0.8946561251315908, 0.8946561251315908, 0.9060807321926057, 0.9060807321926057, 0.9060807321926057, 0.9060807321926057, 0.9060807321926057, 0.9060807321926057, 0.9060807321926057, 0.9060807321926057, 0.9060807321926057, 0.9060807321926057, 0.9060807321926057, 0.9060807321926057, 0.9060807321926057, 0.9060807321926057, 0.9060807321926057, 0.9139276543886137]}], \"AUC_micro\": [{\"categories\": [\"0\", \"2\", \"6\", \"9\", \"11\", \"13\", \"17\", \"20\", \"23\", \"25\", \"27\", \"28\", \"29\", \"30\", \"31\", \"32\", \"33\", \"34\", \"35\", \"36\", \"37\", \"38\", \"39\", \"40\", \"41\", \"46\"], \"mode\": \"markers\", \"name\": \"AUC_micro\", \"stepped\": false, \"type\": \"scatter\", \"data\": [0.9026533227639053, 0.8953375611045052, 0.8914057339146518, 0.9097742105958513, 0.8186300700224601, 0.8058736953362399, 0.9091893248777909, 0.9128833399392258, 0.8640823094200026, 0.72846465847536, 0.9171562954155107, 0.8880743823490554, 0.8809534945171092, 0.7808289073853877, 0.8669886378649755, 0.9054544854009776, 0.8474155766944115, 0.8754740388426476, 0.892331880036993, 0.8880091161315894, 0.9137390672479853, 0.9208715814506541, 0.9184447086801427, 0.9148853217069626, 0.9084700753071742, 0.927039239001189]}, {\"categories\": [\"0\", \"2\", \"6\", \"9\", \"11\", \"13\", \"17\", \"20\", \"23\", \"25\", \"27\", \"28\", \"29\", \"30\", \"31\", \"32\", \"33\", \"34\", \"35\", \"36\", \"37\", \"38\", \"39\", \"40\", \"41\", \"46\"], \"mode\": \"lines\", \"name\": \"AUC_micro_max\", \"stepped\": true, \"type\": \"scatter\", \"data\": [0.9026533227639053, 0.9026533227639053, 0.9026533227639053, 0.9097742105958513, 0.9097742105958513, 0.9097742105958513, 0.9097742105958513, 0.9128833399392258, 0.9128833399392258, 0.9128833399392258, 0.9171562954155107, 0.9171562954155107, 0.9171562954155107, 0.9171562954155107, 0.9171562954155107, 0.9171562954155107, 0.9171562954155107, 0.9171562954155107, 0.9171562954155107, 0.9171562954155107, 0.9171562954155107, 0.9208715814506541, 0.9208715814506541, 0.9208715814506541, 0.9208715814506541, 0.927039239001189]}], \"recall_score_weighted\": [{\"categories\": [\"0\", \"2\", \"6\", \"9\", \"11\", \"13\", \"17\", \"20\", \"23\", \"25\", \"27\", \"28\", \"29\", \"30\", \"31\", \"32\", \"33\", \"34\", \"35\", \"36\", \"37\", \"38\", \"39\", \"40\", \"41\", \"46\"], \"mode\": \"markers\", \"name\": \"recall_score_weighted\", \"stepped\": false, \"type\": \"scatter\", \"data\": [0.8359770114942527, 0.8324137931034483, 0.8225287356321838, 0.8394252873563219, 0.7624137931034483, 0.7658620689655172, 0.8324137931034483, 0.8560919540229885, 0.792528735632184, 0.6385057471264368, 0.8491954022988505, 0.8325287356321839, 0.8228735632183908, 0.6791954022988507, 0.7959770114942529, 0.8191954022988506, 0.7959770114942528, 0.8058620689655172, 0.8188505747126437, 0.8391954022988506, 0.8458620689655174, 0.8426436781609195, 0.8459770114942529, 0.8357471264367815, 0.8358620689655172, 0.8491954022988505]}, {\"categories\": [\"0\", \"2\", \"6\", \"9\", \"11\", \"13\", \"17\", \"20\", \"23\", \"25\", \"27\", \"28\", \"29\", \"30\", \"31\", \"32\", \"33\", \"34\", \"35\", \"36\", \"37\", \"38\", \"39\", \"40\", \"41\", \"46\"], \"mode\": \"lines\", \"name\": \"recall_score_weighted_max\", \"stepped\": true, \"type\": \"scatter\", \"data\": [0.8359770114942527, 0.8359770114942527, 0.8359770114942527, 0.8394252873563219, 0.8394252873563219, 0.8394252873563219, 0.8394252873563219, 0.8560919540229885, 0.8560919540229885, 0.8560919540229885, 0.8560919540229885, 0.8560919540229885, 0.8560919540229885, 0.8560919540229885, 0.8560919540229885, 0.8560919540229885, 0.8560919540229885, 0.8560919540229885, 0.8560919540229885, 0.8560919540229885, 0.8560919540229885, 0.8560919540229885, 0.8560919540229885, 0.8560919540229885, 0.8560919540229885, 0.8560919540229885]}], \"precision_score_macro\": [{\"categories\": [\"0\", \"2\", \"6\", \"9\", \"11\", \"13\", \"17\", \"20\", \"23\", \"25\", \"27\", \"28\", \"29\", \"30\", \"31\", \"32\", \"33\", \"34\", \"35\", \"36\", \"37\", \"38\", \"39\", \"40\", \"41\", \"46\"], \"mode\": \"markers\", \"name\": \"precision_score_macro\", \"stepped\": false, \"type\": \"scatter\", \"data\": [0.8167365852764965, 0.8341026091884215, 0.8111825429846025, 0.8185504109417152, 0.7636228465576292, 0.773829678500159, 0.823237395064441, 0.8408582185788067, 0.7717295219830049, 0.6149372962087493, 0.8192656131278422, 0.8067513708435265, 0.8525744810744811, 0.33959770114942534, 0.7884373706004141, 0.801165665316123, 0.7927091929809321, 0.7960613754412382, 0.7938148405601966, 0.8178506415082503, 0.8363576339119817, 0.8287602691426221, 0.8300229076479075, 0.8176299877658574, 0.8268033671358481, 0.8363227744477744]}, {\"categories\": [\"0\", \"2\", \"6\", \"9\", \"11\", \"13\", \"17\", \"20\", \"23\", \"25\", \"27\", \"28\", \"29\", \"30\", \"31\", \"32\", \"33\", \"34\", \"35\", \"36\", \"37\", \"38\", \"39\", \"40\", \"41\", \"46\"], \"mode\": \"lines\", \"name\": \"precision_score_macro_max\", \"stepped\": true, \"type\": \"scatter\", \"data\": [0.8167365852764965, 0.8341026091884215, 0.8341026091884215, 0.8341026091884215, 0.8341026091884215, 0.8341026091884215, 0.8341026091884215, 0.8408582185788067, 0.8408582185788067, 0.8408582185788067, 0.8408582185788067, 0.8408582185788067, 0.8525744810744811, 0.8525744810744811, 0.8525744810744811, 0.8525744810744811, 0.8525744810744811, 0.8525744810744811, 0.8525744810744811, 0.8525744810744811, 0.8525744810744811, 0.8525744810744811, 0.8525744810744811, 0.8525744810744811, 0.8525744810744811, 0.8525744810744811]}], \"average_precision_score_micro\": [{\"categories\": [\"0\", \"2\", \"6\", \"9\", \"11\", \"13\", \"17\", \"20\", \"23\", \"25\", \"27\", \"28\", \"29\", \"30\", \"31\", \"32\", \"33\", \"34\", \"35\", \"36\", \"37\", \"38\", \"39\", \"40\", \"41\", \"46\"], \"mode\": \"markers\", \"name\": \"average_precision_score_micro\", \"stepped\": false, \"type\": \"scatter\", \"data\": [0.9012598211363931, 0.8967678377727315, 0.8947304292910921, 0.9123926121965862, 0.8181187533923617, 0.792947413420068, 0.9100094197510025, 0.915055993167238, 0.861974341731363, 0.7451460936324481, 0.9171849518785716, 0.8893488358985687, 0.8843661517005399, 0.7878173040255815, 0.8723581527043602, 0.9094265622214699, 0.8446565808657288, 0.8798901696964151, 0.8938784731487557, 0.8912620349001588, 0.9163178702779092, 0.9241277178608778, 0.9207723631001773, 0.9184956344751096, 0.9109377495792348, 0.9281035942493425]}, {\"categories\": [\"0\", \"2\", \"6\", \"9\", \"11\", \"13\", \"17\", \"20\", \"23\", \"25\", \"27\", \"28\", \"29\", \"30\", \"31\", \"32\", \"33\", \"34\", \"35\", \"36\", \"37\", \"38\", \"39\", \"40\", \"41\", \"46\"], \"mode\": \"lines\", \"name\": \"average_precision_score_micro_max\", \"stepped\": true, \"type\": \"scatter\", \"data\": [0.9012598211363931, 0.9012598211363931, 0.9012598211363931, 0.9123926121965862, 0.9123926121965862, 0.9123926121965862, 0.9123926121965862, 0.915055993167238, 0.915055993167238, 0.915055993167238, 0.9171849518785716, 0.9171849518785716, 0.9171849518785716, 0.9171849518785716, 0.9171849518785716, 0.9171849518785716, 0.9171849518785716, 0.9171849518785716, 0.9171849518785716, 0.9171849518785716, 0.9171849518785716, 0.9241277178608778, 0.9241277178608778, 0.9241277178608778, 0.9241277178608778, 0.9281035942493425]}], \"recall_score_micro\": [{\"categories\": [\"0\", \"2\", \"6\", \"9\", \"11\", \"13\", \"17\", \"20\", \"23\", \"25\", \"27\", \"28\", \"29\", \"30\", \"31\", \"32\", \"33\", \"34\", \"35\", \"36\", \"37\", \"38\", \"39\", \"40\", \"41\", \"46\"], \"mode\": \"markers\", \"name\": \"recall_score_micro\", \"stepped\": false, \"type\": \"scatter\", \"data\": [0.8359770114942527, 0.8324137931034483, 0.8225287356321838, 0.8394252873563219, 0.7624137931034483, 0.7658620689655172, 0.8324137931034483, 0.8560919540229885, 0.792528735632184, 0.6385057471264368, 0.8491954022988505, 0.8325287356321839, 0.8228735632183908, 0.6791954022988507, 0.7959770114942529, 0.8191954022988506, 0.7959770114942528, 0.8058620689655172, 0.8188505747126437, 0.8391954022988506, 0.8458620689655174, 0.8426436781609195, 0.8459770114942529, 0.8357471264367815, 0.8358620689655172, 0.8491954022988505]}, {\"categories\": [\"0\", \"2\", \"6\", \"9\", \"11\", \"13\", \"17\", \"20\", \"23\", \"25\", \"27\", \"28\", \"29\", \"30\", \"31\", \"32\", \"33\", \"34\", \"35\", \"36\", \"37\", \"38\", \"39\", \"40\", \"41\", \"46\"], \"mode\": \"lines\", \"name\": \"recall_score_micro_max\", \"stepped\": true, \"type\": \"scatter\", \"data\": [0.8359770114942527, 0.8359770114942527, 0.8359770114942527, 0.8394252873563219, 0.8394252873563219, 0.8394252873563219, 0.8394252873563219, 0.8560919540229885, 0.8560919540229885, 0.8560919540229885, 0.8560919540229885, 0.8560919540229885, 0.8560919540229885, 0.8560919540229885, 0.8560919540229885, 0.8560919540229885, 0.8560919540229885, 0.8560919540229885, 0.8560919540229885, 0.8560919540229885, 0.8560919540229885, 0.8560919540229885, 0.8560919540229885, 0.8560919540229885, 0.8560919540229885, 0.8560919540229885]}], \"AUC_weighted\": [{\"categories\": [\"0\", \"2\", \"6\", \"9\", \"11\", \"13\", \"17\", \"20\", \"23\", \"25\", \"27\", \"28\", \"29\", \"30\", \"31\", \"32\", \"33\", \"34\", \"35\", \"36\", \"37\", \"38\", \"39\", \"40\", \"41\", \"46\"], \"mode\": \"markers\", \"name\": \"AUC_weighted\", \"stepped\": false, \"type\": \"scatter\", \"data\": [0.8831034719814468, 0.8809746084028693, 0.8672331527930499, 0.8987380685739381, 0.7996258755419511, 0.7464011599733854, 0.898330982732413, 0.8960912485429647, 0.867422648766184, 0.7052293192907609, 0.9123735115401592, 0.8813036650695689, 0.8789641466974419, 0.7494503844976957, 0.8464480421794495, 0.8982351926973781, 0.8122161846755669, 0.8590076921828066, 0.8889989251785592, 0.8687303076807081, 0.9052238400678905, 0.9118830864215877, 0.9086028806645512, 0.9027570328984517, 0.9020935013477921, 0.9229220390402885]}, {\"categories\": [\"0\", \"2\", \"6\", \"9\", \"11\", \"13\", \"17\", \"20\", \"23\", \"25\", \"27\", \"28\", \"29\", \"30\", \"31\", \"32\", \"33\", \"34\", \"35\", \"36\", \"37\", \"38\", \"39\", \"40\", \"41\", \"46\"], \"mode\": \"lines\", \"name\": \"AUC_weighted_max\", \"stepped\": true, \"type\": \"scatter\", \"data\": [0.8831034719814468, 0.8831034719814468, 0.8831034719814468, 0.8987380685739381, 0.8987380685739381, 0.8987380685739381, 0.8987380685739381, 0.8987380685739381, 0.8987380685739381, 0.8987380685739381, 0.9123735115401592, 0.9123735115401592, 0.9123735115401592, 0.9123735115401592, 0.9123735115401592, 0.9123735115401592, 0.9123735115401592, 0.9123735115401592, 0.9123735115401592, 0.9123735115401592, 0.9123735115401592, 0.9123735115401592, 0.9123735115401592, 0.9123735115401592, 0.9123735115401592, 0.9229220390402885]}], \"precision_score_micro\": [{\"categories\": [\"0\", \"2\", \"6\", \"9\", \"11\", \"13\", \"17\", \"20\", \"23\", \"25\", \"27\", \"28\", \"29\", \"30\", \"31\", \"32\", \"33\", \"34\", \"35\", \"36\", \"37\", \"38\", \"39\", \"40\", \"41\", \"46\"], \"mode\": \"markers\", \"name\": \"precision_score_micro\", \"stepped\": false, \"type\": \"scatter\", \"data\": [0.8359770114942527, 0.8324137931034483, 0.8225287356321838, 0.8394252873563219, 0.7624137931034483, 0.7658620689655172, 0.8324137931034483, 0.8560919540229885, 0.792528735632184, 0.6385057471264368, 0.8491954022988505, 0.8325287356321839, 0.8228735632183908, 0.6791954022988507, 0.7959770114942529, 0.8191954022988506, 0.7959770114942528, 0.8058620689655172, 0.8188505747126437, 0.8391954022988506, 0.8458620689655174, 0.8426436781609195, 0.8459770114942529, 0.8357471264367815, 0.8358620689655172, 0.8491954022988505]}, {\"categories\": [\"0\", \"2\", \"6\", \"9\", \"11\", \"13\", \"17\", \"20\", \"23\", \"25\", \"27\", \"28\", \"29\", \"30\", \"31\", \"32\", \"33\", \"34\", \"35\", \"36\", \"37\", \"38\", \"39\", \"40\", \"41\", \"46\"], \"mode\": \"lines\", \"name\": \"precision_score_micro_max\", \"stepped\": true, \"type\": \"scatter\", \"data\": [0.8359770114942527, 0.8359770114942527, 0.8359770114942527, 0.8394252873563219, 0.8394252873563219, 0.8394252873563219, 0.8394252873563219, 0.8560919540229885, 0.8560919540229885, 0.8560919540229885, 0.8560919540229885, 0.8560919540229885, 0.8560919540229885, 0.8560919540229885, 0.8560919540229885, 0.8560919540229885, 0.8560919540229885, 0.8560919540229885, 0.8560919540229885, 0.8560919540229885, 0.8560919540229885, 0.8560919540229885, 0.8560919540229885, 0.8560919540229885, 0.8560919540229885, 0.8560919540229885]}], \"f1_score_macro\": [{\"categories\": [\"0\", \"2\", \"6\", \"9\", \"11\", \"13\", \"17\", \"20\", \"23\", \"25\", \"27\", \"28\", \"29\", \"30\", \"31\", \"32\", \"33\", \"34\", \"35\", \"36\", \"37\", \"38\", \"39\", \"40\", \"41\", \"46\"], \"mode\": \"markers\", \"name\": \"f1_score_macro\", \"stepped\": false, \"type\": \"scatter\", \"data\": [0.8043314151248963, 0.7938872364850489, 0.7799209816490544, 0.8072994399507707, 0.6877609273982171, 0.6829016131755693, 0.8040480589242198, 0.822815722901729, 0.7627173409308519, 0.6020492838971099, 0.8258634144142226, 0.8073532821162293, 0.7678747568312649, 0.4024893878511494, 0.7503744902681159, 0.7852600460026233, 0.7510775736213877, 0.7686338415626341, 0.7924567856388502, 0.8076415610980598, 0.8200781802001705, 0.8120217356183229, 0.8138702869293123, 0.8041278600677488, 0.8082161908780117, 0.8232074360243274]}, {\"categories\": [\"0\", \"2\", \"6\", \"9\", \"11\", \"13\", \"17\", \"20\", \"23\", \"25\", \"27\", \"28\", \"29\", \"30\", \"31\", \"32\", \"33\", \"34\", \"35\", \"36\", \"37\", \"38\", \"39\", \"40\", \"41\", \"46\"], \"mode\": \"lines\", \"name\": \"f1_score_macro_max\", \"stepped\": true, \"type\": \"scatter\", \"data\": [0.8043314151248963, 0.8043314151248963, 0.8043314151248963, 0.8072994399507707, 0.8072994399507707, 0.8072994399507707, 0.8072994399507707, 0.822815722901729, 0.822815722901729, 0.822815722901729, 0.8258634144142226, 0.8258634144142226, 0.8258634144142226, 0.8258634144142226, 0.8258634144142226, 0.8258634144142226, 0.8258634144142226, 0.8258634144142226, 0.8258634144142226, 0.8258634144142226, 0.8258634144142226, 0.8258634144142226, 0.8258634144142226, 0.8258634144142226, 0.8258634144142226, 0.8258634144142226]}], \"precision_score_weighted\": [{\"categories\": [\"0\", \"2\", \"6\", \"9\", \"11\", \"13\", \"17\", \"20\", \"23\", \"25\", \"27\", \"28\", \"29\", \"30\", \"31\", \"32\", \"33\", \"34\", \"35\", \"36\", \"37\", \"38\", \"39\", \"40\", \"41\", \"46\"], \"mode\": \"markers\", \"name\": \"precision_score_weighted\", \"stepped\": false, \"type\": \"scatter\", \"data\": [0.8443308716969533, 0.8478411807425064, 0.8306327939926141, 0.8501022605580326, 0.7803303557410255, 0.7784834739122095, 0.8501766773723185, 0.8642312691252855, 0.8303048768950072, 0.6883613868311651, 0.865263691455455, 0.8482698244991894, 0.8431811102690412, 0.47055053507728895, 0.8139877838858348, 0.8368296437431015, 0.8121496695042423, 0.8260216977407856, 0.8398704215619184, 0.8482895713939568, 0.8607166252038816, 0.8567303610858378, 0.8564982957655373, 0.8515353353265647, 0.850295564167731, 0.8632539079694252]}, {\"categories\": [\"0\", \"2\", \"6\", \"9\", \"11\", \"13\", \"17\", \"20\", \"23\", \"25\", \"27\", \"28\", \"29\", \"30\", \"31\", \"32\", \"33\", \"34\", \"35\", \"36\", \"37\", \"38\", \"39\", \"40\", \"41\", \"46\"], \"mode\": \"lines\", \"name\": \"precision_score_weighted_max\", \"stepped\": true, \"type\": \"scatter\", \"data\": [0.8443308716969533, 0.8478411807425064, 0.8478411807425064, 0.8501022605580326, 0.8501022605580326, 0.8501022605580326, 0.8501766773723185, 0.8642312691252855, 0.8642312691252855, 0.8642312691252855, 0.865263691455455, 0.865263691455455, 0.865263691455455, 0.865263691455455, 0.865263691455455, 0.865263691455455, 0.865263691455455, 0.865263691455455, 0.865263691455455, 0.865263691455455, 0.865263691455455, 0.865263691455455, 0.865263691455455, 0.865263691455455, 0.865263691455455, 0.865263691455455]}], \"average_precision_score_weighted\": [{\"categories\": [\"0\", \"2\", \"6\", \"9\", \"11\", \"13\", \"17\", \"20\", \"23\", \"25\", \"27\", \"28\", \"29\", \"30\", \"31\", \"32\", \"33\", \"34\", \"35\", \"36\", \"37\", \"38\", \"39\", \"40\", \"41\", \"46\"], \"mode\": \"markers\", \"name\": \"average_precision_score_weighted\", \"stepped\": false, \"type\": \"scatter\", \"data\": [0.9051008129377234, 0.9014694942861601, 0.8899646080634913, 0.9135131203300515, 0.8273529911223733, 0.7942963774294312, 0.9184955544546682, 0.9151320934713377, 0.8886032389371155, 0.762925566054917, 0.9284410269138365, 0.9047682125363137, 0.9023028320455448, 0.7853914015429155, 0.873188266954204, 0.9153417351473421, 0.8462863719322218, 0.8828831126090391, 0.9084400292522476, 0.8922477060243329, 0.9214725136350819, 0.9245831297568123, 0.9242426156824932, 0.9233774025958038, 0.9181113732711139, 0.9358621279993912]}, {\"categories\": [\"0\", \"2\", \"6\", \"9\", \"11\", \"13\", \"17\", \"20\", \"23\", \"25\", \"27\", \"28\", \"29\", \"30\", \"31\", \"32\", \"33\", \"34\", \"35\", \"36\", \"37\", \"38\", \"39\", \"40\", \"41\", \"46\"], \"mode\": \"lines\", \"name\": \"average_precision_score_weighted_max\", \"stepped\": true, \"type\": \"scatter\", \"data\": [0.9051008129377234, 0.9051008129377234, 0.9051008129377234, 0.9135131203300515, 0.9135131203300515, 0.9135131203300515, 0.9184955544546682, 0.9184955544546682, 0.9184955544546682, 0.9184955544546682, 0.9284410269138365, 0.9284410269138365, 0.9284410269138365, 0.9284410269138365, 0.9284410269138365, 0.9284410269138365, 0.9284410269138365, 0.9284410269138365, 0.9284410269138365, 0.9284410269138365, 0.9284410269138365, 0.9284410269138365, 0.9284410269138365, 0.9284410269138365, 0.9284410269138365, 0.9358621279993912]}], \"weighted_accuracy\": [{\"categories\": [\"0\", \"2\", \"6\", \"9\", \"11\", \"13\", \"17\", \"20\", \"23\", \"25\", \"27\", \"28\", \"29\", \"30\", \"31\", \"32\", \"33\", \"34\", \"35\", \"36\", \"37\", \"38\", \"39\", \"40\", \"41\", \"46\"], \"mode\": \"markers\", \"name\": \"weighted_accuracy\", \"stepped\": false, \"type\": \"scatter\", \"data\": [0.8541321922200625, 0.8613196518874411, 0.8479454199559713, 0.8575100216180992, 0.8120761347883961, 0.8242342713380824, 0.8477599752833603, 0.8769593319167646, 0.794035685460014, 0.646894018959528, 0.8512351738425743, 0.8380858466781591, 0.8700064459053621, 0.7931711479234276, 0.8263346612937694, 0.8357389731437506, 0.8287340231487613, 0.8284151216724471, 0.825365239273143, 0.8568452791587398, 0.8592936300508691, 0.8586891964820825, 0.8653290951120024, 0.8518899343752887, 0.8520765734718856, 0.8616892879209794]}, {\"categories\": [\"0\", \"2\", \"6\", \"9\", \"11\", \"13\", \"17\", \"20\", \"23\", \"25\", \"27\", \"28\", \"29\", \"30\", \"31\", \"32\", \"33\", \"34\", \"35\", \"36\", \"37\", \"38\", \"39\", \"40\", \"41\", \"46\"], \"mode\": \"lines\", \"name\": \"weighted_accuracy_max\", \"stepped\": true, \"type\": \"scatter\", \"data\": [0.8541321922200625, 0.8613196518874411, 0.8613196518874411, 0.8613196518874411, 0.8613196518874411, 0.8613196518874411, 0.8613196518874411, 0.8769593319167646, 0.8769593319167646, 0.8769593319167646, 0.8769593319167646, 0.8769593319167646, 0.8769593319167646, 0.8769593319167646, 0.8769593319167646, 0.8769593319167646, 0.8769593319167646, 0.8769593319167646, 0.8769593319167646, 0.8769593319167646, 0.8769593319167646, 0.8769593319167646, 0.8769593319167646, 0.8769593319167646, 0.8769593319167646, 0.8769593319167646]}], \"AUC_macro\": [{\"categories\": [\"0\", \"2\", \"6\", \"9\", \"11\", \"13\", \"17\", \"20\", \"23\", \"25\", \"27\", \"28\", \"29\", \"30\", \"31\", \"32\", \"33\", \"34\", \"35\", \"36\", \"37\", \"38\", \"39\", \"40\", \"41\", \"46\"], \"mode\": \"markers\", \"name\": \"AUC_macro\", \"stepped\": false, \"type\": \"scatter\", \"data\": [0.8831034719814468, 0.8809746084028692, 0.8672331527930499, 0.8987380685739381, 0.7996258755419511, 0.7464011599733854, 0.898330982732413, 0.8960912485429647, 0.8674226487661842, 0.7052293192907608, 0.9123735115401592, 0.8813036650695689, 0.8789641466974419, 0.7494503844976957, 0.8464480421794495, 0.8982351926973781, 0.8122161846755669, 0.8590076921828066, 0.8889989251785589, 0.8687303076807081, 0.9052238400678905, 0.9118830864215877, 0.9086028806645512, 0.9027570328984517, 0.9020935013477921, 0.9229220390402885]}, {\"categories\": [\"0\", \"2\", \"6\", \"9\", \"11\", \"13\", \"17\", \"20\", \"23\", \"25\", \"27\", \"28\", \"29\", \"30\", \"31\", \"32\", \"33\", \"34\", \"35\", \"36\", \"37\", \"38\", \"39\", \"40\", \"41\", \"46\"], \"mode\": \"lines\", \"name\": \"AUC_macro_max\", \"stepped\": true, \"type\": \"scatter\", \"data\": [0.8831034719814468, 0.8831034719814468, 0.8831034719814468, 0.8987380685739381, 0.8987380685739381, 0.8987380685739381, 0.8987380685739381, 0.8987380685739381, 0.8987380685739381, 0.8987380685739381, 0.9123735115401592, 0.9123735115401592, 0.9123735115401592, 0.9123735115401592, 0.9123735115401592, 0.9123735115401592, 0.9123735115401592, 0.9123735115401592, 0.9123735115401592, 0.9123735115401592, 0.9123735115401592, 0.9123735115401592, 0.9123735115401592, 0.9123735115401592, 0.9123735115401592, 0.9229220390402885]}], \"matthews_correlation\": [{\"categories\": [\"0\", \"2\", \"6\", \"9\", \"11\", \"13\", \"17\", \"20\", \"23\", \"25\", \"27\", \"28\", \"29\", \"30\", \"31\", \"32\", \"33\", \"34\", \"35\", \"36\", \"37\", \"38\", \"39\", \"40\", \"41\", \"46\"], \"mode\": \"markers\", \"name\": \"matthews_correlation\", \"stepped\": false, \"type\": \"scatter\", \"data\": [0.6231314496952846, 0.6180139458779571, 0.581909708969879, 0.6296299754739507, 0.4379480277909057, 0.4335563191961641, 0.6282189296286947, 0.6613844749265068, 0.5585540540065608, 0.241402555028488, 0.6626415913082766, 0.6276525614756291, 0.5914459811166666, 0.0, 0.5349941794419928, 0.5938510392707805, 0.5347217076903208, 0.5650564683775806, 0.6003632851937899, 0.6273448398112217, 0.6583428863873485, 0.6445382611816468, 0.6439939879311132, 0.6269519078989106, 0.635076888149394, 0.6632996693731532]}, {\"categories\": [\"0\", \"2\", \"6\", \"9\", \"11\", \"13\", \"17\", \"20\", \"23\", \"25\", \"27\", \"28\", \"29\", \"30\", \"31\", \"32\", \"33\", \"34\", \"35\", \"36\", \"37\", \"38\", \"39\", \"40\", \"41\", \"46\"], \"mode\": \"lines\", \"name\": \"matthews_correlation_max\", \"stepped\": true, \"type\": \"scatter\", \"data\": [0.6231314496952846, 0.6231314496952846, 0.6231314496952846, 0.6296299754739507, 0.6296299754739507, 0.6296299754739507, 0.6296299754739507, 0.6613844749265068, 0.6613844749265068, 0.6613844749265068, 0.6626415913082766, 0.6626415913082766, 0.6626415913082766, 0.6626415913082766, 0.6626415913082766, 0.6626415913082766, 0.6626415913082766, 0.6626415913082766, 0.6626415913082766, 0.6626415913082766, 0.6626415913082766, 0.6626415913082766, 0.6626415913082766, 0.6626415913082766, 0.6626415913082766, 0.6632996693731532]}]}, \"metricName\": null, \"primaryMetricName\": \"AUC_weighted\", \"showLegend\": false}, \"run_metrics\": [{\"name\": \"experiment_status\", \"run_id\": \"AutoML_975a4537-b1ad-4faf-b244-1009a3757e03\", \"categories\": [0, 1, 2, 3, 4, 5, 6, 7, 8, 9, 10, 11, 12, 13], \"series\": [{\"data\": [\"DatasetEvaluation\", \"FeaturesGeneration\", \"DatasetFeaturization\", \"DatasetFeaturizationCompleted\", \"DatasetCrossValidationSplit\", \"ModelSelection\", \"BestRunExplainModel\", \"ModelExplanationDataSetSetup\", \"PickSurrogateModel\", \"EngineeredFeatureExplanations\", \"EngineeredFeatureExplanations\", \"RawFeaturesExplanations\", \"RawFeaturesExplanations\", \"BestRunExplainModel\"]}]}, {\"name\": \"experiment_status_description\", \"run_id\": \"AutoML_975a4537-b1ad-4faf-b244-1009a3757e03\", \"categories\": [0, 1, 2, 3, 4, 5, 6, 7, 8, 9, 10, 11, 12, 13], \"series\": [{\"data\": [\"Gathering dataset statistics.\", \"Generating features for the dataset.\", \"Beginning to fit featurizers and featurize the dataset.\", \"Completed fit featurizers and featurizing the dataset.\", \"Generating individually featurized CV splits.\", \"Beginning model selection.\", \"Best run model explanations started\", \"Model explanations data setup completed\", \"Choosing LightGBM as the surrogate model for explanations\", \"Computation of engineered features started\", \"Computation of engineered features completed\", \"Computation of raw features started\", \"Computation of raw features completed\", \"Best run model explanations completed\"]}]}, {\"name\": \"log_loss\", \"run_id\": \"AutoML_975a4537-b1ad-4faf-b244-1009a3757e03\", \"categories\": [0], \"series\": [{\"data\": [0.40340105280408933]}]}, {\"name\": \"f1_score_macro\", \"run_id\": \"AutoML_975a4537-b1ad-4faf-b244-1009a3757e03\", \"categories\": [0], \"series\": [{\"data\": [0.8232074360243274]}]}, {\"name\": \"f1_score_micro\", \"run_id\": \"AutoML_975a4537-b1ad-4faf-b244-1009a3757e03\", \"categories\": [0], \"series\": [{\"data\": [0.8491954022988505]}]}, {\"name\": \"AUC_micro\", \"run_id\": \"AutoML_975a4537-b1ad-4faf-b244-1009a3757e03\", \"categories\": [0], \"series\": [{\"data\": [0.927039239001189]}]}, {\"name\": \"norm_macro_recall\", \"run_id\": \"AutoML_975a4537-b1ad-4faf-b244-1009a3757e03\", \"categories\": [0], \"series\": [{\"data\": [0.657002185140057]}]}, {\"name\": \"recall_score_macro\", \"run_id\": \"AutoML_975a4537-b1ad-4faf-b244-1009a3757e03\", \"categories\": [0], \"series\": [{\"data\": [0.8285010925700285]}]}, {\"name\": \"average_precision_score_macro\", \"run_id\": \"AutoML_975a4537-b1ad-4faf-b244-1009a3757e03\", \"categories\": [0], \"series\": [{\"data\": [0.9139276543886137]}]}, {\"name\": \"matthews_correlation\", \"run_id\": \"AutoML_975a4537-b1ad-4faf-b244-1009a3757e03\", \"categories\": [0], \"series\": [{\"data\": [0.6632996693731532]}]}, {\"name\": \"weighted_accuracy\", \"run_id\": \"AutoML_975a4537-b1ad-4faf-b244-1009a3757e03\", \"categories\": [0], \"series\": [{\"data\": [0.8616892879209794]}]}, {\"name\": \"recall_score_micro\", \"run_id\": \"AutoML_975a4537-b1ad-4faf-b244-1009a3757e03\", \"categories\": [0], \"series\": [{\"data\": [0.8491954022988505]}]}, {\"name\": \"recall_score_weighted\", \"run_id\": \"AutoML_975a4537-b1ad-4faf-b244-1009a3757e03\", \"categories\": [0], \"series\": [{\"data\": [0.8491954022988505]}]}, {\"name\": \"AUC_macro\", \"run_id\": \"AutoML_975a4537-b1ad-4faf-b244-1009a3757e03\", \"categories\": [0], \"series\": [{\"data\": [0.9229220390402885]}]}, {\"name\": \"balanced_accuracy\", \"run_id\": \"AutoML_975a4537-b1ad-4faf-b244-1009a3757e03\", \"categories\": [0], \"series\": [{\"data\": [0.8285010925700285]}]}, {\"name\": \"average_precision_score_micro\", \"run_id\": \"AutoML_975a4537-b1ad-4faf-b244-1009a3757e03\", \"categories\": [0], \"series\": [{\"data\": [0.9281035942493425]}]}, {\"name\": \"precision_score_macro\", \"run_id\": \"AutoML_975a4537-b1ad-4faf-b244-1009a3757e03\", \"categories\": [0], \"series\": [{\"data\": [0.8363227744477744]}]}, {\"name\": \"precision_score_micro\", \"run_id\": \"AutoML_975a4537-b1ad-4faf-b244-1009a3757e03\", \"categories\": [0], \"series\": [{\"data\": [0.8491954022988505]}]}, {\"name\": \"average_precision_score_weighted\", \"run_id\": \"AutoML_975a4537-b1ad-4faf-b244-1009a3757e03\", \"categories\": [0], \"series\": [{\"data\": [0.9358621279993912]}]}, {\"name\": \"precision_score_weighted\", \"run_id\": \"AutoML_975a4537-b1ad-4faf-b244-1009a3757e03\", \"categories\": [0], \"series\": [{\"data\": [0.8632539079694252]}]}, {\"name\": \"AUC_weighted\", \"run_id\": \"AutoML_975a4537-b1ad-4faf-b244-1009a3757e03\", \"categories\": [0], \"series\": [{\"data\": [0.9229220390402885]}]}, {\"name\": \"accuracy\", \"run_id\": \"AutoML_975a4537-b1ad-4faf-b244-1009a3757e03\", \"categories\": [0], \"series\": [{\"data\": [0.8491954022988505]}]}, {\"name\": \"f1_score_weighted\", \"run_id\": \"AutoML_975a4537-b1ad-4faf-b244-1009a3757e03\", \"categories\": [0], \"series\": [{\"data\": [0.8481621431489179]}]}], \"run_logs\": \"\\nRun is completed.\", \"graph\": {}, \"widget_settings\": {\"childWidgetDisplay\": \"popup\", \"send_telemetry\": false, \"log_level\": \"INFO\", \"sdk_version\": \"1.38.0\"}, \"loading\": false}"
          },
          "metadata": {}
        },
        {
          "output_type": "execute_result",
          "execution_count": 8,
          "data": {
            "text/plain": "{'runId': 'AutoML_975a4537-b1ad-4faf-b244-1009a3757e03',\n 'target': 'automl',\n 'status': 'Completed',\n 'startTimeUtc': '2022-02-26T20:54:10.617667Z',\n 'endTimeUtc': '2022-02-26T21:20:15.017966Z',\n 'services': {},\n 'warnings': [{'source': 'JasmineService',\n   'message': 'No scores improved over last 20 iterations, so experiment stopped early. This early stopping behavior can be disabled by setting enable_early_stopping = False in AutoMLConfig for notebook/python SDK runs.'}],\n 'properties': {'num_iterations': '1000',\n  'training_type': 'TrainFull',\n  'acquisition_function': 'EI',\n  'primary_metric': 'AUC_weighted',\n  'train_split': '0',\n  'acquisition_parameter': '0',\n  'num_cross_validation': None,\n  'target': 'automl',\n  'AMLSettingsJsonString': '{\"path\":null,\"name\":\"heartcheck\",\"subscription_id\":\"d4ad7261-832d-46b2-b093-22156001df5b\",\"resource_group\":\"aml-quickstarts-187591\",\"workspace_name\":\"quick-starts-ws-187591\",\"region\":\"southcentralus\",\"compute_target\":\"automl\",\"spark_service\":null,\"azure_service\":\"remote\",\"many_models\":false,\"pipeline_fetch_max_batch_size\":1,\"enable_batch_run\":true,\"enable_run_restructure\":false,\"start_auxiliary_runs_before_parent_complete\":false,\"enable_code_generation\":false,\"iterations\":1000,\"primary_metric\":\"AUC_weighted\",\"task_type\":\"classification\",\"positive_label\":null,\"data_script\":null,\"test_size\":0.0,\"test_include_predictions_only\":false,\"validation_size\":0.0,\"n_cross_validations\":null,\"y_min\":null,\"y_max\":null,\"num_classes\":null,\"featurization\":\"auto\",\"_ignore_package_version_incompatibilities\":false,\"is_timeseries\":false,\"max_cores_per_iteration\":1,\"max_concurrent_iterations\":5,\"iteration_timeout_minutes\":null,\"mem_in_mb\":null,\"enforce_time_on_windows\":false,\"experiment_timeout_minutes\":20,\"experiment_exit_score\":null,\"whitelist_models\":null,\"blacklist_algos\":[\"TensorFlowLinearClassifier\",\"TensorFlowDNN\"],\"supported_models\":[\"LinearSVM\",\"TabnetClassifier\",\"RandomForest\",\"DecisionTree\",\"KNN\",\"XGBoostClassifier\",\"SGD\",\"TensorFlowDNN\",\"AveragedPerceptronClassifier\",\"MultinomialNaiveBayes\",\"LogisticRegression\",\"TensorFlowLinearClassifier\",\"GradientBoosting\",\"BernoulliNaiveBayes\",\"ExtremeRandomTrees\",\"SVM\",\"LightGBM\"],\"private_models\":[],\"auto_blacklist\":true,\"blacklist_samples_reached\":false,\"exclude_nan_labels\":true,\"verbosity\":20,\"_debug_log\":\"azureml_automl.log\",\"show_warnings\":false,\"model_explainability\":true,\"service_url\":null,\"sdk_url\":null,\"sdk_packages\":null,\"enable_onnx_compatible_models\":false,\"enable_split_onnx_featurizer_estimator_models\":false,\"vm_type\":\"STANDARD_D2_V2\",\"telemetry_verbosity\":20,\"send_telemetry\":true,\"enable_dnn\":false,\"scenario\":\"SDK-1.13.0\",\"environment_label\":null,\"save_mlflow\":false,\"enable_categorical_indicators\":false,\"force_text_dnn\":false,\"enable_feature_sweeping\":true,\"enable_early_stopping\":true,\"early_stopping_n_iters\":10,\"arguments\":null,\"dataset_id\":null,\"hyperdrive_config\":null,\"validation_dataset_id\":null,\"run_source\":null,\"metrics\":null,\"enable_metric_confidence\":false,\"enable_ensembling\":true,\"enable_stack_ensembling\":true,\"ensemble_iterations\":15,\"enable_tf\":false,\"enable_subsampling\":null,\"subsample_seed\":null,\"enable_nimbusml\":false,\"enable_streaming\":false,\"force_streaming\":false,\"track_child_runs\":true,\"allowed_private_models\":[],\"label_column_name\":\"DEATH_EVENT\",\"weight_column_name\":null,\"cv_split_column_names\":null,\"enable_local_managed\":false,\"_local_managed_run_id\":null,\"cost_mode\":1,\"lag_length\":0,\"metric_operation\":\"maximize\",\"preprocess\":true}',\n  'DataPrepJsonString': '{\\\\\"training_data\\\\\": {\\\\\"datasetId\\\\\": \\\\\"eee4db27-8346-446e-8166-0fd9e714ae8d\\\\\"}, \\\\\"datasets\\\\\": 0}',\n  'EnableSubsampling': None,\n  'runTemplate': 'AutoML',\n  'azureml.runsource': 'automl',\n  'display_task_type': 'classification',\n  'dependencies_versions': '{\"azureml-widgets\": \"1.38.0\", \"azureml-train\": \"1.38.0\", \"azureml-train-restclients-hyperdrive\": \"1.38.0\", \"azureml-train-core\": \"1.38.0\", \"azureml-train-automl-client\": \"1.38.0\", \"azureml-tensorboard\": \"1.38.0\", \"azureml-telemetry\": \"1.38.0\", \"azureml-sdk\": \"1.38.0\", \"azureml-samples\": \"0+unknown\", \"azureml-responsibleai\": \"1.38.0\", \"azureml-pipeline\": \"1.38.0\", \"azureml-pipeline-steps\": \"1.38.0\", \"azureml-pipeline-core\": \"1.38.0\", \"azureml-opendatasets\": \"1.38.0\", \"azureml-mlflow\": \"1.38.0\", \"azureml-interpret\": \"1.38.0\", \"azureml-inference-server-http\": \"0.4.2\", \"azureml-explain-model\": \"1.38.0\", \"azureml-defaults\": \"1.38.0\", \"azureml-dataset-runtime\": \"1.38.0\", \"azureml-dataprep\": \"2.26.0\", \"azureml-dataprep-rslex\": \"2.2.0\", \"azureml-dataprep-native\": \"38.0.0\", \"azureml-datadrift\": \"1.38.0\", \"azureml-core\": \"1.38.0\", \"azureml-contrib-services\": \"1.38.0\", \"azureml-contrib-server\": \"1.38.0\", \"azureml-contrib-reinforcementlearning\": \"1.38.0\", \"azureml-contrib-pipeline-steps\": \"1.38.0\", \"azureml-contrib-notebook\": \"1.38.0\", \"azureml-contrib-fairness\": \"1.38.0\", \"azureml-contrib-dataset\": \"1.38.0\", \"azureml-cli-common\": \"1.38.0\", \"azureml-automl-core\": \"1.38.0\", \"azureml-accel-models\": \"1.38.0\"}',\n  '_aml_system_scenario_identification': 'Remote.Parent',\n  'ClientType': 'SDK',\n  'environment_cpu_name': 'AzureML-AutoML',\n  'environment_cpu_label': 'py36',\n  'environment_gpu_name': 'AzureML-AutoML-GPU',\n  'environment_gpu_label': 'py36',\n  'root_attribution': 'automl',\n  'attribution': 'AutoML',\n  'Orchestrator': 'AutoML',\n  'CancelUri': 'https://southcentralus.api.azureml.ms/jasmine/v1.0/subscriptions/d4ad7261-832d-46b2-b093-22156001df5b/resourceGroups/aml-quickstarts-187591/providers/Microsoft.MachineLearningServices/workspaces/quick-starts-ws-187591/experimentids/f5587165-e85e-4d63-85f9-1a27592c05fd/cancel/AutoML_975a4537-b1ad-4faf-b244-1009a3757e03',\n  'ClientSdkVersion': '1.38.0',\n  'snapshotId': '00000000-0000-0000-0000-000000000000',\n  'SetupRunId': 'AutoML_975a4537-b1ad-4faf-b244-1009a3757e03_setup',\n  'SetupRunContainerId': 'dcid.AutoML_975a4537-b1ad-4faf-b244-1009a3757e03_setup',\n  'FeaturizationRunJsonPath': 'featurizer_container.json',\n  'FeaturizationRunId': 'AutoML_975a4537-b1ad-4faf-b244-1009a3757e03_featurize',\n  'ProblemInfoJsonString': '{\"dataset_num_categorical\": 0, \"is_sparse\": false, \"subsampling\": false, \"has_extra_col\": true, \"dataset_classes\": 2, \"dataset_features\": 12, \"dataset_samples\": 299, \"single_frequency_class_detected\": false}',\n  'ModelExplainRunId': 'AutoML_975a4537-b1ad-4faf-b244-1009a3757e03_ModelExplain'},\n 'inputDatasets': [{'dataset': {'id': 'eee4db27-8346-446e-8166-0fd9e714ae8d'}, 'consumptionDetails': {'type': 'RunInput', 'inputName': 'training_data', 'mechanism': 'Direct'}}],\n 'outputDatasets': [],\n 'logFiles': {},\n 'submittedBy': 'ODL_User 187591'}"
          },
          "metadata": {}
        }
      ],
      "execution_count": 8,
      "metadata": {
        "gather": {
          "logged": 1645910447171
        },
        "jupyter": {
          "outputs_hidden": false,
          "source_hidden": false
        },
        "nteract": {
          "transient": {
            "deleting": false
          }
        }
      }
    },
    {
      "cell_type": "markdown",
      "source": [
        "## Best Model\n",
        "\n",
        "TODO: In the cell below, get the best model from the automl experiments and display all the properties of the model.\n",
        "\n"
      ],
      "metadata": {}
    },
    {
      "cell_type": "code",
      "source": [
        "\r\n",
        "best_model, fitted_model=remote_run.get_output()\r\n",
        "print(best_model)\r\n",
        "print(fitted_model)\r\n",
        "best_run_metrics=best_model.get_metrics()\r\n",
        "\r\n",
        "best_model.register_model(model_name=\"best_automl_model\", model_path=\"./outputs\")"
      ],
      "outputs": [
        {
          "output_type": "stream",
          "name": "stderr",
          "text": "WARNING:root:The model you attempted to retrieve requires 'azureml-train-automl-runtime' to be installed at '==1.38.0'. Please install 'azureml-train-automl-runtime==1.38.0' (e.g. `pip install azureml-train-automl-runtime==1.38.0`) and then rerun the previous command.\n"
        },
        {
          "output_type": "stream",
          "name": "stdout",
          "text": "Run(Experiment: heartcheck,\nId: AutoML_975a4537-b1ad-4faf-b244-1009a3757e03_46,\nType: azureml.scriptrun,\nStatus: Completed)\nNone\n"
        },
        {
          "output_type": "execute_result",
          "execution_count": 10,
          "data": {
            "text/plain": "Model(workspace=Workspace.create(name='quick-starts-ws-187591', subscription_id='d4ad7261-832d-46b2-b093-22156001df5b', resource_group='aml-quickstarts-187591'), name=best_automl_model, id=best_automl_model:1, version=1, tags={}, properties={})"
          },
          "metadata": {}
        }
      ],
      "execution_count": 10,
      "metadata": {
        "gather": {
          "logged": 1645910701416
        },
        "jupyter": {
          "outputs_hidden": false,
          "source_hidden": false
        },
        "nteract": {
          "transient": {
            "deleting": false
          }
        }
      }
    },
    {
      "cell_type": "code",
      "source": [
        "#TODO: Save the best model"
      ],
      "outputs": [],
      "execution_count": null,
      "metadata": {
        "gather": {
          "logged": 1598431426111
        },
        "jupyter": {
          "outputs_hidden": false,
          "source_hidden": false
        },
        "nteract": {
          "transient": {
            "deleting": false
          }
        }
      }
    },
    {
      "cell_type": "markdown",
      "source": [
        "## Model Deployment\n",
        "\n",
        "Remember you have to deploy only one of the two models you trained but you still need to register both the models. Perform the steps in the rest of this notebook only if you wish to deploy this model.\n",
        "\n",
        "TODO: In the cell below, register the model, create an inference config and deploy the model as a web service."
      ],
      "metadata": {}
    },
    {
      "cell_type": "code",
      "source": [],
      "outputs": [],
      "execution_count": null,
      "metadata": {
        "gather": {
          "logged": 1598431435189
        },
        "jupyter": {
          "outputs_hidden": false,
          "source_hidden": false
        },
        "nteract": {
          "transient": {
            "deleting": false
          }
        }
      }
    },
    {
      "cell_type": "markdown",
      "source": [
        "TODO: In the cell below, send a request to the web service you deployed to test it."
      ],
      "metadata": {
        "collapsed": true,
        "gather": {
          "logged": 1598431657736
        },
        "jupyter": {
          "outputs_hidden": false,
          "source_hidden": false
        },
        "nteract": {
          "transient": {
            "deleting": false
          }
        }
      }
    },
    {
      "cell_type": "code",
      "source": [],
      "outputs": [],
      "execution_count": null,
      "metadata": {
        "gather": {
          "logged": 1598432707604
        },
        "jupyter": {
          "outputs_hidden": false,
          "source_hidden": false
        },
        "nteract": {
          "transient": {
            "deleting": false
          }
        }
      }
    },
    {
      "cell_type": "markdown",
      "source": [
        "TODO: In the cell below, print the logs of the web service and delete the service"
      ],
      "metadata": {
        "collapsed": true,
        "gather": {
          "logged": 1598432765711
        },
        "jupyter": {
          "outputs_hidden": false,
          "source_hidden": false
        },
        "nteract": {
          "transient": {
            "deleting": false
          }
        }
      }
    },
    {
      "cell_type": "code",
      "source": [],
      "outputs": [],
      "execution_count": null,
      "metadata": {
        "jupyter": {
          "outputs_hidden": false,
          "source_hidden": false
        },
        "nteract": {
          "transient": {
            "deleting": false
          }
        }
      }
    },
    {
      "cell_type": "markdown",
      "source": [
        "**Submission Checklist**\n",
        "- I have registered the model.\n",
        "- I have deployed the model with the best accuracy as a webservice.\n",
        "- I have tested the webservice by sending a request to the model endpoint.\n",
        "- I have deleted the webservice and shutdown all the computes that I have used.\n",
        "- I have taken a screenshot showing the model endpoint as active.\n",
        "- The project includes a file containing the environment details.\n"
      ],
      "metadata": {}
    },
    {
      "cell_type": "markdown",
      "source": [],
      "metadata": {}
    }
  ],
  "metadata": {
    "kernel_info": {
      "name": "python3"
    },
    "kernelspec": {
      "name": "python3",
      "language": "python",
      "display_name": "Python 3"
    },
    "language_info": {
      "name": "python",
      "version": "3.8.1",
      "mimetype": "text/x-python",
      "codemirror_mode": {
        "name": "ipython",
        "version": 3
      },
      "pygments_lexer": "ipython3",
      "nbconvert_exporter": "python",
      "file_extension": ".py"
    },
    "nteract": {
      "version": "nteract-front-end@1.0.0"
    },
    "microsoft": {
      "host": {
        "AzureML": {
          "notebookHasBeenCompleted": true
        }
      }
    }
  },
  "nbformat": 4,
  "nbformat_minor": 2
}