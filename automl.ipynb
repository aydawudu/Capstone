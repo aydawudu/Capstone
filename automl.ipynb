{
  "cells": [
    {
      "cell_type": "markdown",
      "source": [
        "# Automated ML\n",
        "\n",
        "TODO: Import Dependencies. In the cell below, import all the dependencies that you will need to complete the project."
      ],
      "metadata": {}
    },
    {
      "cell_type": "code",
      "source": [
        "import logging\r\n",
        "import os \r\n",
        "import csv\r\n",
        "\r\n",
        "from matplotlib import pyplot as plt \r\n",
        "import numpy as np\r\n",
        "import pandas as pd \r\n",
        "from sklearn import datasets \r\n",
        "import pkg_resources\r\n",
        "\r\n",
        "import azureml.core\r\n",
        "from azureml.core.experiment import Experiment\r\n",
        "from azureml.core.workspace import Workspace\r\n",
        "from azureml.train.automl import AutoMLConfig\r\n",
        "from azureml.core.dataset import Dataset \r\n",
        "\r\n",
        "from azureml.pipeline.steps import AutoMLStep\r\n",
        "\r\n",
        "print (\"SDK version:\", azureml.core.VERSION)\r\n"
      ],
      "outputs": [
        {
          "output_type": "stream",
          "name": "stdout",
          "text": "SDK version: 1.38.0\n"
        }
      ],
      "execution_count": 10,
      "metadata": {
        "gather": {
          "logged": 1645465715947
        },
        "jupyter": {
          "outputs_hidden": false,
          "source_hidden": false
        },
        "nteract": {
          "transient": {
            "deleting": false
          }
        }
      }
    },
    {
      "cell_type": "markdown",
      "source": [
        "## Dataset\n",
        "\n",
        "### Overview\n",
        "TODO: In this markdown cell, give an overview of the dataset you are using. Also mention the task you will be performing.\n",
        "\n",
        "\n",
        "TODO: Get data. In the cell below, write code to access the data you will be using in this project. Remember that the dataset needs to be external."
      ],
      "metadata": {}
    },
    {
      "cell_type": "code",
      "source": [
        "ws = Workspace.from_config()\n",
        "print(ws.name, ws.resource_group, ws.location, ws.subscription_id, sep='\\n')\n",
        "\n",
        "# choose a name for experiment\n",
        "experiment_name = 'heartcheck'\n",
        "\n",
        "experiment=Experiment(ws, experiment_name)\n",
        "experiment"
      ],
      "outputs": [
        {
          "output_type": "stream",
          "name": "stdout",
          "text": "quick-starts-ws-187219\naml-quickstarts-187219\nsouthcentralus\n9b72f9e6-56c5-4c16-991b-19c652994860\n"
        },
        {
          "output_type": "execute_result",
          "execution_count": 11,
          "data": {
            "text/plain": "Experiment(Name: heartcheck,\nWorkspace: quick-starts-ws-187219)",
            "text/html": "<table style=\"width:100%\"><tr><th>Name</th><th>Workspace</th><th>Report Page</th><th>Docs Page</th></tr><tr><td>heartcheck</td><td>quick-starts-ws-187219</td><td><a href=\"https://ml.azure.com/experiments/id/5629dcb8-9327-4c8f-9039-45b847e53888?wsid=/subscriptions/9b72f9e6-56c5-4c16-991b-19c652994860/resourcegroups/aml-quickstarts-187219/workspaces/quick-starts-ws-187219&amp;tid=660b3398-b80e-49d2-bc5b-ac1dc93b5254\" target=\"_blank\" rel=\"noopener\">Link to Azure Machine Learning studio</a></td><td><a href=\"https://docs.microsoft.com/en-us/python/api/azureml-core/azureml.core.experiment.Experiment?view=azure-ml-py\" target=\"_blank\" rel=\"noopener\">Link to Documentation</a></td></tr></table>"
          },
          "metadata": {}
        }
      ],
      "execution_count": 11,
      "metadata": {
        "gather": {
          "logged": 1645465720256
        },
        "jupyter": {
          "outputs_hidden": false,
          "source_hidden": false
        },
        "nteract": {
          "transient": {
            "deleting": false
          }
        }
      }
    },
    {
      "cell_type": "code",
      "source": [
        "# azureml-core of version 1.0.72 or higher is required\r\n",
        "# azureml-dataprep[pandas] of version 1.1.34 or higher is required\r\n",
        "from azureml.core import Workspace, Dataset\r\n",
        "\r\n",
        "subscription_id = '9b72f9e6-56c5-4c16-991b-19c652994860'\r\n",
        "resource_group = 'aml-quickstarts-187219'\r\n",
        "workspace_name = 'quick-starts-ws-187219'\r\n",
        "\r\n",
        "workspace = Workspace(subscription_id, resource_group, workspace_name)\r\n",
        "\r\n",
        "dataset = Dataset.get_by_name(workspace, name='heart')\r\n",
        "dataset.to_pandas_dataframe()"
      ],
      "outputs": [
        {
          "output_type": "execute_result",
          "execution_count": 12,
          "data": {
            "text/plain": "      age  anaemia  creatinine_phosphokinase  diabetes  ejection_fraction  \\\n0    75.0        0                       582         0                 20   \n1    55.0        0                      7861         0                 38   \n2    65.0        0                       146         0                 20   \n3    50.0        1                       111         0                 20   \n4    65.0        1                       160         1                 20   \n..    ...      ...                       ...       ...                ...   \n294  62.0        0                        61         1                 38   \n295  55.0        0                      1820         0                 38   \n296  45.0        0                      2060         1                 60   \n297  45.0        0                      2413         0                 38   \n298  50.0        0                       196         0                 45   \n\n     high_blood_pressure  platelets  serum_creatinine  serum_sodium  sex  \\\n0                      1  265000.00               1.9           130    1   \n1                      0  263358.03               1.1           136    1   \n2                      0  162000.00               1.3           129    1   \n3                      0  210000.00               1.9           137    1   \n4                      0  327000.00               2.7           116    0   \n..                   ...        ...               ...           ...  ...   \n294                    1  155000.00               1.1           143    1   \n295                    0  270000.00               1.2           139    0   \n296                    0  742000.00               0.8           138    0   \n297                    0  140000.00               1.4           140    1   \n298                    0  395000.00               1.6           136    1   \n\n     smoking  time  DEATH_EVENT  \n0          0     4            1  \n1          0     6            1  \n2          1     7            1  \n3          0     7            1  \n4          0     8            1  \n..       ...   ...          ...  \n294        1   270            0  \n295        0   271            0  \n296        0   278            0  \n297        1   280            0  \n298        1   285            0  \n\n[299 rows x 13 columns]",
            "text/html": "<div>\n<style scoped>\n    .dataframe tbody tr th:only-of-type {\n        vertical-align: middle;\n    }\n\n    .dataframe tbody tr th {\n        vertical-align: top;\n    }\n\n    .dataframe thead th {\n        text-align: right;\n    }\n</style>\n<table border=\"1\" class=\"dataframe\">\n  <thead>\n    <tr style=\"text-align: right;\">\n      <th></th>\n      <th>age</th>\n      <th>anaemia</th>\n      <th>creatinine_phosphokinase</th>\n      <th>diabetes</th>\n      <th>ejection_fraction</th>\n      <th>high_blood_pressure</th>\n      <th>platelets</th>\n      <th>serum_creatinine</th>\n      <th>serum_sodium</th>\n      <th>sex</th>\n      <th>smoking</th>\n      <th>time</th>\n      <th>DEATH_EVENT</th>\n    </tr>\n  </thead>\n  <tbody>\n    <tr>\n      <th>0</th>\n      <td>75.0</td>\n      <td>0</td>\n      <td>582</td>\n      <td>0</td>\n      <td>20</td>\n      <td>1</td>\n      <td>265000.00</td>\n      <td>1.9</td>\n      <td>130</td>\n      <td>1</td>\n      <td>0</td>\n      <td>4</td>\n      <td>1</td>\n    </tr>\n    <tr>\n      <th>1</th>\n      <td>55.0</td>\n      <td>0</td>\n      <td>7861</td>\n      <td>0</td>\n      <td>38</td>\n      <td>0</td>\n      <td>263358.03</td>\n      <td>1.1</td>\n      <td>136</td>\n      <td>1</td>\n      <td>0</td>\n      <td>6</td>\n      <td>1</td>\n    </tr>\n    <tr>\n      <th>2</th>\n      <td>65.0</td>\n      <td>0</td>\n      <td>146</td>\n      <td>0</td>\n      <td>20</td>\n      <td>0</td>\n      <td>162000.00</td>\n      <td>1.3</td>\n      <td>129</td>\n      <td>1</td>\n      <td>1</td>\n      <td>7</td>\n      <td>1</td>\n    </tr>\n    <tr>\n      <th>3</th>\n      <td>50.0</td>\n      <td>1</td>\n      <td>111</td>\n      <td>0</td>\n      <td>20</td>\n      <td>0</td>\n      <td>210000.00</td>\n      <td>1.9</td>\n      <td>137</td>\n      <td>1</td>\n      <td>0</td>\n      <td>7</td>\n      <td>1</td>\n    </tr>\n    <tr>\n      <th>4</th>\n      <td>65.0</td>\n      <td>1</td>\n      <td>160</td>\n      <td>1</td>\n      <td>20</td>\n      <td>0</td>\n      <td>327000.00</td>\n      <td>2.7</td>\n      <td>116</td>\n      <td>0</td>\n      <td>0</td>\n      <td>8</td>\n      <td>1</td>\n    </tr>\n    <tr>\n      <th>...</th>\n      <td>...</td>\n      <td>...</td>\n      <td>...</td>\n      <td>...</td>\n      <td>...</td>\n      <td>...</td>\n      <td>...</td>\n      <td>...</td>\n      <td>...</td>\n      <td>...</td>\n      <td>...</td>\n      <td>...</td>\n      <td>...</td>\n    </tr>\n    <tr>\n      <th>294</th>\n      <td>62.0</td>\n      <td>0</td>\n      <td>61</td>\n      <td>1</td>\n      <td>38</td>\n      <td>1</td>\n      <td>155000.00</td>\n      <td>1.1</td>\n      <td>143</td>\n      <td>1</td>\n      <td>1</td>\n      <td>270</td>\n      <td>0</td>\n    </tr>\n    <tr>\n      <th>295</th>\n      <td>55.0</td>\n      <td>0</td>\n      <td>1820</td>\n      <td>0</td>\n      <td>38</td>\n      <td>0</td>\n      <td>270000.00</td>\n      <td>1.2</td>\n      <td>139</td>\n      <td>0</td>\n      <td>0</td>\n      <td>271</td>\n      <td>0</td>\n    </tr>\n    <tr>\n      <th>296</th>\n      <td>45.0</td>\n      <td>0</td>\n      <td>2060</td>\n      <td>1</td>\n      <td>60</td>\n      <td>0</td>\n      <td>742000.00</td>\n      <td>0.8</td>\n      <td>138</td>\n      <td>0</td>\n      <td>0</td>\n      <td>278</td>\n      <td>0</td>\n    </tr>\n    <tr>\n      <th>297</th>\n      <td>45.0</td>\n      <td>0</td>\n      <td>2413</td>\n      <td>0</td>\n      <td>38</td>\n      <td>0</td>\n      <td>140000.00</td>\n      <td>1.4</td>\n      <td>140</td>\n      <td>1</td>\n      <td>1</td>\n      <td>280</td>\n      <td>0</td>\n    </tr>\n    <tr>\n      <th>298</th>\n      <td>50.0</td>\n      <td>0</td>\n      <td>196</td>\n      <td>0</td>\n      <td>45</td>\n      <td>0</td>\n      <td>395000.00</td>\n      <td>1.6</td>\n      <td>136</td>\n      <td>1</td>\n      <td>1</td>\n      <td>285</td>\n      <td>0</td>\n    </tr>\n  </tbody>\n</table>\n<p>299 rows × 13 columns</p>\n</div>"
          },
          "metadata": {}
        }
      ],
      "execution_count": 12,
      "metadata": {
        "jupyter": {
          "source_hidden": false,
          "outputs_hidden": false
        },
        "nteract": {
          "transient": {
            "deleting": false
          }
        },
        "gather": {
          "logged": 1645465724279
        }
      }
    },
    {
      "cell_type": "code",
      "source": [
        "from azureml.core.compute import AmlCompute\r\n",
        "from azureml.core.compute import ComputeTarget\r\n",
        "from azureml.core.compute_target import ComputeTargetException\r\n",
        "\r\n",
        "amlcompute_cluster_name='automl'\r\n",
        "\r\n",
        "try: \r\n",
        "    aml_compute= ComputeTarget(workspace=ws, name=amlcompute_cluster_name)\r\n",
        "    print('Found existing cluster, use it.')\r\n",
        "except ComputeTargetException:\r\n",
        "    compute_config=AmlCompute.provisioning_configuration(vm_size='STANDARD_D2_V2',\r\n",
        "                                                          max_nodes=4)\r\n",
        "    aml_compute=ComputeTarget.create(ws, amlcompute_cluster_name, compute_config)\r\n",
        "aml_compute.wait_for_completion(show_output=True)"
      ],
      "outputs": [
        {
          "output_type": "stream",
          "name": "stdout",
          "text": "Found existing cluster, use it.\nSucceeded\nAmlCompute wait for completion finished\n\nMinimum number of nodes requested have been provisioned\n"
        }
      ],
      "execution_count": 13,
      "metadata": {
        "jupyter": {
          "source_hidden": false,
          "outputs_hidden": false
        },
        "nteract": {
          "transient": {
            "deleting": false
          }
        },
        "gather": {
          "logged": 1645466667609
        }
      }
    },
    {
      "cell_type": "markdown",
      "source": [
        "## AutoML Configuration\n",
        "\n",
        "TODO: Explain why you chose the automl settings and cofiguration you used below."
      ],
      "metadata": {}
    },
    {
      "cell_type": "code",
      "source": [
        "# TODO: Put your automl settings here\n",
        "automl_settings = {\n",
        "    \"expirement_timeout_minutes\":20,\n",
        "    \"max_concurrent_iterations\":5,\n",
        "    \"primary_metrics\": 'normalized_root_mean_squared_error',\n",
        "    \"n_cross_validations\":5\n",
        "}\n",
        "\n",
        "# TODO: Put your automl config here\n",
        "automl_config = AutoMLConfig(compute_target=aml_compute,\n",
        "                task='classification',\n",
        "                primary_metric='accuracy',\n",
        "                training_data=dataset,\n",
        "                label_column_name=\"DEATH_EVENT\",\n",
        "                n_cross_validations=5,\n",
        "                experiment_timeout_minutes=30\n",
        "                \n",
        "\n",
        "\n",
        ")"
      ],
      "outputs": [],
      "execution_count": 14,
      "metadata": {
        "gather": {
          "logged": 1645466759798
        },
        "jupyter": {
          "outputs_hidden": false,
          "source_hidden": false
        },
        "nteract": {
          "transient": {
            "deleting": false
          }
        }
      }
    },
    {
      "cell_type": "code",
      "source": [
        "# TODO: Submit your experiment\n",
        "remote_run = experiment.submit(automl_config)"
      ],
      "outputs": [
        {
          "output_type": "stream",
          "name": "stdout",
          "text": "Submitting remote run.\n"
        },
        {
          "output_type": "display_data",
          "data": {
            "text/plain": "<IPython.core.display.HTML object>",
            "text/html": "<table style=\"width:100%\"><tr><th>Experiment</th><th>Id</th><th>Type</th><th>Status</th><th>Details Page</th><th>Docs Page</th></tr><tr><td>heartcheck</td><td>AutoML_4509fb7a-c157-48a0-89c0-ec65e78ffa75</td><td>automl</td><td>NotStarted</td><td><a href=\"https://ml.azure.com/runs/AutoML_4509fb7a-c157-48a0-89c0-ec65e78ffa75?wsid=/subscriptions/9b72f9e6-56c5-4c16-991b-19c652994860/resourcegroups/aml-quickstarts-187219/workspaces/quick-starts-ws-187219&amp;tid=660b3398-b80e-49d2-bc5b-ac1dc93b5254\" target=\"_blank\" rel=\"noopener\">Link to Azure Machine Learning studio</a></td><td><a href=\"https://docs.microsoft.com/en-us/python/api/overview/azure/ml/intro?view=azure-ml-py\" target=\"_blank\" rel=\"noopener\">Link to Documentation</a></td></tr></table>"
          },
          "metadata": {}
        }
      ],
      "execution_count": 15,
      "metadata": {
        "gather": {
          "logged": 1645466769102
        },
        "jupyter": {
          "outputs_hidden": false,
          "source_hidden": false
        },
        "nteract": {
          "transient": {
            "deleting": false
          }
        }
      }
    },
    {
      "cell_type": "markdown",
      "source": [
        "## Run Details\n",
        "\n",
        "OPTIONAL: Write about the different models trained and their performance. Why do you think some models did better than others?\n",
        "\n",
        "TODO: In the cell below, use the `RunDetails` widget to show the different experiments."
      ],
      "metadata": {}
    },
    {
      "cell_type": "code",
      "source": [
        "from azureml.widgets import RunDetails\r\n",
        "RunDetails(remote_run).show()\r\n",
        "remote_run.wait_for_completion()"
      ],
      "outputs": [
        {
          "output_type": "display_data",
          "data": {
            "text/plain": "_AutoMLWidget(widget_settings={'childWidgetDisplay': 'popup', 'send_telemetry': False, 'log_level': 'INFO', 's…",
            "application/vnd.jupyter.widget-view+json": {
              "version_major": 2,
              "version_minor": 0,
              "model_id": "945f310a277543e0b923e33597814ed0"
            }
          },
          "metadata": {}
        },
        {
          "output_type": "display_data",
          "data": {
            "application/aml.mini.widget.v1": "{\"status\": \"Completed\", \"workbench_run_details_uri\": \"https://ml.azure.com/runs/AutoML_4509fb7a-c157-48a0-89c0-ec65e78ffa75?wsid=/subscriptions/9b72f9e6-56c5-4c16-991b-19c652994860/resourcegroups/aml-quickstarts-187219/workspaces/quick-starts-ws-187219&tid=660b3398-b80e-49d2-bc5b-ac1dc93b5254\", \"run_id\": \"AutoML_4509fb7a-c157-48a0-89c0-ec65e78ffa75\", \"run_properties\": {\"run_id\": \"AutoML_4509fb7a-c157-48a0-89c0-ec65e78ffa75\", \"created_utc\": \"2022-02-21T18:06:07.957084Z\", \"properties\": {\"num_iterations\": \"1000\", \"training_type\": \"TrainFull\", \"acquisition_function\": \"EI\", \"primary_metric\": \"accuracy\", \"train_split\": \"0\", \"acquisition_parameter\": \"0\", \"num_cross_validation\": \"5\", \"target\": \"automl\", \"AMLSettingsJsonString\": \"{\\\"path\\\":null,\\\"name\\\":\\\"heartcheck\\\",\\\"subscription_id\\\":\\\"9b72f9e6-56c5-4c16-991b-19c652994860\\\",\\\"resource_group\\\":\\\"aml-quickstarts-187219\\\",\\\"workspace_name\\\":\\\"quick-starts-ws-187219\\\",\\\"region\\\":\\\"southcentralus\\\",\\\"compute_target\\\":\\\"automl\\\",\\\"spark_service\\\":null,\\\"azure_service\\\":\\\"remote\\\",\\\"many_models\\\":false,\\\"pipeline_fetch_max_batch_size\\\":1,\\\"enable_batch_run\\\":true,\\\"enable_run_restructure\\\":false,\\\"start_auxiliary_runs_before_parent_complete\\\":false,\\\"enable_code_generation\\\":false,\\\"iterations\\\":1000,\\\"primary_metric\\\":\\\"accuracy\\\",\\\"task_type\\\":\\\"classification\\\",\\\"positive_label\\\":null,\\\"data_script\\\":null,\\\"test_size\\\":0.0,\\\"test_include_predictions_only\\\":false,\\\"validation_size\\\":0.0,\\\"n_cross_validations\\\":5,\\\"y_min\\\":null,\\\"y_max\\\":null,\\\"num_classes\\\":null,\\\"featurization\\\":\\\"auto\\\",\\\"_ignore_package_version_incompatibilities\\\":false,\\\"is_timeseries\\\":false,\\\"max_cores_per_iteration\\\":1,\\\"max_concurrent_iterations\\\":1,\\\"iteration_timeout_minutes\\\":null,\\\"mem_in_mb\\\":null,\\\"enforce_time_on_windows\\\":false,\\\"experiment_timeout_minutes\\\":30,\\\"experiment_exit_score\\\":null,\\\"whitelist_models\\\":null,\\\"blacklist_algos\\\":[\\\"TensorFlowLinearClassifier\\\",\\\"TensorFlowDNN\\\"],\\\"supported_models\\\":[\\\"LogisticRegression\\\",\\\"BernoulliNaiveBayes\\\",\\\"SVM\\\",\\\"TensorFlowDNN\\\",\\\"RandomForest\\\",\\\"KNN\\\",\\\"GradientBoosting\\\",\\\"AveragedPerceptronClassifier\\\",\\\"LightGBM\\\",\\\"TensorFlowLinearClassifier\\\",\\\"ExtremeRandomTrees\\\",\\\"MultinomialNaiveBayes\\\",\\\"XGBoostClassifier\\\",\\\"DecisionTree\\\",\\\"LinearSVM\\\",\\\"SGD\\\",\\\"TabnetClassifier\\\"],\\\"private_models\\\":[],\\\"auto_blacklist\\\":true,\\\"blacklist_samples_reached\\\":false,\\\"exclude_nan_labels\\\":true,\\\"verbosity\\\":20,\\\"_debug_log\\\":\\\"azureml_automl.log\\\",\\\"show_warnings\\\":false,\\\"model_explainability\\\":true,\\\"service_url\\\":null,\\\"sdk_url\\\":null,\\\"sdk_packages\\\":null,\\\"enable_onnx_compatible_models\\\":false,\\\"enable_split_onnx_featurizer_estimator_models\\\":false,\\\"vm_type\\\":\\\"STANDARD_DS3_V2\\\",\\\"telemetry_verbosity\\\":20,\\\"send_telemetry\\\":true,\\\"enable_dnn\\\":false,\\\"scenario\\\":\\\"SDK-1.13.0\\\",\\\"environment_label\\\":null,\\\"save_mlflow\\\":false,\\\"enable_categorical_indicators\\\":false,\\\"force_text_dnn\\\":false,\\\"enable_feature_sweeping\\\":true,\\\"enable_early_stopping\\\":true,\\\"early_stopping_n_iters\\\":10,\\\"arguments\\\":null,\\\"dataset_id\\\":null,\\\"hyperdrive_config\\\":null,\\\"validation_dataset_id\\\":null,\\\"run_source\\\":null,\\\"metrics\\\":null,\\\"enable_metric_confidence\\\":false,\\\"enable_ensembling\\\":true,\\\"enable_stack_ensembling\\\":true,\\\"ensemble_iterations\\\":15,\\\"enable_tf\\\":false,\\\"enable_subsampling\\\":null,\\\"subsample_seed\\\":null,\\\"enable_nimbusml\\\":false,\\\"enable_streaming\\\":false,\\\"force_streaming\\\":false,\\\"track_child_runs\\\":true,\\\"allowed_private_models\\\":[],\\\"label_column_name\\\":\\\"DEATH_EVENT\\\",\\\"weight_column_name\\\":null,\\\"cv_split_column_names\\\":null,\\\"enable_local_managed\\\":false,\\\"_local_managed_run_id\\\":null,\\\"cost_mode\\\":1,\\\"lag_length\\\":0,\\\"metric_operation\\\":\\\"maximize\\\",\\\"preprocess\\\":true}\", \"DataPrepJsonString\": \"{\\\\\\\"training_data\\\\\\\": {\\\\\\\"datasetId\\\\\\\": \\\\\\\"bd1e0474-92e0-413a-a9de-9b3c7e10d8f8\\\\\\\"}, \\\\\\\"datasets\\\\\\\": 0}\", \"EnableSubsampling\": null, \"runTemplate\": \"AutoML\", \"azureml.runsource\": \"automl\", \"display_task_type\": \"classification\", \"dependencies_versions\": \"{\\\"azureml-widgets\\\": \\\"1.38.0\\\", \\\"azureml-train\\\": \\\"1.38.0\\\", \\\"azureml-train-restclients-hyperdrive\\\": \\\"1.38.0\\\", \\\"azureml-train-core\\\": \\\"1.38.0\\\", \\\"azureml-train-automl-client\\\": \\\"1.38.0\\\", \\\"azureml-tensorboard\\\": \\\"1.38.0\\\", \\\"azureml-telemetry\\\": \\\"1.38.0\\\", \\\"azureml-sdk\\\": \\\"1.38.0\\\", \\\"azureml-samples\\\": \\\"0+unknown\\\", \\\"azureml-responsibleai\\\": \\\"1.38.0\\\", \\\"azureml-pipeline\\\": \\\"1.38.0\\\", \\\"azureml-pipeline-steps\\\": \\\"1.38.0\\\", \\\"azureml-pipeline-core\\\": \\\"1.38.0\\\", \\\"azureml-opendatasets\\\": \\\"1.38.0\\\", \\\"azureml-mlflow\\\": \\\"1.38.0\\\", \\\"azureml-interpret\\\": \\\"1.38.0\\\", \\\"azureml-inference-server-http\\\": \\\"0.4.2\\\", \\\"azureml-explain-model\\\": \\\"1.38.0\\\", \\\"azureml-defaults\\\": \\\"1.38.0\\\", \\\"azureml-dataset-runtime\\\": \\\"1.38.0\\\", \\\"azureml-dataprep\\\": \\\"2.26.0\\\", \\\"azureml-dataprep-rslex\\\": \\\"2.2.0\\\", \\\"azureml-dataprep-native\\\": \\\"38.0.0\\\", \\\"azureml-datadrift\\\": \\\"1.38.0\\\", \\\"azureml-core\\\": \\\"1.38.0\\\", \\\"azureml-contrib-services\\\": \\\"1.38.0\\\", \\\"azureml-contrib-server\\\": \\\"1.38.0\\\", \\\"azureml-contrib-reinforcementlearning\\\": \\\"1.38.0\\\", \\\"azureml-contrib-pipeline-steps\\\": \\\"1.38.0\\\", \\\"azureml-contrib-notebook\\\": \\\"1.38.0\\\", \\\"azureml-contrib-fairness\\\": \\\"1.38.0\\\", \\\"azureml-contrib-dataset\\\": \\\"1.38.0\\\", \\\"azureml-cli-common\\\": \\\"1.38.0\\\", \\\"azureml-automl-core\\\": \\\"1.38.0\\\", \\\"azureml-accel-models\\\": \\\"1.38.0\\\"}\", \"_aml_system_scenario_identification\": \"Remote.Parent\", \"ClientType\": \"SDK\", \"environment_cpu_name\": \"AzureML-AutoML\", \"environment_cpu_label\": \"py36\", \"environment_gpu_name\": \"AzureML-AutoML-GPU\", \"environment_gpu_label\": \"py36\", \"root_attribution\": \"automl\", \"attribution\": \"AutoML\", \"Orchestrator\": \"AutoML\", \"CancelUri\": \"https://southcentralus.api.azureml.ms/jasmine/v1.0/subscriptions/9b72f9e6-56c5-4c16-991b-19c652994860/resourceGroups/aml-quickstarts-187219/providers/Microsoft.MachineLearningServices/workspaces/quick-starts-ws-187219/experimentids/5629dcb8-9327-4c8f-9039-45b847e53888/cancel/AutoML_4509fb7a-c157-48a0-89c0-ec65e78ffa75\", \"ClientSdkVersion\": \"1.38.0\", \"snapshotId\": \"00000000-0000-0000-0000-000000000000\", \"SetupRunId\": \"AutoML_4509fb7a-c157-48a0-89c0-ec65e78ffa75_setup\", \"SetupRunContainerId\": \"dcid.AutoML_4509fb7a-c157-48a0-89c0-ec65e78ffa75_setup\", \"FeaturizationRunJsonPath\": \"featurizer_container.json\", \"FeaturizationRunId\": \"AutoML_4509fb7a-c157-48a0-89c0-ec65e78ffa75_featurize\", \"ProblemInfoJsonString\": \"{\\\"dataset_num_categorical\\\": 0, \\\"is_sparse\\\": false, \\\"subsampling\\\": false, \\\"has_extra_col\\\": true, \\\"dataset_classes\\\": 2, \\\"dataset_features\\\": 12, \\\"dataset_samples\\\": 299, \\\"single_frequency_class_detected\\\": false}\", \"ModelExplainRunId\": \"AutoML_4509fb7a-c157-48a0-89c0-ec65e78ffa75_ModelExplain\"}, \"tags\": {\"model_explain_run\": \"best_run\", \"_aml_system_azureml.automlComponent\": \"AutoML\", \"pipeline_id\": \"\", \"score\": \"\", \"predicted_cost\": \"\", \"fit_time\": \"\", \"training_percent\": \"\", \"iteration\": \"\", \"run_preprocessor\": \"\", \"run_algorithm\": \"\", \"dynamic_whitelisting_iterations\": \"<25>;<30>;<35>;\", \"_aml_system_azureml.automl_early_exit_message\": \"No scores improved over last 20 iterations, so experiment stopped early. This early stopping behavior can be disabled by setting enable_early_stopping = False in AutoMLConfig for notebook/python SDK runs.\", \"automl_best_child_run_id\": \"AutoML_4509fb7a-c157-48a0-89c0-ec65e78ffa75_37\", \"model_explain_best_run_child_id\": \"AutoML_4509fb7a-c157-48a0-89c0-ec65e78ffa75_37\"}, \"end_time_utc\": \"2022-02-21T18:26:07.942786Z\", \"status\": \"Completed\", \"log_files\": {}, \"log_groups\": [], \"run_duration\": \"0:19:59\", \"run_number\": \"1645466767\", \"run_queued_details\": {\"status\": \"Completed\", \"details\": null}}, \"child_runs\": [{\"run_id\": \"AutoML_4509fb7a-c157-48a0-89c0-ec65e78ffa75_setup\", \"run_number\": 1645466781, \"metric\": null, \"status\": \"Completed\", \"run_type\": \"azureml.scriptrun\", \"training_percent\": null, \"start_time\": \"2022-02-21T18:10:25.842777Z\", \"end_time\": \"2022-02-21T18:11:25.516619Z\", \"created_time\": \"2022-02-21T18:06:21.027562Z\", \"created_time_dt\": \"2022-02-21T18:06:21.027562Z\", \"duration\": \"0:05:04\", \"iteration\": null, \"goal\": null, \"run_name\": \"Completed\", \"run_properties\": null}, {\"run_id\": \"AutoML_4509fb7a-c157-48a0-89c0-ec65e78ffa75_featurize\", \"run_number\": 1645467085, \"metric\": null, \"status\": \"Completed\", \"run_type\": \"automl.featurization\", \"training_percent\": null, \"start_time\": \"2022-02-21T18:11:26.266316Z\", \"end_time\": \"2022-02-21T18:11:59.397482Z\", \"created_time\": \"2022-02-21T18:11:25.926171Z\", \"created_time_dt\": \"2022-02-21T18:11:25.926171Z\", \"duration\": \"0:00:33\", \"iteration\": null, \"goal\": null, \"run_name\": \"Completed\", \"run_properties\": null}, {\"run_id\": \"AutoML_4509fb7a-c157-48a0-89c0-ec65e78ffa75_0\", \"run_number\": 1645467120, \"metric\": null, \"status\": \"Completed\", \"run_type\": null, \"training_percent\": \"100\", \"start_time\": \"2022-02-21T18:12:21.967612Z\", \"end_time\": \"2022-02-21T18:12:29.667799Z\", \"created_time\": \"2022-02-21T18:12:00.879127Z\", \"created_time_dt\": \"2022-02-21T18:12:00.879127Z\", \"duration\": \"0:00:28\", \"iteration\": \"0\", \"goal\": \"accuracy_max\", \"run_name\": \"MaxAbsScaler, LightGBM\", \"run_properties\": \"copy=True\", \"primary_metric\": 0.8059887, \"best_metric\": 0.8059887}, {\"run_id\": \"AutoML_4509fb7a-c157-48a0-89c0-ec65e78ffa75_1\", \"run_number\": 1645467121, \"metric\": null, \"status\": \"Completed\", \"run_type\": null, \"training_percent\": \"100\", \"start_time\": \"2022-02-21T18:12:29.835846Z\", \"end_time\": \"2022-02-21T18:12:37.97625Z\", \"created_time\": \"2022-02-21T18:12:01.458494Z\", \"created_time_dt\": \"2022-02-21T18:12:01.458494Z\", \"duration\": \"0:00:36\", \"iteration\": \"1\", \"goal\": \"accuracy_max\", \"run_name\": \"MaxAbsScaler, XGBoostClassifier\", \"run_properties\": \"copy=True\", \"primary_metric\": 0.8259322, \"best_metric\": 0.8259322}, {\"run_id\": \"AutoML_4509fb7a-c157-48a0-89c0-ec65e78ffa75_3\", \"run_number\": 1645467122, \"metric\": null, \"status\": \"Completed\", \"run_type\": null, \"training_percent\": \"100\", \"start_time\": \"2022-02-21T18:12:47.052694Z\", \"end_time\": \"2022-02-21T18:12:54.928809Z\", \"created_time\": \"2022-02-21T18:12:02.382281Z\", \"created_time_dt\": \"2022-02-21T18:12:02.382281Z\", \"duration\": \"0:00:52\", \"iteration\": \"3\", \"goal\": \"accuracy_max\", \"run_name\": \"SparseNormalizer, XGBoostClassifier\", \"run_properties\": \"copy=True, norm='l2'\", \"primary_metric\": 0.80943503, \"best_metric\": 0.8259322}, {\"run_id\": \"AutoML_4509fb7a-c157-48a0-89c0-ec65e78ffa75_5\", \"run_number\": 1645467123, \"metric\": null, \"status\": \"Completed\", \"run_type\": null, \"training_percent\": \"100\", \"start_time\": \"2022-02-21T18:13:03.199867Z\", \"end_time\": \"2022-02-21T18:13:11.141736Z\", \"created_time\": \"2022-02-21T18:12:03.32444Z\", \"created_time_dt\": \"2022-02-21T18:12:03.32444Z\", \"duration\": \"0:01:07\", \"iteration\": \"5\", \"goal\": \"accuracy_max\", \"run_name\": \"MaxAbsScaler, LightGBM\", \"run_properties\": \"copy=True\", \"primary_metric\": 0.83271186, \"best_metric\": 0.83271186}, {\"run_id\": \"AutoML_4509fb7a-c157-48a0-89c0-ec65e78ffa75_7\", \"run_number\": 1645467124, \"metric\": null, \"status\": \"Completed\", \"run_type\": null, \"training_percent\": \"100\", \"start_time\": \"2022-02-21T18:13:19.645907Z\", \"end_time\": \"2022-02-21T18:13:27.489458Z\", \"created_time\": \"2022-02-21T18:12:04.365469Z\", \"created_time_dt\": \"2022-02-21T18:12:04.365469Z\", \"duration\": \"0:01:23\", \"iteration\": \"7\", \"goal\": \"accuracy_max\", \"run_name\": \"MaxAbsScaler, LightGBM\", \"run_properties\": \"copy=True\", \"primary_metric\": 0.8060452, \"best_metric\": 0.83271186}, {\"run_id\": \"AutoML_4509fb7a-c157-48a0-89c0-ec65e78ffa75_9\", \"run_number\": 1645467125, \"metric\": null, \"status\": \"Completed\", \"run_type\": null, \"training_percent\": \"100\", \"start_time\": \"2022-02-21T18:13:35.766461Z\", \"end_time\": \"2022-02-21T18:13:43.497506Z\", \"created_time\": \"2022-02-21T18:12:05.200421Z\", \"created_time_dt\": \"2022-02-21T18:12:05.200421Z\", \"duration\": \"0:01:38\", \"iteration\": \"9\", \"goal\": \"accuracy_max\", \"run_name\": \"StandardScalerWrapper, SVM\", \"run_properties\": \"\\n    copy=True,\\n    with_mean=True,\\n    with_std=True\\n\", \"primary_metric\": 0.72237288, \"best_metric\": 0.83271186}, {\"run_id\": \"AutoML_4509fb7a-c157-48a0-89c0-ec65e78ffa75_11\", \"run_number\": 1645467126, \"metric\": null, \"status\": \"Completed\", \"run_type\": null, \"training_percent\": \"100\", \"start_time\": \"2022-02-21T18:13:51.85272Z\", \"end_time\": \"2022-02-21T18:14:03.395145Z\", \"created_time\": \"2022-02-21T18:12:06.078548Z\", \"created_time_dt\": \"2022-02-21T18:12:06.078548Z\", \"duration\": \"0:01:57\", \"iteration\": \"11\", \"goal\": \"accuracy_max\", \"run_name\": \"MinMaxScaler, RandomForest\", \"run_properties\": \"copy=True, feature_range=(0, 1\", \"primary_metric\": 0.82915254, \"best_metric\": 0.83271186}, {\"run_id\": \"AutoML_4509fb7a-c157-48a0-89c0-ec65e78ffa75_14\", \"run_number\": 1645467127, \"metric\": null, \"status\": \"Completed\", \"run_type\": null, \"training_percent\": \"100\", \"start_time\": \"2022-02-21T18:14:19.306073Z\", \"end_time\": \"2022-02-21T18:14:27.172764Z\", \"created_time\": \"2022-02-21T18:12:07.375204Z\", \"created_time_dt\": \"2022-02-21T18:12:07.375204Z\", \"duration\": \"0:02:19\", \"iteration\": \"14\", \"goal\": \"accuracy_max\", \"run_name\": \"RobustScaler, KNN\", \"run_properties\": \"copy=True, quantile_range=[10, 90], with_centering=False,\\n             with_scaling=True\", \"primary_metric\": 0.71576271, \"best_metric\": 0.83271186}, {\"run_id\": \"AutoML_4509fb7a-c157-48a0-89c0-ec65e78ffa75_16\", \"run_number\": 1645467128, \"metric\": null, \"status\": \"Completed\", \"run_type\": null, \"training_percent\": \"100\", \"start_time\": \"2022-02-21T18:14:35.695028Z\", \"end_time\": \"2022-02-21T18:14:43.206262Z\", \"created_time\": \"2022-02-21T18:12:08.238064Z\", \"created_time_dt\": \"2022-02-21T18:12:08.238064Z\", \"duration\": \"0:02:34\", \"iteration\": \"16\", \"goal\": \"accuracy_max\", \"run_name\": \"SparseNormalizer, KNN\", \"run_properties\": \"copy=True, norm='max'\", \"primary_metric\": 0.7559887, \"best_metric\": 0.83271186}, {\"run_id\": \"AutoML_4509fb7a-c157-48a0-89c0-ec65e78ffa75_worker_0\", \"run_number\": 1645467129, \"metric\": null, \"status\": \"Completed\", \"run_type\": \"azureml.scriptrun\", \"training_percent\": null, \"start_time\": \"2022-02-21T18:14:13.046864Z\", \"end_time\": \"2022-02-21T18:15:12.717562Z\", \"created_time\": \"2022-02-21T18:12:09.767448Z\", \"created_time_dt\": \"2022-02-21T18:12:09.767448Z\", \"duration\": \"0:03:02\", \"iteration\": null, \"goal\": null, \"run_name\": \"Completed\", \"run_properties\": null}, {\"run_id\": \"AutoML_4509fb7a-c157-48a0-89c0-ec65e78ffa75_20\", \"run_number\": 1645467371, \"metric\": null, \"status\": \"Completed\", \"run_type\": \"azureml.scriptrun\", \"training_percent\": \"100\", \"start_time\": \"2022-02-21T18:16:39.345408Z\", \"end_time\": \"2022-02-21T18:16:42.852144Z\", \"created_time\": \"2022-02-21T18:16:11.135208Z\", \"created_time_dt\": \"2022-02-21T18:16:11.135208Z\", \"duration\": \"0:00:31\", \"iteration\": \"20\", \"goal\": \"accuracy_max\", \"run_name\": \"MaxAbsScaler, LogisticRegression\", \"run_properties\": \"copy=True\", \"primary_metric\": 0.8160452, \"best_metric\": 0.83271186}, {\"run_id\": \"AutoML_4509fb7a-c157-48a0-89c0-ec65e78ffa75_21\", \"run_number\": 1645467404, \"metric\": null, \"status\": \"Completed\", \"run_type\": \"azureml.scriptrun\", \"training_percent\": \"100\", \"start_time\": \"2022-02-21T18:17:03.231464Z\", \"end_time\": \"2022-02-21T18:17:06.764539Z\", \"created_time\": \"2022-02-21T18:16:44.876825Z\", \"created_time_dt\": \"2022-02-21T18:16:44.876825Z\", \"duration\": \"0:00:21\", \"iteration\": \"21\", \"goal\": \"accuracy_max\", \"run_name\": \"StandardScalerWrapper, XGBoostClassifier\", \"run_properties\": \"\\n    copy=True,\\n    with_mean=False,\\n    with_std=False\\n\", \"primary_metric\": 0.8260452, \"best_metric\": 0.83271186}, {\"run_id\": \"AutoML_4509fb7a-c157-48a0-89c0-ec65e78ffa75_22\", \"run_number\": 1645467429, \"metric\": null, \"status\": \"Completed\", \"run_type\": \"azureml.scriptrun\", \"training_percent\": \"100\", \"start_time\": \"2022-02-21T18:17:27.815588Z\", \"end_time\": \"2022-02-21T18:17:31.352395Z\", \"created_time\": \"2022-02-21T18:17:09.196846Z\", \"created_time_dt\": \"2022-02-21T18:17:09.196846Z\", \"duration\": \"0:00:22\", \"iteration\": \"22\", \"goal\": \"accuracy_max\", \"run_name\": \"SparseNormalizer, XGBoostClassifier\", \"run_properties\": \"copy=True, norm='l1'\", \"primary_metric\": 0.84966102, \"best_metric\": 0.84966102}, {\"run_id\": \"AutoML_4509fb7a-c157-48a0-89c0-ec65e78ffa75_23\", \"run_number\": 1645467453, \"metric\": null, \"status\": \"Completed\", \"run_type\": \"azureml.scriptrun\", \"training_percent\": \"100\", \"start_time\": \"2022-02-21T18:17:52.043423Z\", \"end_time\": \"2022-02-21T18:17:55.597304Z\", \"created_time\": \"2022-02-21T18:17:33.146721Z\", \"created_time_dt\": \"2022-02-21T18:17:33.146721Z\", \"duration\": \"0:00:22\", \"iteration\": \"23\", \"goal\": \"accuracy_max\", \"run_name\": \"SparseNormalizer, XGBoostClassifier\", \"run_properties\": \"copy=True, norm='l2'\", \"primary_metric\": 0.83271186, \"best_metric\": 0.84966102}, {\"run_id\": \"AutoML_4509fb7a-c157-48a0-89c0-ec65e78ffa75_24\", \"run_number\": 1645467477, \"metric\": null, \"status\": \"Completed\", \"run_type\": \"azureml.scriptrun\", \"training_percent\": \"100\", \"start_time\": \"2022-02-21T18:18:35.863598Z\", \"end_time\": \"2022-02-21T18:18:39.39041Z\", \"created_time\": \"2022-02-21T18:17:57.814886Z\", \"created_time_dt\": \"2022-02-21T18:17:57.814886Z\", \"duration\": \"0:00:41\", \"iteration\": \"24\", \"goal\": \"accuracy_max\", \"run_name\": \"StandardScalerWrapper, GradientBoosting\", \"run_properties\": \"\\n    copy=True,\\n    with_mean=False,\\n    with_std=False\\n\", \"primary_metric\": 0.84949153, \"best_metric\": 0.84966102}, {\"run_id\": \"AutoML_4509fb7a-c157-48a0-89c0-ec65e78ffa75_25\", \"run_number\": 1645467522, \"metric\": null, \"status\": \"Completed\", \"run_type\": \"azureml.scriptrun\", \"training_percent\": \"100\", \"start_time\": \"2022-02-21T18:19:05.723338Z\", \"end_time\": \"2022-02-21T18:19:09.264873Z\", \"created_time\": \"2022-02-21T18:18:42.524891Z\", \"created_time_dt\": \"2022-02-21T18:18:42.524891Z\", \"duration\": \"0:00:26\", \"iteration\": \"25\", \"goal\": \"accuracy_max\", \"run_name\": \"TruncatedSVDWrapper, XGBoostClassifier\", \"run_properties\": \"n_components=0.8510526315789474, random_state=None\", \"primary_metric\": 0.67909605, \"best_metric\": 0.84966102}, {\"run_id\": \"AutoML_4509fb7a-c157-48a0-89c0-ec65e78ffa75_26\", \"run_number\": 1645467551, \"metric\": null, \"status\": \"Completed\", \"run_type\": \"azureml.scriptrun\", \"training_percent\": \"100\", \"start_time\": \"2022-02-21T18:19:29.933768Z\", \"end_time\": \"2022-02-21T18:19:33.532045Z\", \"created_time\": \"2022-02-21T18:19:11.188557Z\", \"created_time_dt\": \"2022-02-21T18:19:11.188557Z\", \"duration\": \"0:00:22\", \"iteration\": \"26\", \"goal\": \"accuracy_max\", \"run_name\": \"SparseNormalizer, XGBoostClassifier\", \"run_properties\": \"copy=True, norm='l1'\", \"primary_metric\": 0.85299435, \"best_metric\": 0.85299435}, {\"run_id\": \"AutoML_4509fb7a-c157-48a0-89c0-ec65e78ffa75_27\", \"run_number\": 1645467575, \"metric\": null, \"status\": \"Completed\", \"run_type\": \"azureml.scriptrun\", \"training_percent\": \"100\", \"start_time\": \"2022-02-21T18:19:53.488938Z\", \"end_time\": \"2022-02-21T18:19:57.034654Z\", \"created_time\": \"2022-02-21T18:19:35.401429Z\", \"created_time_dt\": \"2022-02-21T18:19:35.401429Z\", \"duration\": \"0:00:21\", \"iteration\": \"27\", \"goal\": \"accuracy_max\", \"run_name\": \"StandardScalerWrapper, XGBoostClassifier\", \"run_properties\": \"\\n    copy=True,\\n    with_mean=False,\\n    with_std=False\\n\", \"primary_metric\": 0.81271186, \"best_metric\": 0.85299435}, {\"run_id\": \"AutoML_4509fb7a-c157-48a0-89c0-ec65e78ffa75_28\", \"run_number\": 1645467598, \"metric\": null, \"status\": \"Completed\", \"run_type\": \"azureml.scriptrun\", \"training_percent\": \"100\", \"start_time\": \"2022-02-21T18:20:36.81317Z\", \"end_time\": \"2022-02-21T18:20:40.354995Z\", \"created_time\": \"2022-02-21T18:19:58.919564Z\", \"created_time_dt\": \"2022-02-21T18:19:58.919564Z\", \"duration\": \"0:00:41\", \"iteration\": \"28\", \"goal\": \"accuracy_max\", \"run_name\": \"MaxAbsScaler, RandomForest\", \"run_properties\": \"copy=True\", \"primary_metric\": 0.82248588, \"best_metric\": 0.85299435}, {\"run_id\": \"AutoML_4509fb7a-c157-48a0-89c0-ec65e78ffa75_29\", \"run_number\": 1645467642, \"metric\": null, \"status\": \"Completed\", \"run_type\": \"azureml.scriptrun\", \"training_percent\": \"100\", \"start_time\": \"2022-02-21T18:21:05.434314Z\", \"end_time\": \"2022-02-21T18:21:08.970529Z\", \"created_time\": \"2022-02-21T18:20:42.177401Z\", \"created_time_dt\": \"2022-02-21T18:20:42.177401Z\", \"duration\": \"0:00:26\", \"iteration\": \"29\", \"goal\": \"accuracy_max\", \"run_name\": \"SparseNormalizer, XGBoostClassifier\", \"run_properties\": \"copy=True, norm='l2'\", \"primary_metric\": 0.85282486, \"best_metric\": 0.85299435}, {\"run_id\": \"AutoML_4509fb7a-c157-48a0-89c0-ec65e78ffa75_30\", \"run_number\": 1645467672, \"metric\": null, \"status\": \"Completed\", \"run_type\": \"azureml.scriptrun\", \"training_percent\": \"100\", \"start_time\": \"2022-02-21T18:21:35.574359Z\", \"end_time\": \"2022-02-21T18:21:39.109084Z\", \"created_time\": \"2022-02-21T18:21:12.002175Z\", \"created_time_dt\": \"2022-02-21T18:21:12.002175Z\", \"duration\": \"0:00:27\", \"iteration\": \"30\", \"goal\": \"accuracy_max\", \"run_name\": \"SparseNormalizer, XGBoostClassifier\", \"run_properties\": \"copy=True, norm='l2'\", \"primary_metric\": 0.84621469, \"best_metric\": 0.85299435}, {\"run_id\": \"AutoML_4509fb7a-c157-48a0-89c0-ec65e78ffa75_31\", \"run_number\": 1645467700, \"metric\": null, \"status\": \"Completed\", \"run_type\": \"azureml.scriptrun\", \"training_percent\": \"100\", \"start_time\": \"2022-02-21T18:22:01.490643Z\", \"end_time\": \"2022-02-21T18:22:05.038044Z\", \"created_time\": \"2022-02-21T18:21:40.823732Z\", \"created_time_dt\": \"2022-02-21T18:21:40.823732Z\", \"duration\": \"0:00:24\", \"iteration\": \"31\", \"goal\": \"accuracy_max\", \"run_name\": \"StandardScalerWrapper, XGBoostClassifier\", \"run_properties\": \"\\n    copy=True,\\n    with_mean=False,\\n    with_std=False\\n\", \"primary_metric\": 0.85282486, \"best_metric\": 0.85299435}, {\"run_id\": \"AutoML_4509fb7a-c157-48a0-89c0-ec65e78ffa75_32\", \"run_number\": 1645467726, \"metric\": null, \"status\": \"Completed\", \"run_type\": \"azureml.scriptrun\", \"training_percent\": \"100\", \"start_time\": \"2022-02-21T18:22:35.50823Z\", \"end_time\": \"2022-02-21T18:22:39.023244Z\", \"created_time\": \"2022-02-21T18:22:06.726222Z\", \"created_time_dt\": \"2022-02-21T18:22:06.726222Z\", \"duration\": \"0:00:32\", \"iteration\": \"32\", \"goal\": \"accuracy_max\", \"run_name\": \"StandardScalerWrapper, XGBoostClassifier\", \"run_properties\": \"\\n    copy=True,\\n    with_mean=False,\\n    with_std=False\\n\", \"primary_metric\": 0.82920904, \"best_metric\": 0.85299435}, {\"run_id\": \"AutoML_4509fb7a-c157-48a0-89c0-ec65e78ffa75_33\", \"run_number\": 1645467760, \"metric\": null, \"status\": \"Completed\", \"run_type\": \"azureml.scriptrun\", \"training_percent\": \"100\", \"start_time\": \"2022-02-21T18:23:06.048625Z\", \"end_time\": \"2022-02-21T18:23:09.62752Z\", \"created_time\": \"2022-02-21T18:22:40.861183Z\", \"created_time_dt\": \"2022-02-21T18:22:40.861183Z\", \"duration\": \"0:00:28\", \"iteration\": \"33\", \"goal\": \"accuracy_max\", \"run_name\": \"StandardScalerWrapper, XGBoostClassifier\", \"run_properties\": \"\\n    copy=True,\\n    with_mean=False,\\n    with_std=False\\n\", \"primary_metric\": 0.83259887, \"best_metric\": 0.85299435}, {\"run_id\": \"AutoML_4509fb7a-c157-48a0-89c0-ec65e78ffa75_34\", \"run_number\": 1645467792, \"metric\": null, \"status\": \"Completed\", \"run_type\": \"azureml.scriptrun\", \"training_percent\": \"100\", \"start_time\": \"2022-02-21T18:23:37.398564Z\", \"end_time\": \"2022-02-21T18:23:40.933263Z\", \"created_time\": \"2022-02-21T18:23:12.918109Z\", \"created_time_dt\": \"2022-02-21T18:23:12.918109Z\", \"duration\": \"0:00:28\", \"iteration\": \"34\", \"goal\": \"accuracy_max\", \"run_name\": \"StandardScalerWrapper, GradientBoosting\", \"run_properties\": \"\\n    copy=True,\\n    with_mean=False,\\n    with_std=False\\n\", \"primary_metric\": 0.85288136, \"best_metric\": 0.85299435}, {\"run_id\": \"AutoML_4509fb7a-c157-48a0-89c0-ec65e78ffa75_35\", \"run_number\": 1645467823, \"metric\": null, \"status\": \"Completed\", \"run_type\": \"azureml.scriptrun\", \"training_percent\": \"100\", \"start_time\": \"2022-02-21T18:24:03.625226Z\", \"end_time\": \"2022-02-21T18:24:07.216605Z\", \"created_time\": \"2022-02-21T18:23:43.878253Z\", \"created_time_dt\": \"2022-02-21T18:23:43.878253Z\", \"duration\": \"0:00:23\", \"iteration\": \"35\", \"goal\": \"accuracy_max\", \"run_name\": \"PCA, XGBoostClassifier\", \"run_properties\": \"copy=True, iterated_power='auto', n_components=0.8510526315789474,\\n    random_state=None, svd_solver='auto', tol=0.0, whiten=False\", \"primary_metric\": 0.62225989, \"best_metric\": 0.85299435}, {\"run_id\": \"AutoML_4509fb7a-c157-48a0-89c0-ec65e78ffa75_36\", \"run_number\": 1645467849, \"metric\": null, \"status\": \"Completed\", \"run_type\": \"azureml.scriptrun\", \"training_percent\": \"100\", \"start_time\": \"2022-02-21T18:24:37.234313Z\", \"end_time\": \"2022-02-21T18:24:40.762567Z\", \"created_time\": \"2022-02-21T18:24:09.302967Z\", \"created_time_dt\": \"2022-02-21T18:24:09.302967Z\", \"duration\": \"0:00:31\", \"iteration\": \"36\", \"goal\": \"accuracy_max\", \"run_name\": \"StandardScalerWrapper, XGBoostClassifier\", \"run_properties\": \"\\n    copy=True,\\n    with_mean=False,\\n    with_std=False\\n\", \"primary_metric\": 0.8259887, \"best_metric\": 0.85299435}, {\"run_id\": \"AutoML_4509fb7a-c157-48a0-89c0-ec65e78ffa75_37\", \"run_number\": 1645467881, \"metric\": null, \"status\": \"Completed\", \"run_type\": \"azureml.scriptrun\", \"training_percent\": \"100\", \"start_time\": \"2022-02-21T18:25:22.045223Z\", \"end_time\": \"2022-02-21T18:25:25.584617Z\", \"created_time\": \"2022-02-21T18:24:41.738779Z\", \"created_time_dt\": \"2022-02-21T18:24:41.738779Z\", \"duration\": \"0:00:43\", \"iteration\": \"37\", \"goal\": \"accuracy_max\", \"run_name\": \"VotingEnsemble\", \"run_properties\": \"\\n    estimators=[('26', Pipeline(\\n        memory=None,\\n        steps=[('sparsenormalizer', Normalizer(\\n            copy=True,\\n            norm='l1'\\n        \", \"primary_metric\": 0.87966102, \"best_metric\": 0.87966102}, {\"run_id\": \"AutoML_4509fb7a-c157-48a0-89c0-ec65e78ffa75_38\", \"run_number\": 1645467926, \"metric\": null, \"status\": \"Completed\", \"run_type\": \"azureml.scriptrun\", \"training_percent\": \"100\", \"start_time\": \"2022-02-21T18:26:03.08624Z\", \"end_time\": \"2022-02-21T18:26:06.621692Z\", \"created_time\": \"2022-02-21T18:25:26.320348Z\", \"created_time_dt\": \"2022-02-21T18:25:26.320348Z\", \"duration\": \"0:00:40\", \"iteration\": \"38\", \"goal\": \"accuracy_max\", \"run_name\": \"StackEnsemble\", \"run_properties\": \"\\n    base_learners=[('26', Pipeline(\\n        memory=None,\\n        steps=[('sparsenormalizer', Normalizer(\\n            copy=True,\\n            norm='l1'\\n        \", \"primary_metric\": 0.86632768, \"best_metric\": 0.87966102}], \"children_metrics\": {\"categories\": [0], \"series\": {\"recall_score_weighted\": [{\"categories\": [\"0\", \"1\", \"3\", \"5\", \"7\", \"9\", \"11\", \"14\", \"16\", \"20\", \"21\", \"22\", \"23\", \"24\", \"25\", \"26\", \"27\", \"28\", \"29\", \"30\", \"31\", \"32\", \"33\", \"34\", \"35\", \"36\", \"37\", \"38\"], \"mode\": \"markers\", \"name\": \"recall_score_weighted\", \"stepped\": false, \"type\": \"scatter\", \"data\": [0.8059887005649717, 0.8259322033898304, 0.8094350282485875, 0.8327118644067797, 0.806045197740113, 0.7223728813559323, 0.8291525423728814, 0.7157627118644068, 0.7559887005649718, 0.8160451977401131, 0.8260451977401131, 0.8496610169491525, 0.8327118644067797, 0.8494915254237287, 0.67909604519774, 0.8529943502824858, 0.8127118644067796, 0.8224858757062146, 0.8528248587570622, 0.8462146892655367, 0.8528248587570622, 0.8292090395480226, 0.8325988700564972, 0.8528813559322034, 0.6222598870056497, 0.8259887005649718, 0.8796610169491526, 0.8663276836158191]}, {\"categories\": [\"0\", \"1\", \"3\", \"5\", \"7\", \"9\", \"11\", \"14\", \"16\", \"20\", \"21\", \"22\", \"23\", \"24\", \"25\", \"26\", \"27\", \"28\", \"29\", \"30\", \"31\", \"32\", \"33\", \"34\", \"35\", \"36\", \"37\", \"38\"], \"mode\": \"lines\", \"name\": \"recall_score_weighted_max\", \"stepped\": true, \"type\": \"scatter\", \"data\": [0.8059887005649717, 0.8259322033898304, 0.8259322033898304, 0.8327118644067797, 0.8327118644067797, 0.8327118644067797, 0.8327118644067797, 0.8327118644067797, 0.8327118644067797, 0.8327118644067797, 0.8327118644067797, 0.8496610169491525, 0.8496610169491525, 0.8496610169491525, 0.8496610169491525, 0.8529943502824858, 0.8529943502824858, 0.8529943502824858, 0.8529943502824858, 0.8529943502824858, 0.8529943502824858, 0.8529943502824858, 0.8529943502824858, 0.8529943502824858, 0.8529943502824858, 0.8529943502824858, 0.8796610169491526, 0.8796610169491526]}], \"precision_score_micro\": [{\"categories\": [\"0\", \"1\", \"3\", \"5\", \"7\", \"9\", \"11\", \"14\", \"16\", \"20\", \"21\", \"22\", \"23\", \"24\", \"25\", \"26\", \"27\", \"28\", \"29\", \"30\", \"31\", \"32\", \"33\", \"34\", \"35\", \"36\", \"37\", \"38\"], \"mode\": \"markers\", \"name\": \"precision_score_micro\", \"stepped\": false, \"type\": \"scatter\", \"data\": [0.8059887005649717, 0.8259322033898304, 0.8094350282485875, 0.8327118644067797, 0.806045197740113, 0.7223728813559323, 0.8291525423728814, 0.7157627118644068, 0.7559887005649718, 0.8160451977401131, 0.8260451977401131, 0.8496610169491525, 0.8327118644067797, 0.8494915254237287, 0.67909604519774, 0.8529943502824858, 0.8127118644067796, 0.8224858757062146, 0.8528248587570622, 0.8462146892655367, 0.8528248587570622, 0.8292090395480226, 0.8325988700564972, 0.8528813559322034, 0.6222598870056497, 0.8259887005649718, 0.8796610169491526, 0.8663276836158191]}, {\"categories\": [\"0\", \"1\", \"3\", \"5\", \"7\", \"9\", \"11\", \"14\", \"16\", \"20\", \"21\", \"22\", \"23\", \"24\", \"25\", \"26\", \"27\", \"28\", \"29\", \"30\", \"31\", \"32\", \"33\", \"34\", \"35\", \"36\", \"37\", \"38\"], \"mode\": \"lines\", \"name\": \"precision_score_micro_max\", \"stepped\": true, \"type\": \"scatter\", \"data\": [0.8059887005649717, 0.8259322033898304, 0.8259322033898304, 0.8327118644067797, 0.8327118644067797, 0.8327118644067797, 0.8327118644067797, 0.8327118644067797, 0.8327118644067797, 0.8327118644067797, 0.8327118644067797, 0.8496610169491525, 0.8496610169491525, 0.8496610169491525, 0.8496610169491525, 0.8529943502824858, 0.8529943502824858, 0.8529943502824858, 0.8529943502824858, 0.8529943502824858, 0.8529943502824858, 0.8529943502824858, 0.8529943502824858, 0.8529943502824858, 0.8529943502824858, 0.8529943502824858, 0.8796610169491526, 0.8796610169491526]}], \"accuracy\": [{\"categories\": [\"0\", \"1\", \"3\", \"5\", \"7\", \"9\", \"11\", \"14\", \"16\", \"20\", \"21\", \"22\", \"23\", \"24\", \"25\", \"26\", \"27\", \"28\", \"29\", \"30\", \"31\", \"32\", \"33\", \"34\", \"35\", \"36\", \"37\", \"38\"], \"mode\": \"markers\", \"name\": \"accuracy\", \"stepped\": false, \"type\": \"scatter\", \"data\": [0.8059887005649717, 0.8259322033898304, 0.8094350282485875, 0.8327118644067797, 0.806045197740113, 0.7223728813559323, 0.8291525423728814, 0.7157627118644068, 0.7559887005649718, 0.8160451977401131, 0.8260451977401131, 0.8496610169491525, 0.8327118644067797, 0.8494915254237287, 0.67909604519774, 0.8529943502824858, 0.8127118644067796, 0.8224858757062146, 0.8528248587570622, 0.8462146892655367, 0.8528248587570622, 0.8292090395480226, 0.8325988700564972, 0.8528813559322034, 0.6222598870056497, 0.8259887005649718, 0.8796610169491526, 0.8663276836158191]}, {\"categories\": [\"0\", \"1\", \"3\", \"5\", \"7\", \"9\", \"11\", \"14\", \"16\", \"20\", \"21\", \"22\", \"23\", \"24\", \"25\", \"26\", \"27\", \"28\", \"29\", \"30\", \"31\", \"32\", \"33\", \"34\", \"35\", \"36\", \"37\", \"38\"], \"mode\": \"lines\", \"name\": \"accuracy_max\", \"stepped\": true, \"type\": \"scatter\", \"data\": [0.8059887005649717, 0.8259322033898304, 0.8259322033898304, 0.8327118644067797, 0.8327118644067797, 0.8327118644067797, 0.8327118644067797, 0.8327118644067797, 0.8327118644067797, 0.8327118644067797, 0.8327118644067797, 0.8496610169491525, 0.8496610169491525, 0.8496610169491525, 0.8496610169491525, 0.8529943502824858, 0.8529943502824858, 0.8529943502824858, 0.8529943502824858, 0.8529943502824858, 0.8529943502824858, 0.8529943502824858, 0.8529943502824858, 0.8529943502824858, 0.8529943502824858, 0.8529943502824858, 0.8796610169491526, 0.8796610169491526]}], \"balanced_accuracy\": [{\"categories\": [\"0\", \"1\", \"3\", \"5\", \"7\", \"9\", \"11\", \"14\", \"16\", \"20\", \"21\", \"22\", \"23\", \"24\", \"25\", \"26\", \"27\", \"28\", \"29\", \"30\", \"31\", \"32\", \"33\", \"34\", \"35\", \"36\", \"37\", \"38\"], \"mode\": \"markers\", \"name\": \"balanced_accuracy\", \"stepped\": false, \"type\": \"scatter\", \"data\": [0.7760209025470652, 0.8060125968992248, 0.7496601605758583, 0.8045923311184939, 0.7443583887043189, 0.6725089977851605, 0.820642995570321, 0.6268583887043189, 0.6588053709856035, 0.7885548172757475, 0.7970923311184939, 0.8229125138427464, 0.8121857696566999, 0.8226702657807309, 0.5, 0.8180910852713179, 0.7587929125138426, 0.8177858527131783, 0.824094684385382, 0.815765503875969, 0.8215351605758583, 0.8078875968992248, 0.8135125968992248, 0.8124404761904762, 0.4879471207087486, 0.802891749723145, 0.8456547619047619, 0.8402934662236987]}, {\"categories\": [\"0\", \"1\", \"3\", \"5\", \"7\", \"9\", \"11\", \"14\", \"16\", \"20\", \"21\", \"22\", \"23\", \"24\", \"25\", \"26\", \"27\", \"28\", \"29\", \"30\", \"31\", \"32\", \"33\", \"34\", \"35\", \"36\", \"37\", \"38\"], \"mode\": \"lines\", \"name\": \"balanced_accuracy_max\", \"stepped\": true, \"type\": \"scatter\", \"data\": [0.7760209025470652, 0.8060125968992248, 0.8060125968992248, 0.8060125968992248, 0.8060125968992248, 0.8060125968992248, 0.820642995570321, 0.820642995570321, 0.820642995570321, 0.820642995570321, 0.820642995570321, 0.8229125138427464, 0.8229125138427464, 0.8229125138427464, 0.8229125138427464, 0.8229125138427464, 0.8229125138427464, 0.8229125138427464, 0.824094684385382, 0.824094684385382, 0.824094684385382, 0.824094684385382, 0.824094684385382, 0.824094684385382, 0.824094684385382, 0.824094684385382, 0.8456547619047619, 0.8456547619047619]}], \"precision_score_macro\": [{\"categories\": [\"0\", \"1\", \"3\", \"5\", \"7\", \"9\", \"11\", \"14\", \"16\", \"20\", \"21\", \"22\", \"23\", \"24\", \"25\", \"26\", \"27\", \"28\", \"29\", \"30\", \"31\", \"32\", \"33\", \"34\", \"35\", \"36\", \"37\", \"38\"], \"mode\": \"markers\", \"name\": \"precision_score_macro\", \"stepped\": false, \"type\": \"scatter\", \"data\": [0.7889041743265773, 0.8086642059265495, 0.7916298554620186, 0.8167076476821411, 0.8120143055702063, 0.6943765689237387, 0.8022502152364852, 0.6692483660130719, 0.7575767225129046, 0.8057518640185325, 0.8094295438860655, 0.8433149055352918, 0.8167570364649581, 0.8404831260351855, 0.33954802259887, 0.8501936231628286, 0.8113434808587445, 0.7944684300907211, 0.8420714551149334, 0.8393092442548653, 0.84888470928916, 0.8112028142905292, 0.8153585098140219, 0.8679003964008366, 0.4445273895621463, 0.8107219721012398, 0.8883990502911475, 0.8740143242170533]}, {\"categories\": [\"0\", \"1\", \"3\", \"5\", \"7\", \"9\", \"11\", \"14\", \"16\", \"20\", \"21\", \"22\", \"23\", \"24\", \"25\", \"26\", \"27\", \"28\", \"29\", \"30\", \"31\", \"32\", \"33\", \"34\", \"35\", \"36\", \"37\", \"38\"], \"mode\": \"lines\", \"name\": \"precision_score_macro_max\", \"stepped\": true, \"type\": \"scatter\", \"data\": [0.7889041743265773, 0.8086642059265495, 0.8086642059265495, 0.8167076476821411, 0.8167076476821411, 0.8167076476821411, 0.8167076476821411, 0.8167076476821411, 0.8167076476821411, 0.8167076476821411, 0.8167076476821411, 0.8433149055352918, 0.8433149055352918, 0.8433149055352918, 0.8433149055352918, 0.8501936231628286, 0.8501936231628286, 0.8501936231628286, 0.8501936231628286, 0.8501936231628286, 0.8501936231628286, 0.8501936231628286, 0.8501936231628286, 0.8679003964008366, 0.8679003964008366, 0.8679003964008366, 0.8883990502911475, 0.8883990502911475]}], \"AUC_micro\": [{\"categories\": [\"0\", \"1\", \"3\", \"5\", \"7\", \"9\", \"11\", \"14\", \"16\", \"20\", \"21\", \"22\", \"23\", \"24\", \"25\", \"26\", \"27\", \"28\", \"29\", \"30\", \"31\", \"32\", \"33\", \"34\", \"35\", \"36\", \"37\", \"38\"], \"mode\": \"markers\", \"name\": \"AUC_micro\", \"stepped\": false, \"type\": \"scatter\", \"data\": [0.8866619745283921, 0.8999905678444892, 0.8767749848383287, 0.9040684349963293, 0.8802127900667113, 0.8090342733569535, 0.9127745220083628, 0.7705993488461171, 0.8079193558683647, 0.8783376743592198, 0.9065698554055348, 0.9042521784927704, 0.8880161990488047, 0.9121667145456286, 0.6790960451977401, 0.9087331865045167, 0.8981914200900123, 0.9095760477512848, 0.9047009001244852, 0.9027559768904212, 0.9146287305691214, 0.9063509687509974, 0.9071396629321076, 0.9170712758147405, 0.6355564093970443, 0.9073865747390597, 0.916993392703246, 0.9126790513581664]}, {\"categories\": [\"0\", \"1\", \"3\", \"5\", \"7\", \"9\", \"11\", \"14\", \"16\", \"20\", \"21\", \"22\", \"23\", \"24\", \"25\", \"26\", \"27\", \"28\", \"29\", \"30\", \"31\", \"32\", \"33\", \"34\", \"35\", \"36\", \"37\", \"38\"], \"mode\": \"lines\", \"name\": \"AUC_micro_max\", \"stepped\": true, \"type\": \"scatter\", \"data\": [0.8866619745283921, 0.8999905678444892, 0.8999905678444892, 0.9040684349963293, 0.9040684349963293, 0.9040684349963293, 0.9127745220083628, 0.9127745220083628, 0.9127745220083628, 0.9127745220083628, 0.9127745220083628, 0.9127745220083628, 0.9127745220083628, 0.9127745220083628, 0.9127745220083628, 0.9127745220083628, 0.9127745220083628, 0.9127745220083628, 0.9127745220083628, 0.9127745220083628, 0.9146287305691214, 0.9146287305691214, 0.9146287305691214, 0.9170712758147405, 0.9170712758147405, 0.9170712758147405, 0.9170712758147405, 0.9170712758147405]}], \"average_precision_score_weighted\": [{\"categories\": [\"0\", \"1\", \"3\", \"5\", \"7\", \"9\", \"11\", \"14\", \"16\", \"20\", \"21\", \"22\", \"23\", \"24\", \"25\", \"26\", \"27\", \"28\", \"29\", \"30\", \"31\", \"32\", \"33\", \"34\", \"35\", \"36\", \"37\", \"38\"], \"mode\": \"markers\", \"name\": \"average_precision_score_weighted\", \"stepped\": false, \"type\": \"scatter\", \"data\": [0.8946531296618622, 0.9103506263314479, 0.8686025449026692, 0.9129498843093458, 0.9092917598609274, 0.8121871898098256, 0.926233387528713, 0.7408092805672116, 0.789890003910042, 0.8869727690851625, 0.9031207904876488, 0.9067191327623739, 0.8773987384489252, 0.9250461729268438, 0.5796089246385138, 0.9144105350843319, 0.910383794113873, 0.9267789605097999, 0.9094728644876842, 0.9061207028080969, 0.9283631520317419, 0.9150554652325302, 0.9132698377229383, 0.9235239649087628, 0.5617649801443652, 0.9193360342355229, 0.9264205186261432, 0.9300333881088756]}, {\"categories\": [\"0\", \"1\", \"3\", \"5\", \"7\", \"9\", \"11\", \"14\", \"16\", \"20\", \"21\", \"22\", \"23\", \"24\", \"25\", \"26\", \"27\", \"28\", \"29\", \"30\", \"31\", \"32\", \"33\", \"34\", \"35\", \"36\", \"37\", \"38\"], \"mode\": \"lines\", \"name\": \"average_precision_score_weighted_max\", \"stepped\": true, \"type\": \"scatter\", \"data\": [0.8946531296618622, 0.9103506263314479, 0.9103506263314479, 0.9129498843093458, 0.9129498843093458, 0.9129498843093458, 0.926233387528713, 0.926233387528713, 0.926233387528713, 0.926233387528713, 0.926233387528713, 0.926233387528713, 0.926233387528713, 0.926233387528713, 0.926233387528713, 0.926233387528713, 0.926233387528713, 0.9267789605097999, 0.9267789605097999, 0.9267789605097999, 0.9283631520317419, 0.9283631520317419, 0.9283631520317419, 0.9283631520317419, 0.9283631520317419, 0.9283631520317419, 0.9283631520317419, 0.9300333881088756]}], \"norm_macro_recall\": [{\"categories\": [\"0\", \"1\", \"3\", \"5\", \"7\", \"9\", \"11\", \"14\", \"16\", \"20\", \"21\", \"22\", \"23\", \"24\", \"25\", \"26\", \"27\", \"28\", \"29\", \"30\", \"31\", \"32\", \"33\", \"34\", \"35\", \"36\", \"37\", \"38\"], \"mode\": \"markers\", \"name\": \"norm_macro_recall\", \"stepped\": false, \"type\": \"scatter\", \"data\": [0.5520418050941306, 0.6120251937984496, 0.4993203211517165, 0.6091846622369879, 0.4887167774086379, 0.3450179955703212, 0.6412859911406422, 0.25371677740863785, 0.3176107419712071, 0.577109634551495, 0.5941846622369878, 0.6458250276854928, 0.6243715393133996, 0.6453405315614618, 0.0, 0.6361821705426356, 0.5175858250276855, 0.6355717054263565, 0.6481893687707642, 0.6315310077519379, 0.6430703211517165, 0.6157751937984497, 0.6270251937984497, 0.6248809523809523, 0.03410852713178296, 0.6057834994462901, 0.6913095238095238, 0.6805869324473975]}, {\"categories\": [\"0\", \"1\", \"3\", \"5\", \"7\", \"9\", \"11\", \"14\", \"16\", \"20\", \"21\", \"22\", \"23\", \"24\", \"25\", \"26\", \"27\", \"28\", \"29\", \"30\", \"31\", \"32\", \"33\", \"34\", \"35\", \"36\", \"37\", \"38\"], \"mode\": \"lines\", \"name\": \"norm_macro_recall_max\", \"stepped\": true, \"type\": \"scatter\", \"data\": [0.5520418050941306, 0.6120251937984496, 0.6120251937984496, 0.6120251937984496, 0.6120251937984496, 0.6120251937984496, 0.6412859911406422, 0.6412859911406422, 0.6412859911406422, 0.6412859911406422, 0.6412859911406422, 0.6458250276854928, 0.6458250276854928, 0.6458250276854928, 0.6458250276854928, 0.6458250276854928, 0.6458250276854928, 0.6458250276854928, 0.6481893687707642, 0.6481893687707642, 0.6481893687707642, 0.6481893687707642, 0.6481893687707642, 0.6481893687707642, 0.6481893687707642, 0.6481893687707642, 0.6913095238095238, 0.6913095238095238]}], \"average_precision_score_micro\": [{\"categories\": [\"0\", \"1\", \"3\", \"5\", \"7\", \"9\", \"11\", \"14\", \"16\", \"20\", \"21\", \"22\", \"23\", \"24\", \"25\", \"26\", \"27\", \"28\", \"29\", \"30\", \"31\", \"32\", \"33\", \"34\", \"35\", \"36\", \"37\", \"38\"], \"mode\": \"markers\", \"name\": \"average_precision_score_micro\", \"stepped\": false, \"type\": \"scatter\", \"data\": [0.8864636564138039, 0.9018582931163117, 0.8679793446784707, 0.90530885281912, 0.8855269967730542, 0.8078104943305661, 0.9110281075784753, 0.7518926280264624, 0.7950410822884255, 0.8798593368124621, 0.9026682412433846, 0.9024732392525843, 0.8734034594235676, 0.9139911894394628, 0.6293524849181271, 0.907488669159226, 0.9038187773250825, 0.9126500447324963, 0.903539260259793, 0.9018991214633102, 0.9188712125120387, 0.9108129966426699, 0.9090313743396564, 0.9178965632813167, 0.6167362837753048, 0.911236163928501, 0.9203392335251308, 0.9098026498250388]}, {\"categories\": [\"0\", \"1\", \"3\", \"5\", \"7\", \"9\", \"11\", \"14\", \"16\", \"20\", \"21\", \"22\", \"23\", \"24\", \"25\", \"26\", \"27\", \"28\", \"29\", \"30\", \"31\", \"32\", \"33\", \"34\", \"35\", \"36\", \"37\", \"38\"], \"mode\": \"lines\", \"name\": \"average_precision_score_micro_max\", \"stepped\": true, \"type\": \"scatter\", \"data\": [0.8864636564138039, 0.9018582931163117, 0.9018582931163117, 0.90530885281912, 0.90530885281912, 0.90530885281912, 0.9110281075784753, 0.9110281075784753, 0.9110281075784753, 0.9110281075784753, 0.9110281075784753, 0.9110281075784753, 0.9110281075784753, 0.9139911894394628, 0.9139911894394628, 0.9139911894394628, 0.9139911894394628, 0.9139911894394628, 0.9139911894394628, 0.9139911894394628, 0.9188712125120387, 0.9188712125120387, 0.9188712125120387, 0.9188712125120387, 0.9188712125120387, 0.9188712125120387, 0.9203392335251308, 0.9203392335251308]}], \"f1_score_weighted\": [{\"categories\": [\"0\", \"1\", \"3\", \"5\", \"7\", \"9\", \"11\", \"14\", \"16\", \"20\", \"21\", \"22\", \"23\", \"24\", \"25\", \"26\", \"27\", \"28\", \"29\", \"30\", \"31\", \"32\", \"33\", \"34\", \"35\", \"36\", \"37\", \"38\"], \"mode\": \"markers\", \"name\": \"f1_score_weighted\", \"stepped\": false, \"type\": \"scatter\", \"data\": [0.8014398448329555, 0.8237396450256732, 0.8013163078497421, 0.8287875880257454, 0.7920944865522695, 0.7039837729847924, 0.8321128962861308, 0.69531722980639, 0.7299998975946155, 0.8111375615251999, 0.8220989128019113, 0.8468546532849048, 0.8303282374678685, 0.8458946058456286, 0.5526564268547016, 0.8485482290399329, 0.8034875404739996, 0.8266168469574275, 0.8494251078566645, 0.8420553760387307, 0.8474076997990518, 0.82704961499471, 0.8304072582049142, 0.8442284172771769, 0.5588767917204445, 0.8228611072365, 0.8750482606664439, 0.8594171787341784]}, {\"categories\": [\"0\", \"1\", \"3\", \"5\", \"7\", \"9\", \"11\", \"14\", \"16\", \"20\", \"21\", \"22\", \"23\", \"24\", \"25\", \"26\", \"27\", \"28\", \"29\", \"30\", \"31\", \"32\", \"33\", \"34\", \"35\", \"36\", \"37\", \"38\"], \"mode\": \"lines\", \"name\": \"f1_score_weighted_max\", \"stepped\": true, \"type\": \"scatter\", \"data\": [0.8014398448329555, 0.8237396450256732, 0.8237396450256732, 0.8287875880257454, 0.8287875880257454, 0.8287875880257454, 0.8321128962861308, 0.8321128962861308, 0.8321128962861308, 0.8321128962861308, 0.8321128962861308, 0.8468546532849048, 0.8468546532849048, 0.8468546532849048, 0.8468546532849048, 0.8485482290399329, 0.8485482290399329, 0.8485482290399329, 0.8494251078566645, 0.8494251078566645, 0.8494251078566645, 0.8494251078566645, 0.8494251078566645, 0.8494251078566645, 0.8494251078566645, 0.8494251078566645, 0.8750482606664439, 0.8750482606664439]}], \"weighted_accuracy\": [{\"categories\": [\"0\", \"1\", \"3\", \"5\", \"7\", \"9\", \"11\", \"14\", \"16\", \"20\", \"21\", \"22\", \"23\", \"24\", \"25\", \"26\", \"27\", \"28\", \"29\", \"30\", \"31\", \"32\", \"33\", \"34\", \"35\", \"36\", \"37\", \"38\"], \"mode\": \"markers\", \"name\": \"weighted_accuracy\", \"stepped\": false, \"type\": \"scatter\", \"data\": [0.8252063202764133, 0.8406325321291572, 0.8476119416887895, 0.8528826789623214, 0.850116054459957, 0.758158554263149, 0.834559386338354, 0.775809221988251, 0.8205566190741742, 0.8360473402486086, 0.8468826789623213, 0.868479425015755, 0.8482413364311524, 0.8672751029068639, 0.7971865900207855, 0.8763232563535996, 0.849693704989195, 0.8247540766038407, 0.8727097822417809, 0.8677763791704226, 0.874436660603745, 0.8438286357024891, 0.846632532129157, 0.880555467490004, 0.7118990373102556, 0.8423369912823349, 0.9028878829357401, 0.8839331817396834]}, {\"categories\": [\"0\", \"1\", \"3\", \"5\", \"7\", \"9\", \"11\", \"14\", \"16\", \"20\", \"21\", \"22\", \"23\", \"24\", \"25\", \"26\", \"27\", \"28\", \"29\", \"30\", \"31\", \"32\", \"33\", \"34\", \"35\", \"36\", \"37\", \"38\"], \"mode\": \"lines\", \"name\": \"weighted_accuracy_max\", \"stepped\": true, \"type\": \"scatter\", \"data\": [0.8252063202764133, 0.8406325321291572, 0.8476119416887895, 0.8528826789623214, 0.8528826789623214, 0.8528826789623214, 0.8528826789623214, 0.8528826789623214, 0.8528826789623214, 0.8528826789623214, 0.8528826789623214, 0.868479425015755, 0.868479425015755, 0.868479425015755, 0.868479425015755, 0.8763232563535996, 0.8763232563535996, 0.8763232563535996, 0.8763232563535996, 0.8763232563535996, 0.8763232563535996, 0.8763232563535996, 0.8763232563535996, 0.880555467490004, 0.880555467490004, 0.880555467490004, 0.9028878829357401, 0.9028878829357401]}], \"precision_score_weighted\": [{\"categories\": [\"0\", \"1\", \"3\", \"5\", \"7\", \"9\", \"11\", \"14\", \"16\", \"20\", \"21\", \"22\", \"23\", \"24\", \"25\", \"26\", \"27\", \"28\", \"29\", \"30\", \"31\", \"32\", \"33\", \"34\", \"35\", \"36\", \"37\", \"38\"], \"mode\": \"markers\", \"name\": \"precision_score_weighted\", \"stepped\": false, \"type\": \"scatter\", \"data\": [0.8237683758533973, 0.8403871377947292, 0.8181761202643978, 0.8463207545202849, 0.8234143865515587, 0.74103263527504, 0.8471246339174432, 0.7150657287397069, 0.7632419761778855, 0.8407374045536857, 0.8398329903945232, 0.8662021390324638, 0.8516261234276745, 0.8657648380235162, 0.4689005075169971, 0.8680274111450916, 0.824713901184125, 0.8430538905276798, 0.8659379337876022, 0.8625764544429826, 0.8680940917219715, 0.8488934195802287, 0.8465030850347487, 0.8752451751384676, 0.5310231628209175, 0.8457385771659123, 0.8951915898799625, 0.8884538696725878]}, {\"categories\": [\"0\", \"1\", \"3\", \"5\", \"7\", \"9\", \"11\", \"14\", \"16\", \"20\", \"21\", \"22\", \"23\", \"24\", \"25\", \"26\", \"27\", \"28\", \"29\", \"30\", \"31\", \"32\", \"33\", \"34\", \"35\", \"36\", \"37\", \"38\"], \"mode\": \"lines\", \"name\": \"precision_score_weighted_max\", \"stepped\": true, \"type\": \"scatter\", \"data\": [0.8237683758533973, 0.8403871377947292, 0.8403871377947292, 0.8463207545202849, 0.8463207545202849, 0.8463207545202849, 0.8471246339174432, 0.8471246339174432, 0.8471246339174432, 0.8471246339174432, 0.8471246339174432, 0.8662021390324638, 0.8662021390324638, 0.8662021390324638, 0.8662021390324638, 0.8680274111450916, 0.8680274111450916, 0.8680274111450916, 0.8680274111450916, 0.8680274111450916, 0.8680940917219715, 0.8680940917219715, 0.8680940917219715, 0.8752451751384676, 0.8752451751384676, 0.8752451751384676, 0.8951915898799625, 0.8951915898799625]}], \"f1_score_macro\": [{\"categories\": [\"0\", \"1\", \"3\", \"5\", \"7\", \"9\", \"11\", \"14\", \"16\", \"20\", \"21\", \"22\", \"23\", \"24\", \"25\", \"26\", \"27\", \"28\", \"29\", \"30\", \"31\", \"32\", \"33\", \"34\", \"35\", \"36\", \"37\", \"38\"], \"mode\": \"markers\", \"name\": \"f1_score_macro\", \"stepped\": false, \"type\": \"scatter\", \"data\": [0.7682096405971308, 0.7972526241921125, 0.756842469337262, 0.7990328571715297, 0.7519796297895402, 0.6526326210708687, 0.8042621993617967, 0.6249016289301019, 0.6683083102141609, 0.777731957024298, 0.7915028554770009, 0.8205182084176832, 0.8006902995538525, 0.8182009644651901, 0.40276783177038933, 0.8210662553820448, 0.7682046224291921, 0.7986452780169471, 0.8222775808678385, 0.8137141303539153, 0.8213292579822362, 0.796527937332859, 0.8046777313846615, 0.8162048362860232, 0.44707746056363984, 0.792833747204768, 0.8524159580203111, 0.8377008749142572]}, {\"categories\": [\"0\", \"1\", \"3\", \"5\", \"7\", \"9\", \"11\", \"14\", \"16\", \"20\", \"21\", \"22\", \"23\", \"24\", \"25\", \"26\", \"27\", \"28\", \"29\", \"30\", \"31\", \"32\", \"33\", \"34\", \"35\", \"36\", \"37\", \"38\"], \"mode\": \"lines\", \"name\": \"f1_score_macro_max\", \"stepped\": true, \"type\": \"scatter\", \"data\": [0.7682096405971308, 0.7972526241921125, 0.7972526241921125, 0.7990328571715297, 0.7990328571715297, 0.7990328571715297, 0.8042621993617967, 0.8042621993617967, 0.8042621993617967, 0.8042621993617967, 0.8042621993617967, 0.8205182084176832, 0.8205182084176832, 0.8205182084176832, 0.8205182084176832, 0.8210662553820448, 0.8210662553820448, 0.8210662553820448, 0.8222775808678385, 0.8222775808678385, 0.8222775808678385, 0.8222775808678385, 0.8222775808678385, 0.8222775808678385, 0.8222775808678385, 0.8222775808678385, 0.8524159580203111, 0.8524159580203111]}], \"AUC_weighted\": [{\"categories\": [\"0\", \"1\", \"3\", \"5\", \"7\", \"9\", \"11\", \"14\", \"16\", \"20\", \"21\", \"22\", \"23\", \"24\", \"25\", \"26\", \"27\", \"28\", \"29\", \"30\", \"31\", \"32\", \"33\", \"34\", \"35\", \"36\", \"37\", \"38\"], \"mode\": \"markers\", \"name\": \"AUC_weighted\", \"stepped\": false, \"type\": \"scatter\", \"data\": [0.8795110280546327, 0.8929591177556293, 0.8563218207825767, 0.9021319098375784, 0.8961337440014766, 0.7929756367663343, 0.9154851882613511, 0.7151022863602805, 0.7557314737910668, 0.8677544296788483, 0.8999937476928755, 0.8963399317091177, 0.8681729766519011, 0.9112822535991141, 0.5, 0.9069619093761536, 0.9000104166666667, 0.912250945921004, 0.8984260566629751, 0.8955501799557032, 0.9157692875599853, 0.902032553525286, 0.9008510289774826, 0.9095923080472499, 0.4541471945367294, 0.9085357834994463, 0.9159878875968992, 0.9201238464377999]}, {\"categories\": [\"0\", \"1\", \"3\", \"5\", \"7\", \"9\", \"11\", \"14\", \"16\", \"20\", \"21\", \"22\", \"23\", \"24\", \"25\", \"26\", \"27\", \"28\", \"29\", \"30\", \"31\", \"32\", \"33\", \"34\", \"35\", \"36\", \"37\", \"38\"], \"mode\": \"lines\", \"name\": \"AUC_weighted_max\", \"stepped\": true, \"type\": \"scatter\", \"data\": [0.8795110280546327, 0.8929591177556293, 0.8929591177556293, 0.9021319098375784, 0.9021319098375784, 0.9021319098375784, 0.9154851882613511, 0.9154851882613511, 0.9154851882613511, 0.9154851882613511, 0.9154851882613511, 0.9154851882613511, 0.9154851882613511, 0.9154851882613511, 0.9154851882613511, 0.9154851882613511, 0.9154851882613511, 0.9154851882613511, 0.9154851882613511, 0.9154851882613511, 0.9157692875599853, 0.9157692875599853, 0.9157692875599853, 0.9157692875599853, 0.9157692875599853, 0.9157692875599853, 0.9159878875968992, 0.9201238464377999]}], \"average_precision_score_macro\": [{\"categories\": [\"0\", \"1\", \"3\", \"5\", \"7\", \"9\", \"11\", \"14\", \"16\", \"20\", \"21\", \"22\", \"23\", \"24\", \"25\", \"26\", \"27\", \"28\", \"29\", \"30\", \"31\", \"32\", \"33\", \"34\", \"35\", \"36\", \"37\", \"38\"], \"mode\": \"markers\", \"name\": \"average_precision_score_macro\", \"stepped\": false, \"type\": \"scatter\", \"data\": [0.8646970318245011, 0.8826936933050062, 0.8375064334146428, 0.8886798595337879, 0.8844913381498927, 0.7602030018751205, 0.9075244849508535, 0.6774235697590012, 0.7483216427396969, 0.8517807213547188, 0.8743919902746728, 0.8790602914857895, 0.8488465969337007, 0.902313510437267, 0.5, 0.885568465798813, 0.8804368474262791, 0.9050856814831085, 0.8828786174656502, 0.8800212551718758, 0.906914436975321, 0.8858883798155672, 0.8876133653383276, 0.9027809802498808, 0.48750967446756216, 0.8922435295008764, 0.9023094951662675, 0.9054469804355817]}, {\"categories\": [\"0\", \"1\", \"3\", \"5\", \"7\", \"9\", \"11\", \"14\", \"16\", \"20\", \"21\", \"22\", \"23\", \"24\", \"25\", \"26\", \"27\", \"28\", \"29\", \"30\", \"31\", \"32\", \"33\", \"34\", \"35\", \"36\", \"37\", \"38\"], \"mode\": \"lines\", \"name\": \"average_precision_score_macro_max\", \"stepped\": true, \"type\": \"scatter\", \"data\": [0.8646970318245011, 0.8826936933050062, 0.8826936933050062, 0.8886798595337879, 0.8886798595337879, 0.8886798595337879, 0.9075244849508535, 0.9075244849508535, 0.9075244849508535, 0.9075244849508535, 0.9075244849508535, 0.9075244849508535, 0.9075244849508535, 0.9075244849508535, 0.9075244849508535, 0.9075244849508535, 0.9075244849508535, 0.9075244849508535, 0.9075244849508535, 0.9075244849508535, 0.9075244849508535, 0.9075244849508535, 0.9075244849508535, 0.9075244849508535, 0.9075244849508535, 0.9075244849508535, 0.9075244849508535, 0.9075244849508535]}], \"recall_score_macro\": [{\"categories\": [\"0\", \"1\", \"3\", \"5\", \"7\", \"9\", \"11\", \"14\", \"16\", \"20\", \"21\", \"22\", \"23\", \"24\", \"25\", \"26\", \"27\", \"28\", \"29\", \"30\", \"31\", \"32\", \"33\", \"34\", \"35\", \"36\", \"37\", \"38\"], \"mode\": \"markers\", \"name\": \"recall_score_macro\", \"stepped\": false, \"type\": \"scatter\", \"data\": [0.7760209025470652, 0.8060125968992248, 0.7496601605758583, 0.8045923311184939, 0.7443583887043189, 0.6725089977851605, 0.820642995570321, 0.6268583887043189, 0.6588053709856035, 0.7885548172757475, 0.7970923311184939, 0.8229125138427464, 0.8121857696566999, 0.8226702657807309, 0.5, 0.8180910852713179, 0.7587929125138426, 0.8177858527131783, 0.824094684385382, 0.815765503875969, 0.8215351605758583, 0.8078875968992248, 0.8135125968992248, 0.8124404761904762, 0.4879471207087486, 0.802891749723145, 0.8456547619047619, 0.8402934662236987]}, {\"categories\": [\"0\", \"1\", \"3\", \"5\", \"7\", \"9\", \"11\", \"14\", \"16\", \"20\", \"21\", \"22\", \"23\", \"24\", \"25\", \"26\", \"27\", \"28\", \"29\", \"30\", \"31\", \"32\", \"33\", \"34\", \"35\", \"36\", \"37\", \"38\"], \"mode\": \"lines\", \"name\": \"recall_score_macro_max\", \"stepped\": true, \"type\": \"scatter\", \"data\": [0.7760209025470652, 0.8060125968992248, 0.8060125968992248, 0.8060125968992248, 0.8060125968992248, 0.8060125968992248, 0.820642995570321, 0.820642995570321, 0.820642995570321, 0.820642995570321, 0.820642995570321, 0.8229125138427464, 0.8229125138427464, 0.8229125138427464, 0.8229125138427464, 0.8229125138427464, 0.8229125138427464, 0.8229125138427464, 0.824094684385382, 0.824094684385382, 0.824094684385382, 0.824094684385382, 0.824094684385382, 0.824094684385382, 0.824094684385382, 0.824094684385382, 0.8456547619047619, 0.8456547619047619]}], \"matthews_correlation\": [{\"categories\": [\"0\", \"1\", \"3\", \"5\", \"7\", \"9\", \"11\", \"14\", \"16\", \"20\", \"21\", \"22\", \"23\", \"24\", \"25\", \"26\", \"27\", \"28\", \"29\", \"30\", \"31\", \"32\", \"33\", \"34\", \"35\", \"36\", \"37\", \"38\"], \"mode\": \"markers\", \"name\": \"matthews_correlation\", \"stepped\": false, \"type\": \"scatter\", \"data\": [0.5628617041183437, 0.6132552509330647, 0.5388869732015602, 0.619433279846955, 0.5502177222410153, 0.35965369191795726, 0.621855938341777, 0.29166248384656, 0.40272483788096824, 0.5903431657959342, 0.6046242692468607, 0.6637962999066619, 0.6263486656994516, 0.6605569306757109, 0.0, 0.6658801082084562, 0.5668623398756886, 0.6112356445224406, 0.6644126416295676, 0.6523948885425641, 0.6679838786258736, 0.6169480554973531, 0.6274882725297932, 0.6731877014316564, -0.05375029788089551, 0.6111050583482184, 0.7305494460714266, 0.7101432233117676]}, {\"categories\": [\"0\", \"1\", \"3\", \"5\", \"7\", \"9\", \"11\", \"14\", \"16\", \"20\", \"21\", \"22\", \"23\", \"24\", \"25\", \"26\", \"27\", \"28\", \"29\", \"30\", \"31\", \"32\", \"33\", \"34\", \"35\", \"36\", \"37\", \"38\"], \"mode\": \"lines\", \"name\": \"matthews_correlation_max\", \"stepped\": true, \"type\": \"scatter\", \"data\": [0.5628617041183437, 0.6132552509330647, 0.6132552509330647, 0.619433279846955, 0.619433279846955, 0.619433279846955, 0.621855938341777, 0.621855938341777, 0.621855938341777, 0.621855938341777, 0.621855938341777, 0.6637962999066619, 0.6637962999066619, 0.6637962999066619, 0.6637962999066619, 0.6658801082084562, 0.6658801082084562, 0.6658801082084562, 0.6658801082084562, 0.6658801082084562, 0.6679838786258736, 0.6679838786258736, 0.6679838786258736, 0.6731877014316564, 0.6731877014316564, 0.6731877014316564, 0.7305494460714266, 0.7305494460714266]}], \"f1_score_micro\": [{\"categories\": [\"0\", \"1\", \"3\", \"5\", \"7\", \"9\", \"11\", \"14\", \"16\", \"20\", \"21\", \"22\", \"23\", \"24\", \"25\", \"26\", \"27\", \"28\", \"29\", \"30\", \"31\", \"32\", \"33\", \"34\", \"35\", \"36\", \"37\", \"38\"], \"mode\": \"markers\", \"name\": \"f1_score_micro\", \"stepped\": false, \"type\": \"scatter\", \"data\": [0.8059887005649718, 0.8259322033898304, 0.8094350282485875, 0.8327118644067797, 0.8060451977401131, 0.7223728813559323, 0.8291525423728814, 0.7157627118644068, 0.7559887005649718, 0.8160451977401131, 0.8260451977401131, 0.8496610169491525, 0.8327118644067797, 0.8494915254237287, 0.67909604519774, 0.8529943502824858, 0.8127118644067798, 0.8224858757062148, 0.8528248587570622, 0.8462146892655367, 0.8528248587570622, 0.8292090395480226, 0.8325988700564972, 0.8528813559322034, 0.6222598870056497, 0.8259887005649718, 0.8796610169491526, 0.8663276836158191]}, {\"categories\": [\"0\", \"1\", \"3\", \"5\", \"7\", \"9\", \"11\", \"14\", \"16\", \"20\", \"21\", \"22\", \"23\", \"24\", \"25\", \"26\", \"27\", \"28\", \"29\", \"30\", \"31\", \"32\", \"33\", \"34\", \"35\", \"36\", \"37\", \"38\"], \"mode\": \"lines\", \"name\": \"f1_score_micro_max\", \"stepped\": true, \"type\": \"scatter\", \"data\": [0.8059887005649718, 0.8259322033898304, 0.8259322033898304, 0.8327118644067797, 0.8327118644067797, 0.8327118644067797, 0.8327118644067797, 0.8327118644067797, 0.8327118644067797, 0.8327118644067797, 0.8327118644067797, 0.8496610169491525, 0.8496610169491525, 0.8496610169491525, 0.8496610169491525, 0.8529943502824858, 0.8529943502824858, 0.8529943502824858, 0.8529943502824858, 0.8529943502824858, 0.8529943502824858, 0.8529943502824858, 0.8529943502824858, 0.8529943502824858, 0.8529943502824858, 0.8529943502824858, 0.8796610169491526, 0.8796610169491526]}], \"recall_score_micro\": [{\"categories\": [\"0\", \"1\", \"3\", \"5\", \"7\", \"9\", \"11\", \"14\", \"16\", \"20\", \"21\", \"22\", \"23\", \"24\", \"25\", \"26\", \"27\", \"28\", \"29\", \"30\", \"31\", \"32\", \"33\", \"34\", \"35\", \"36\", \"37\", \"38\"], \"mode\": \"markers\", \"name\": \"recall_score_micro\", \"stepped\": false, \"type\": \"scatter\", \"data\": [0.8059887005649717, 0.8259322033898304, 0.8094350282485875, 0.8327118644067797, 0.806045197740113, 0.7223728813559323, 0.8291525423728814, 0.7157627118644068, 0.7559887005649718, 0.8160451977401131, 0.8260451977401131, 0.8496610169491525, 0.8327118644067797, 0.8494915254237287, 0.67909604519774, 0.8529943502824858, 0.8127118644067796, 0.8224858757062146, 0.8528248587570622, 0.8462146892655367, 0.8528248587570622, 0.8292090395480226, 0.8325988700564972, 0.8528813559322034, 0.6222598870056497, 0.8259887005649718, 0.8796610169491526, 0.8663276836158191]}, {\"categories\": [\"0\", \"1\", \"3\", \"5\", \"7\", \"9\", \"11\", \"14\", \"16\", \"20\", \"21\", \"22\", \"23\", \"24\", \"25\", \"26\", \"27\", \"28\", \"29\", \"30\", \"31\", \"32\", \"33\", \"34\", \"35\", \"36\", \"37\", \"38\"], \"mode\": \"lines\", \"name\": \"recall_score_micro_max\", \"stepped\": true, \"type\": \"scatter\", \"data\": [0.8059887005649717, 0.8259322033898304, 0.8259322033898304, 0.8327118644067797, 0.8327118644067797, 0.8327118644067797, 0.8327118644067797, 0.8327118644067797, 0.8327118644067797, 0.8327118644067797, 0.8327118644067797, 0.8496610169491525, 0.8496610169491525, 0.8496610169491525, 0.8496610169491525, 0.8529943502824858, 0.8529943502824858, 0.8529943502824858, 0.8529943502824858, 0.8529943502824858, 0.8529943502824858, 0.8529943502824858, 0.8529943502824858, 0.8529943502824858, 0.8529943502824858, 0.8529943502824858, 0.8796610169491526, 0.8796610169491526]}], \"log_loss\": [{\"categories\": [\"0\", \"1\", \"3\", \"5\", \"7\", \"9\", \"11\", \"14\", \"16\", \"20\", \"21\", \"22\", \"23\", \"24\", \"25\", \"26\", \"27\", \"28\", \"29\", \"30\", \"31\", \"32\", \"33\", \"34\", \"35\", \"36\", \"37\", \"38\"], \"mode\": \"markers\", \"name\": \"log_loss\", \"stepped\": false, \"type\": \"scatter\", \"data\": [0.533693450972333, 0.43217688170419066, 0.5094561114925826, 0.40356931914765576, 0.4813318129333462, 0.538052366070011, 0.45998670716660695, 2.6025465153725778, 0.9718580829654838, 0.44784099867607213, 0.4660430134933665, 0.3911981762917214, 0.45958558284597506, 0.39052067353007935, 0.6429967349046205, 0.39526640614176856, 0.4990435530165323, 0.44351276751298513, 0.40039698505237664, 0.4206861426387455, 0.3817383472541626, 0.4041553857402489, 0.3876648208501301, 0.38315430477799595, 0.7203556970728233, 0.3851716237350845, 0.3651330557080486, 0.38694156969311877]}, {\"categories\": [\"0\", \"1\", \"3\", \"5\", \"7\", \"9\", \"11\", \"14\", \"16\", \"20\", \"21\", \"22\", \"23\", \"24\", \"25\", \"26\", \"27\", \"28\", \"29\", \"30\", \"31\", \"32\", \"33\", \"34\", \"35\", \"36\", \"37\", \"38\"], \"mode\": \"lines\", \"name\": \"log_loss_min\", \"stepped\": true, \"type\": \"scatter\", \"data\": [0.533693450972333, 0.43217688170419066, 0.43217688170419066, 0.40356931914765576, 0.40356931914765576, 0.40356931914765576, 0.40356931914765576, 0.40356931914765576, 0.40356931914765576, 0.40356931914765576, 0.40356931914765576, 0.3911981762917214, 0.3911981762917214, 0.39052067353007935, 0.39052067353007935, 0.39052067353007935, 0.39052067353007935, 0.39052067353007935, 0.39052067353007935, 0.39052067353007935, 0.3817383472541626, 0.3817383472541626, 0.3817383472541626, 0.3817383472541626, 0.3817383472541626, 0.3817383472541626, 0.3651330557080486, 0.3651330557080486]}], \"AUC_macro\": [{\"categories\": [\"0\", \"1\", \"3\", \"5\", \"7\", \"9\", \"11\", \"14\", \"16\", \"20\", \"21\", \"22\", \"23\", \"24\", \"25\", \"26\", \"27\", \"28\", \"29\", \"30\", \"31\", \"32\", \"33\", \"34\", \"35\", \"36\", \"37\", \"38\"], \"mode\": \"markers\", \"name\": \"AUC_macro\", \"stepped\": false, \"type\": \"scatter\", \"data\": [0.8795110280546327, 0.8929591177556295, 0.8563218207825767, 0.9021319098375784, 0.8961337440014766, 0.7929756367663344, 0.9154851882613511, 0.7151022863602805, 0.7557314737910668, 0.8677544296788483, 0.8999937476928757, 0.8963399317091177, 0.8681729766519011, 0.9112822535991141, 0.5, 0.9069619093761536, 0.9000104166666667, 0.912250945921004, 0.8984260566629751, 0.8955501799557032, 0.9157692875599851, 0.902032553525286, 0.9008510289774826, 0.9095923080472499, 0.4541471945367294, 0.9085357834994463, 0.9159878875968992, 0.9201238464377999]}, {\"categories\": [\"0\", \"1\", \"3\", \"5\", \"7\", \"9\", \"11\", \"14\", \"16\", \"20\", \"21\", \"22\", \"23\", \"24\", \"25\", \"26\", \"27\", \"28\", \"29\", \"30\", \"31\", \"32\", \"33\", \"34\", \"35\", \"36\", \"37\", \"38\"], \"mode\": \"lines\", \"name\": \"AUC_macro_max\", \"stepped\": true, \"type\": \"scatter\", \"data\": [0.8795110280546327, 0.8929591177556295, 0.8929591177556295, 0.9021319098375784, 0.9021319098375784, 0.9021319098375784, 0.9154851882613511, 0.9154851882613511, 0.9154851882613511, 0.9154851882613511, 0.9154851882613511, 0.9154851882613511, 0.9154851882613511, 0.9154851882613511, 0.9154851882613511, 0.9154851882613511, 0.9154851882613511, 0.9154851882613511, 0.9154851882613511, 0.9154851882613511, 0.9157692875599851, 0.9157692875599851, 0.9157692875599851, 0.9157692875599851, 0.9157692875599851, 0.9157692875599851, 0.9159878875968992, 0.9201238464377999]}]}, \"metricName\": null, \"primaryMetricName\": \"accuracy\", \"showLegend\": false}, \"run_metrics\": [{\"name\": \"experiment_status\", \"run_id\": \"AutoML_4509fb7a-c157-48a0-89c0-ec65e78ffa75\", \"categories\": [0, 1, 2, 3, 4, 5, 6, 7, 8, 9, 10, 11, 12, 13], \"series\": [{\"data\": [\"DatasetEvaluation\", \"FeaturesGeneration\", \"DatasetFeaturization\", \"DatasetFeaturizationCompleted\", \"DatasetCrossValidationSplit\", \"ModelSelection\", \"BestRunExplainModel\", \"ModelExplanationDataSetSetup\", \"PickSurrogateModel\", \"EngineeredFeatureExplanations\", \"EngineeredFeatureExplanations\", \"RawFeaturesExplanations\", \"RawFeaturesExplanations\", \"BestRunExplainModel\"]}]}, {\"name\": \"experiment_status_description\", \"run_id\": \"AutoML_4509fb7a-c157-48a0-89c0-ec65e78ffa75\", \"categories\": [0, 1, 2, 3, 4, 5, 6, 7, 8, 9, 10, 11, 12, 13], \"series\": [{\"data\": [\"Gathering dataset statistics.\", \"Generating features for the dataset.\", \"Beginning to fit featurizers and featurize the dataset.\", \"Completed fit featurizers and featurizing the dataset.\", \"Generating individually featurized CV splits.\", \"Beginning model selection.\", \"Best run model explanations started\", \"Model explanations data setup completed\", \"Choosing LightGBM as the surrogate model for explanations\", \"Computation of engineered features started\", \"Computation of engineered features completed\", \"Computation of raw features started\", \"Computation of raw features completed\", \"Best run model explanations completed\"]}]}, {\"name\": \"average_precision_score_micro\", \"run_id\": \"AutoML_4509fb7a-c157-48a0-89c0-ec65e78ffa75\", \"categories\": [0], \"series\": [{\"data\": [0.9203392335251308]}]}, {\"name\": \"balanced_accuracy\", \"run_id\": \"AutoML_4509fb7a-c157-48a0-89c0-ec65e78ffa75\", \"categories\": [0], \"series\": [{\"data\": [0.8456547619047619]}]}, {\"name\": \"recall_score_micro\", \"run_id\": \"AutoML_4509fb7a-c157-48a0-89c0-ec65e78ffa75\", \"categories\": [0], \"series\": [{\"data\": [0.8796610169491526]}]}, {\"name\": \"weighted_accuracy\", \"run_id\": \"AutoML_4509fb7a-c157-48a0-89c0-ec65e78ffa75\", \"categories\": [0], \"series\": [{\"data\": [0.9028878829357401]}]}, {\"name\": \"recall_score_macro\", \"run_id\": \"AutoML_4509fb7a-c157-48a0-89c0-ec65e78ffa75\", \"categories\": [0], \"series\": [{\"data\": [0.8456547619047619]}]}, {\"name\": \"accuracy\", \"run_id\": \"AutoML_4509fb7a-c157-48a0-89c0-ec65e78ffa75\", \"categories\": [0], \"series\": [{\"data\": [0.8796610169491526]}]}, {\"name\": \"AUC_weighted\", \"run_id\": \"AutoML_4509fb7a-c157-48a0-89c0-ec65e78ffa75\", \"categories\": [0], \"series\": [{\"data\": [0.9159878875968992]}]}, {\"name\": \"AUC_micro\", \"run_id\": \"AutoML_4509fb7a-c157-48a0-89c0-ec65e78ffa75\", \"categories\": [0], \"series\": [{\"data\": [0.916993392703246]}]}, {\"name\": \"average_precision_score_macro\", \"run_id\": \"AutoML_4509fb7a-c157-48a0-89c0-ec65e78ffa75\", \"categories\": [0], \"series\": [{\"data\": [0.9023094951662675]}]}, {\"name\": \"f1_score_micro\", \"run_id\": \"AutoML_4509fb7a-c157-48a0-89c0-ec65e78ffa75\", \"categories\": [0], \"series\": [{\"data\": [0.8796610169491526]}]}, {\"name\": \"precision_score_macro\", \"run_id\": \"AutoML_4509fb7a-c157-48a0-89c0-ec65e78ffa75\", \"categories\": [0], \"series\": [{\"data\": [0.8883990502911475]}]}, {\"name\": \"log_loss\", \"run_id\": \"AutoML_4509fb7a-c157-48a0-89c0-ec65e78ffa75\", \"categories\": [0], \"series\": [{\"data\": [0.3651330557080486]}]}, {\"name\": \"f1_score_weighted\", \"run_id\": \"AutoML_4509fb7a-c157-48a0-89c0-ec65e78ffa75\", \"categories\": [0], \"series\": [{\"data\": [0.8750482606664439]}]}, {\"name\": \"AUC_macro\", \"run_id\": \"AutoML_4509fb7a-c157-48a0-89c0-ec65e78ffa75\", \"categories\": [0], \"series\": [{\"data\": [0.9159878875968992]}]}, {\"name\": \"precision_score_weighted\", \"run_id\": \"AutoML_4509fb7a-c157-48a0-89c0-ec65e78ffa75\", \"categories\": [0], \"series\": [{\"data\": [0.8951915898799625]}]}, {\"name\": \"matthews_correlation\", \"run_id\": \"AutoML_4509fb7a-c157-48a0-89c0-ec65e78ffa75\", \"categories\": [0], \"series\": [{\"data\": [0.7305494460714266]}]}, {\"name\": \"recall_score_weighted\", \"run_id\": \"AutoML_4509fb7a-c157-48a0-89c0-ec65e78ffa75\", \"categories\": [0], \"series\": [{\"data\": [0.8796610169491526]}]}, {\"name\": \"norm_macro_recall\", \"run_id\": \"AutoML_4509fb7a-c157-48a0-89c0-ec65e78ffa75\", \"categories\": [0], \"series\": [{\"data\": [0.6913095238095238]}]}, {\"name\": \"average_precision_score_weighted\", \"run_id\": \"AutoML_4509fb7a-c157-48a0-89c0-ec65e78ffa75\", \"categories\": [0], \"series\": [{\"data\": [0.9264205186261432]}]}, {\"name\": \"precision_score_micro\", \"run_id\": \"AutoML_4509fb7a-c157-48a0-89c0-ec65e78ffa75\", \"categories\": [0], \"series\": [{\"data\": [0.8796610169491526]}]}, {\"name\": \"f1_score_macro\", \"run_id\": \"AutoML_4509fb7a-c157-48a0-89c0-ec65e78ffa75\", \"categories\": [0], \"series\": [{\"data\": [0.8524159580203111]}]}], \"run_logs\": \"\\nRun is completed.\", \"graph\": {}, \"widget_settings\": {\"childWidgetDisplay\": \"popup\", \"send_telemetry\": false, \"log_level\": \"INFO\", \"sdk_version\": \"1.38.0\"}, \"loading\": false}"
          },
          "metadata": {}
        },
        {
          "output_type": "execute_result",
          "execution_count": 17,
          "data": {
            "text/plain": "{'runId': 'AutoML_4509fb7a-c157-48a0-89c0-ec65e78ffa75',\n 'target': 'automl',\n 'status': 'Completed',\n 'startTimeUtc': '2022-02-21T18:06:22.52811Z',\n 'endTimeUtc': '2022-02-21T18:26:07.942786Z',\n 'services': {},\n 'warnings': [{'source': 'JasmineService',\n   'message': 'No scores improved over last 20 iterations, so experiment stopped early. This early stopping behavior can be disabled by setting enable_early_stopping = False in AutoMLConfig for notebook/python SDK runs.'}],\n 'properties': {'num_iterations': '1000',\n  'training_type': 'TrainFull',\n  'acquisition_function': 'EI',\n  'primary_metric': 'accuracy',\n  'train_split': '0',\n  'acquisition_parameter': '0',\n  'num_cross_validation': '5',\n  'target': 'automl',\n  'AMLSettingsJsonString': '{\"path\":null,\"name\":\"heartcheck\",\"subscription_id\":\"9b72f9e6-56c5-4c16-991b-19c652994860\",\"resource_group\":\"aml-quickstarts-187219\",\"workspace_name\":\"quick-starts-ws-187219\",\"region\":\"southcentralus\",\"compute_target\":\"automl\",\"spark_service\":null,\"azure_service\":\"remote\",\"many_models\":false,\"pipeline_fetch_max_batch_size\":1,\"enable_batch_run\":true,\"enable_run_restructure\":false,\"start_auxiliary_runs_before_parent_complete\":false,\"enable_code_generation\":false,\"iterations\":1000,\"primary_metric\":\"accuracy\",\"task_type\":\"classification\",\"positive_label\":null,\"data_script\":null,\"test_size\":0.0,\"test_include_predictions_only\":false,\"validation_size\":0.0,\"n_cross_validations\":5,\"y_min\":null,\"y_max\":null,\"num_classes\":null,\"featurization\":\"auto\",\"_ignore_package_version_incompatibilities\":false,\"is_timeseries\":false,\"max_cores_per_iteration\":1,\"max_concurrent_iterations\":1,\"iteration_timeout_minutes\":null,\"mem_in_mb\":null,\"enforce_time_on_windows\":false,\"experiment_timeout_minutes\":30,\"experiment_exit_score\":null,\"whitelist_models\":null,\"blacklist_algos\":[\"TensorFlowLinearClassifier\",\"TensorFlowDNN\"],\"supported_models\":[\"LogisticRegression\",\"BernoulliNaiveBayes\",\"SVM\",\"TensorFlowDNN\",\"RandomForest\",\"KNN\",\"GradientBoosting\",\"AveragedPerceptronClassifier\",\"LightGBM\",\"TensorFlowLinearClassifier\",\"ExtremeRandomTrees\",\"MultinomialNaiveBayes\",\"XGBoostClassifier\",\"DecisionTree\",\"LinearSVM\",\"SGD\",\"TabnetClassifier\"],\"private_models\":[],\"auto_blacklist\":true,\"blacklist_samples_reached\":false,\"exclude_nan_labels\":true,\"verbosity\":20,\"_debug_log\":\"azureml_automl.log\",\"show_warnings\":false,\"model_explainability\":true,\"service_url\":null,\"sdk_url\":null,\"sdk_packages\":null,\"enable_onnx_compatible_models\":false,\"enable_split_onnx_featurizer_estimator_models\":false,\"vm_type\":\"STANDARD_DS3_V2\",\"telemetry_verbosity\":20,\"send_telemetry\":true,\"enable_dnn\":false,\"scenario\":\"SDK-1.13.0\",\"environment_label\":null,\"save_mlflow\":false,\"enable_categorical_indicators\":false,\"force_text_dnn\":false,\"enable_feature_sweeping\":true,\"enable_early_stopping\":true,\"early_stopping_n_iters\":10,\"arguments\":null,\"dataset_id\":null,\"hyperdrive_config\":null,\"validation_dataset_id\":null,\"run_source\":null,\"metrics\":null,\"enable_metric_confidence\":false,\"enable_ensembling\":true,\"enable_stack_ensembling\":true,\"ensemble_iterations\":15,\"enable_tf\":false,\"enable_subsampling\":null,\"subsample_seed\":null,\"enable_nimbusml\":false,\"enable_streaming\":false,\"force_streaming\":false,\"track_child_runs\":true,\"allowed_private_models\":[],\"label_column_name\":\"DEATH_EVENT\",\"weight_column_name\":null,\"cv_split_column_names\":null,\"enable_local_managed\":false,\"_local_managed_run_id\":null,\"cost_mode\":1,\"lag_length\":0,\"metric_operation\":\"maximize\",\"preprocess\":true}',\n  'DataPrepJsonString': '{\\\\\"training_data\\\\\": {\\\\\"datasetId\\\\\": \\\\\"bd1e0474-92e0-413a-a9de-9b3c7e10d8f8\\\\\"}, \\\\\"datasets\\\\\": 0}',\n  'EnableSubsampling': None,\n  'runTemplate': 'AutoML',\n  'azureml.runsource': 'automl',\n  'display_task_type': 'classification',\n  'dependencies_versions': '{\"azureml-widgets\": \"1.38.0\", \"azureml-train\": \"1.38.0\", \"azureml-train-restclients-hyperdrive\": \"1.38.0\", \"azureml-train-core\": \"1.38.0\", \"azureml-train-automl-client\": \"1.38.0\", \"azureml-tensorboard\": \"1.38.0\", \"azureml-telemetry\": \"1.38.0\", \"azureml-sdk\": \"1.38.0\", \"azureml-samples\": \"0+unknown\", \"azureml-responsibleai\": \"1.38.0\", \"azureml-pipeline\": \"1.38.0\", \"azureml-pipeline-steps\": \"1.38.0\", \"azureml-pipeline-core\": \"1.38.0\", \"azureml-opendatasets\": \"1.38.0\", \"azureml-mlflow\": \"1.38.0\", \"azureml-interpret\": \"1.38.0\", \"azureml-inference-server-http\": \"0.4.2\", \"azureml-explain-model\": \"1.38.0\", \"azureml-defaults\": \"1.38.0\", \"azureml-dataset-runtime\": \"1.38.0\", \"azureml-dataprep\": \"2.26.0\", \"azureml-dataprep-rslex\": \"2.2.0\", \"azureml-dataprep-native\": \"38.0.0\", \"azureml-datadrift\": \"1.38.0\", \"azureml-core\": \"1.38.0\", \"azureml-contrib-services\": \"1.38.0\", \"azureml-contrib-server\": \"1.38.0\", \"azureml-contrib-reinforcementlearning\": \"1.38.0\", \"azureml-contrib-pipeline-steps\": \"1.38.0\", \"azureml-contrib-notebook\": \"1.38.0\", \"azureml-contrib-fairness\": \"1.38.0\", \"azureml-contrib-dataset\": \"1.38.0\", \"azureml-cli-common\": \"1.38.0\", \"azureml-automl-core\": \"1.38.0\", \"azureml-accel-models\": \"1.38.0\"}',\n  '_aml_system_scenario_identification': 'Remote.Parent',\n  'ClientType': 'SDK',\n  'environment_cpu_name': 'AzureML-AutoML',\n  'environment_cpu_label': 'py36',\n  'environment_gpu_name': 'AzureML-AutoML-GPU',\n  'environment_gpu_label': 'py36',\n  'root_attribution': 'automl',\n  'attribution': 'AutoML',\n  'Orchestrator': 'AutoML',\n  'CancelUri': 'https://southcentralus.api.azureml.ms/jasmine/v1.0/subscriptions/9b72f9e6-56c5-4c16-991b-19c652994860/resourceGroups/aml-quickstarts-187219/providers/Microsoft.MachineLearningServices/workspaces/quick-starts-ws-187219/experimentids/5629dcb8-9327-4c8f-9039-45b847e53888/cancel/AutoML_4509fb7a-c157-48a0-89c0-ec65e78ffa75',\n  'ClientSdkVersion': '1.38.0',\n  'snapshotId': '00000000-0000-0000-0000-000000000000',\n  'SetupRunId': 'AutoML_4509fb7a-c157-48a0-89c0-ec65e78ffa75_setup',\n  'SetupRunContainerId': 'dcid.AutoML_4509fb7a-c157-48a0-89c0-ec65e78ffa75_setup',\n  'FeaturizationRunJsonPath': 'featurizer_container.json',\n  'FeaturizationRunId': 'AutoML_4509fb7a-c157-48a0-89c0-ec65e78ffa75_featurize',\n  'ProblemInfoJsonString': '{\"dataset_num_categorical\": 0, \"is_sparse\": false, \"subsampling\": false, \"has_extra_col\": true, \"dataset_classes\": 2, \"dataset_features\": 12, \"dataset_samples\": 299, \"single_frequency_class_detected\": false}',\n  'ModelExplainRunId': 'AutoML_4509fb7a-c157-48a0-89c0-ec65e78ffa75_ModelExplain'},\n 'inputDatasets': [{'dataset': {'id': 'bd1e0474-92e0-413a-a9de-9b3c7e10d8f8'}, 'consumptionDetails': {'type': 'RunInput', 'inputName': 'training_data', 'mechanism': 'Direct'}}],\n 'outputDatasets': [],\n 'logFiles': {},\n 'submittedBy': 'ODL_User 187219'}"
          },
          "metadata": {}
        }
      ],
      "execution_count": 17,
      "metadata": {
        "gather": {
          "logged": 1645467971232
        },
        "jupyter": {
          "outputs_hidden": false,
          "source_hidden": false
        },
        "nteract": {
          "transient": {
            "deleting": false
          }
        }
      }
    },
    {
      "cell_type": "markdown",
      "source": [
        "## Best Model\n",
        "\n",
        "TODO: In the cell below, get the best model from the automl experiments and display all the properties of the model.\n",
        "\n"
      ],
      "metadata": {}
    },
    {
      "cell_type": "code",
      "source": [
        "\r\n",
        "best_model, fitted_model=remote_run.get_output()\r\n",
        "print(best_model)\r\n",
        "print(fitted_model)\r\n",
        "best_run_metrics=best_run.get_metrics()\r\n",
        "\r\n",
        "best_model.register_model(model_name=\"best_automl_model\", model_path=\"./outputs\")"
      ],
      "outputs": [],
      "execution_count": null,
      "metadata": {
        "gather": {
          "logged": 1598431425670
        },
        "jupyter": {
          "outputs_hidden": false,
          "source_hidden": false
        },
        "nteract": {
          "transient": {
            "deleting": false
          }
        }
      }
    },
    {
      "cell_type": "code",
      "source": [
        "#TODO: Save the best model"
      ],
      "outputs": [],
      "execution_count": null,
      "metadata": {
        "gather": {
          "logged": 1598431426111
        },
        "jupyter": {
          "outputs_hidden": false,
          "source_hidden": false
        },
        "nteract": {
          "transient": {
            "deleting": false
          }
        }
      }
    },
    {
      "cell_type": "markdown",
      "source": [
        "## Model Deployment\n",
        "\n",
        "Remember you have to deploy only one of the two models you trained but you still need to register both the models. Perform the steps in the rest of this notebook only if you wish to deploy this model.\n",
        "\n",
        "TODO: In the cell below, register the model, create an inference config and deploy the model as a web service."
      ],
      "metadata": {}
    },
    {
      "cell_type": "code",
      "source": [],
      "outputs": [],
      "execution_count": null,
      "metadata": {
        "gather": {
          "logged": 1598431435189
        },
        "jupyter": {
          "outputs_hidden": false,
          "source_hidden": false
        },
        "nteract": {
          "transient": {
            "deleting": false
          }
        }
      }
    },
    {
      "cell_type": "markdown",
      "source": [
        "TODO: In the cell below, send a request to the web service you deployed to test it."
      ],
      "metadata": {
        "collapsed": true,
        "gather": {
          "logged": 1598431657736
        },
        "jupyter": {
          "outputs_hidden": false,
          "source_hidden": false
        },
        "nteract": {
          "transient": {
            "deleting": false
          }
        }
      }
    },
    {
      "cell_type": "code",
      "source": [],
      "outputs": [],
      "execution_count": null,
      "metadata": {
        "gather": {
          "logged": 1598432707604
        },
        "jupyter": {
          "outputs_hidden": false,
          "source_hidden": false
        },
        "nteract": {
          "transient": {
            "deleting": false
          }
        }
      }
    },
    {
      "cell_type": "markdown",
      "source": [
        "TODO: In the cell below, print the logs of the web service and delete the service"
      ],
      "metadata": {
        "collapsed": true,
        "gather": {
          "logged": 1598432765711
        },
        "jupyter": {
          "outputs_hidden": false,
          "source_hidden": false
        },
        "nteract": {
          "transient": {
            "deleting": false
          }
        }
      }
    },
    {
      "cell_type": "code",
      "source": [],
      "outputs": [],
      "execution_count": null,
      "metadata": {
        "jupyter": {
          "outputs_hidden": false,
          "source_hidden": false
        },
        "nteract": {
          "transient": {
            "deleting": false
          }
        }
      }
    },
    {
      "cell_type": "markdown",
      "source": [
        "**Submission Checklist**\n",
        "- I have registered the model.\n",
        "- I have deployed the model with the best accuracy as a webservice.\n",
        "- I have tested the webservice by sending a request to the model endpoint.\n",
        "- I have deleted the webservice and shutdown all the computes that I have used.\n",
        "- I have taken a screenshot showing the model endpoint as active.\n",
        "- The project includes a file containing the environment details.\n"
      ],
      "metadata": {}
    },
    {
      "cell_type": "markdown",
      "source": [],
      "metadata": {}
    }
  ],
  "metadata": {
    "kernel_info": {
      "name": "python3"
    },
    "kernelspec": {
      "name": "python3",
      "language": "python",
      "display_name": "Python 3"
    },
    "language_info": {
      "name": "python",
      "version": "3.8.1",
      "mimetype": "text/x-python",
      "codemirror_mode": {
        "name": "ipython",
        "version": 3
      },
      "pygments_lexer": "ipython3",
      "nbconvert_exporter": "python",
      "file_extension": ".py"
    },
    "nteract": {
      "version": "nteract-front-end@1.0.0"
    },
    "microsoft": {
      "host": {
        "AzureML": {
          "notebookHasBeenCompleted": true
        }
      }
    }
  },
  "nbformat": 4,
  "nbformat_minor": 2
}